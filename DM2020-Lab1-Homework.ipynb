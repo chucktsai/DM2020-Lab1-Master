{
 "cells": [
  {
   "cell_type": "markdown",
   "metadata": {},
   "source": [
    "### Student Information\n",
    "Name: 蔡沅珈 Tsai, Yuan-Chia\n",
    "\n",
    "Student ID: 109164503\n",
    "\n",
    "GitHub ID: 45623944"
   ]
  },
  {
   "cell_type": "markdown",
   "metadata": {},
   "source": [
    "---"
   ]
  },
  {
   "cell_type": "markdown",
   "metadata": {},
   "source": [
    "### Instructions"
   ]
  },
  {
   "cell_type": "markdown",
   "metadata": {},
   "source": [
    "1. First: do the **take home** exercises in the [DM2020-Lab1-Master Repo](https://github.com/fhcalderon87/DM2020-Lab1-Master). You may need to copy some cells from the Lab notebook to this notebook. __This part is worth 20% of your grade.__\n",
    "\n",
    "\n",
    "2. Second: follow the same process from the [DM2020-Lab1-Master Repo](https://github.com/fhcalderon87/DM2020-Lab1-Master) on **the new dataset**. You don't need to explain all details as we did (some **minimal comments** explaining your code are useful though).  __This part is worth 30% of your grade.__\n",
    "    - Download the [the new dataset](https://archive.ics.uci.edu/ml/datasets/Sentiment+Labelled+Sentences#). The dataset contains a `sentence` and `score` label. Read the specificiations of the dataset for details. \n",
    "    - You are allowed to use and modify the `helper` functions in the folder of the first lab session (notice they may need modification) or create your own.\n",
    "\n",
    "\n",
    "3. Third: please attempt the following tasks on **the new dataset**. __This part is worth 30% of your grade.__\n",
    "    - Generate meaningful **new data visualizations**. Refer to online resources and the Data Mining textbook for inspiration and ideas. \n",
    "    - Generate **TF-IDF features** from the tokens of each text. This will generating a document matrix, however, the weights will be computed differently (using the TF-IDF value of each word per document as opposed to the word frequency). Refer to this Sciki-learn [guide](http://scikit-learn.org/stable/modules/generated/sklearn.feature_extraction.text.TfidfVectorizer.html) .\n",
    "    - Implement a simple **Naive Bayes classifier** that automatically classifies the records into their categories. Use both the TF-IDF features and word frequency features to build two seperate classifiers. Comment on the differences.  Refer to this [article](https://hub.packtpub.com/implementing-3-naive-bayes-classifiers-in-scikit-learn/).\n",
    "\n",
    "\n",
    "4. Fourth: In the lab, we applied each step really quickly just to illustrate how to work with your dataset. There are somethings that are not ideal or the most efficient/meaningful. Each dataset can be habdled differently as well. What are those inefficent parts you noticed? How can you improve the Data preprocessing for these specific datasets? __This part is worth 10% of your grade.__\n",
    "\n",
    "\n",
    "5. Fifth: It's hard for us to follow if your code is messy :'(, so please **tidy up your notebook** and **add minimal comments where needed**. __This part is worth 10% of your grade.__\n",
    "\n",
    "\n",
    "You can submit your homework following these guidelines: [Git Intro & How to hand your homework](https://github.com/fhcalderon87/DM2020-Lab1-Master/blob/master/Git%20Intro%20%26%20How%20to%20hand%20your%20homework.ipynb). Make sure to commit and save your changes to your repository __BEFORE the deadline (Oct. 22th 11:59 pm, Thursday)__. "
   ]
  },
  {
   "cell_type": "markdown",
   "metadata": {},
   "source": [
    "# Part 1"
   ]
  },
  {
   "cell_type": "markdown",
   "metadata": {},
   "source": [
    "# Exercise 1"
   ]
  },
  {
   "cell_type": "code",
   "execution_count": 2,
   "metadata": {},
   "outputs": [
    {
     "ename": "NameError",
     "evalue": "name 'X' is not defined",
     "output_type": "error",
     "traceback": [
      "\u001b[1;31m---------------------------------------------------------------------------\u001b[0m",
      "\u001b[1;31mNameError\u001b[0m                                 Traceback (most recent call last)",
      "\u001b[1;32m<ipython-input-2-bde6c49f2861>\u001b[0m in \u001b[0;36m<module>\u001b[1;34m\u001b[0m\n\u001b[1;32m----> 1\u001b[1;33m \u001b[0mX\u001b[0m\u001b[1;33m.\u001b[0m\u001b[0mcolumns\u001b[0m \u001b[1;33m=\u001b[0m \u001b[1;33m[\u001b[0m\u001b[0mcolumn\u001b[0m\u001b[1;33m.\u001b[0m\u001b[0mreplace\u001b[0m\u001b[1;33m(\u001b[0m\u001b[1;34m\" \"\u001b[0m\u001b[1;33m,\u001b[0m \u001b[1;34m\"_\"\u001b[0m\u001b[1;33m)\u001b[0m \u001b[1;32mfor\u001b[0m \u001b[0mcolumn\u001b[0m \u001b[1;32min\u001b[0m \u001b[0mX\u001b[0m\u001b[1;33m.\u001b[0m\u001b[0mcolumns\u001b[0m\u001b[1;33m]\u001b[0m\u001b[1;33m\u001b[0m\u001b[1;33m\u001b[0m\u001b[0m\n\u001b[0m\u001b[0;32m      2\u001b[0m \u001b[1;33m\u001b[0m\u001b[0m\n\u001b[0;32m      3\u001b[0m \u001b[1;31m# using query method and print result\u001b[0m\u001b[1;33m\u001b[0m\u001b[1;33m\u001b[0m\u001b[1;33m\u001b[0m\u001b[0m\n\u001b[0;32m      4\u001b[0m \u001b[0mprint\u001b[0m\u001b[1;33m(\u001b[0m\u001b[0mX\u001b[0m\u001b[1;33m.\u001b[0m\u001b[0mquery\u001b[0m\u001b[1;33m(\u001b[0m\u001b[1;34m'category == 1'\u001b[0m\u001b[1;33m,\u001b[0m \u001b[0minplace\u001b[0m \u001b[1;33m=\u001b[0m \u001b[1;32mFalse\u001b[0m\u001b[1;33m)\u001b[0m\u001b[1;33m)\u001b[0m\u001b[1;33m\u001b[0m\u001b[1;33m\u001b[0m\u001b[0m\n",
      "\u001b[1;31mNameError\u001b[0m: name 'X' is not defined"
     ]
    }
   ],
   "source": [
    "X.columns = [column.replace(\" \", \"_\") for column in X.columns]\n",
    "  \n",
    "# using query method and print result\n",
    "print(X.query('category == 1', inplace = False))"
   ]
  },
  {
   "cell_type": "markdown",
   "metadata": {},
   "source": [
    "# Exercise 2"
   ]
  },
  {
   "cell_type": "markdown",
   "metadata": {},
   "source": [
    "For .isnull(), it just check if there is ' ' after 'missing_example':, so even id F has nothing in ' ', but if there is ' ' after 'missing_example':, we will get the result False which means this is not a missing value."
   ]
  },
  {
   "cell_type": "markdown",
   "metadata": {},
   "source": [
    "# Exercise 3"
   ]
  },
  {
   "cell_type": "markdown",
   "metadata": {},
   "source": [
    "For sampling method, the data set will change each time once we run the code again, and because it is random, we can not sure if X_sample can well represent the data X. Of course when the data set is smaller, we can get the analysis result faster."
   ]
  },
  {
   "cell_type": "markdown",
   "metadata": {},
   "source": [
    "# Exercise 4"
   ]
  },
  {
   "cell_type": "code",
   "execution_count": 3,
   "metadata": {},
   "outputs": [
    {
     "ename": "NameError",
     "evalue": "name 'plt' is not defined",
     "output_type": "error",
     "traceback": [
      "\u001b[1;31m---------------------------------------------------------------------------\u001b[0m",
      "\u001b[1;31mNameError\u001b[0m                                 Traceback (most recent call last)",
      "\u001b[1;32m<ipython-input-3-9263f49f140b>\u001b[0m in \u001b[0;36m<module>\u001b[1;34m\u001b[0m\n\u001b[0;32m      1\u001b[0m \u001b[1;31m# plot barchart for X and X_sample\u001b[0m\u001b[1;33m\u001b[0m\u001b[1;33m\u001b[0m\u001b[1;33m\u001b[0m\u001b[0m\n\u001b[0;32m      2\u001b[0m \u001b[0mwidth\u001b[0m \u001b[1;33m=\u001b[0m \u001b[1;36m0.2\u001b[0m\u001b[1;33m\u001b[0m\u001b[1;33m\u001b[0m\u001b[0m\n\u001b[1;32m----> 3\u001b[1;33m \u001b[0mplt\u001b[0m\u001b[1;33m.\u001b[0m\u001b[0mbar\u001b[0m\u001b[1;33m(\u001b[0m\u001b[0mnp\u001b[0m\u001b[1;33m.\u001b[0m\u001b[0marange\u001b[0m\u001b[1;33m(\u001b[0m\u001b[0mlen\u001b[0m\u001b[1;33m(\u001b[0m\u001b[0mX\u001b[0m\u001b[1;33m.\u001b[0m\u001b[0mcategory_name\u001b[0m\u001b[1;33m.\u001b[0m\u001b[0mvalue_counts\u001b[0m\u001b[1;33m(\u001b[0m\u001b[1;33m)\u001b[0m\u001b[1;33m)\u001b[0m\u001b[1;33m)\u001b[0m\u001b[1;33m,\u001b[0m \u001b[0mX\u001b[0m\u001b[1;33m.\u001b[0m\u001b[0mcategory_name\u001b[0m\u001b[1;33m.\u001b[0m\u001b[0mvalue_counts\u001b[0m\u001b[1;33m(\u001b[0m\u001b[1;33m)\u001b[0m\u001b[1;33m,\u001b[0m \u001b[0mwidth\u001b[0m \u001b[1;33m=\u001b[0m \u001b[0mwidth\u001b[0m\u001b[1;33m)\u001b[0m\u001b[1;33m\u001b[0m\u001b[1;33m\u001b[0m\u001b[0m\n\u001b[0m\u001b[0;32m      4\u001b[0m \u001b[0mplt\u001b[0m\u001b[1;33m.\u001b[0m\u001b[0mbar\u001b[0m\u001b[1;33m(\u001b[0m\u001b[0mnp\u001b[0m\u001b[1;33m.\u001b[0m\u001b[0marange\u001b[0m\u001b[1;33m(\u001b[0m\u001b[0mlen\u001b[0m\u001b[1;33m(\u001b[0m\u001b[0mX_sample\u001b[0m\u001b[1;33m.\u001b[0m\u001b[0mcategory_name\u001b[0m\u001b[1;33m.\u001b[0m\u001b[0mvalue_counts\u001b[0m\u001b[1;33m(\u001b[0m\u001b[1;33m)\u001b[0m\u001b[1;33m)\u001b[0m\u001b[1;33m)\u001b[0m \u001b[1;33m+\u001b[0m \u001b[0mwidth\u001b[0m\u001b[1;33m,\u001b[0m \u001b[0mX_sample\u001b[0m\u001b[1;33m.\u001b[0m\u001b[0mcategory_name\u001b[0m\u001b[1;33m.\u001b[0m\u001b[0mvalue_counts\u001b[0m\u001b[1;33m(\u001b[0m\u001b[1;33m)\u001b[0m\u001b[1;33m,\u001b[0m \u001b[0mwidth\u001b[0m \u001b[1;33m=\u001b[0m \u001b[0mwidth\u001b[0m\u001b[1;33m,\u001b[0m \u001b[0mcolor\u001b[0m \u001b[1;33m=\u001b[0m \u001b[1;34m'orange'\u001b[0m\u001b[1;33m)\u001b[0m\u001b[1;33m\u001b[0m\u001b[1;33m\u001b[0m\u001b[0m\n\u001b[0;32m      5\u001b[0m \u001b[0mplt\u001b[0m\u001b[1;33m.\u001b[0m\u001b[0mtitle\u001b[0m\u001b[1;33m(\u001b[0m\u001b[1;34m'Category distribution'\u001b[0m\u001b[1;33m)\u001b[0m\u001b[1;33m\u001b[0m\u001b[1;33m\u001b[0m\u001b[0m\n",
      "\u001b[1;31mNameError\u001b[0m: name 'plt' is not defined"
     ]
    }
   ],
   "source": [
    "# plot barchart for X and X_sample\n",
    "width = 0.2\n",
    "plt.bar(np.arange(len(X.category_name.value_counts())), X.category_name.value_counts(), width = width)\n",
    "plt.bar(np.arange(len(X_sample.category_name.value_counts())) + width, X_sample.category_name.value_counts(), width = width, color = 'orange')\n",
    "plt.title('Category distribution')\n",
    "plt.xticks(np.arange(4), ('soc.religion.christian', 'sci.med', 'comp.graphics', 'alt.atheism'))\n",
    "plt.legend(('category_name', 'category_name'))"
   ]
  },
  {
   "cell_type": "markdown",
   "metadata": {},
   "source": [
    "# Exercise 5"
   ]
  },
  {
   "cell_type": "code",
   "execution_count": 4,
   "metadata": {},
   "outputs": [
    {
     "ename": "NameError",
     "evalue": "name 'X_counts' is not defined",
     "output_type": "error",
     "traceback": [
      "\u001b[1;31m---------------------------------------------------------------------------\u001b[0m",
      "\u001b[1;31mNameError\u001b[0m                                 Traceback (most recent call last)",
      "\u001b[1;32m<ipython-input-4-adada86a72b2>\u001b[0m in \u001b[0;36m<module>\u001b[1;34m\u001b[0m\n\u001b[1;32m----> 1\u001b[1;33m \u001b[0mprint\u001b[0m\u001b[1;33m(\u001b[0m\u001b[0mX_counts\u001b[0m\u001b[1;33m[\u001b[0m\u001b[1;36m0\u001b[0m\u001b[1;33m:\u001b[0m\u001b[1;36m5\u001b[0m\u001b[1;33m,\u001b[0m \u001b[1;36m0\u001b[0m\u001b[1;33m:\u001b[0m\u001b[1;36m100\u001b[0m\u001b[1;33m]\u001b[0m\u001b[1;33m)\u001b[0m\u001b[1;33m\u001b[0m\u001b[1;33m\u001b[0m\u001b[0m\n\u001b[0m\u001b[0;32m      2\u001b[0m \u001b[0mcount_vect\u001b[0m\u001b[1;33m.\u001b[0m\u001b[0mget_feature_names\u001b[0m\u001b[1;33m(\u001b[0m\u001b[1;33m)\u001b[0m\u001b[1;33m[\u001b[0m\u001b[1;36m37\u001b[0m\u001b[1;33m:\u001b[0m\u001b[1;36m38\u001b[0m\u001b[1;33m]\u001b[0m\u001b[1;33m\u001b[0m\u001b[1;33m\u001b[0m\u001b[0m\n\u001b[0;32m      3\u001b[0m \u001b[1;31m# another 1 in the same record represents the 01 term.\u001b[0m\u001b[1;33m\u001b[0m\u001b[1;33m\u001b[0m\u001b[1;33m\u001b[0m\u001b[0m\n",
      "\u001b[1;31mNameError\u001b[0m: name 'X_counts' is not defined"
     ]
    }
   ],
   "source": [
    "print(X_counts[0:5, 0:100])\n",
    "count_vect.get_feature_names()[37:38]\n",
    "# another 1 in the same record represents the 01 term."
   ]
  },
  {
   "cell_type": "markdown",
   "metadata": {},
   "source": [
    "# Exercise 6"
   ]
  },
  {
   "cell_type": "code",
   "execution_count": 5,
   "metadata": {},
   "outputs": [
    {
     "ename": "NameError",
     "evalue": "name 'count_vect' is not defined",
     "output_type": "error",
     "traceback": [
      "\u001b[1;31m---------------------------------------------------------------------------\u001b[0m",
      "\u001b[1;31mNameError\u001b[0m                                 Traceback (most recent call last)",
      "\u001b[1;32m<ipython-input-5-9d6b1d953145>\u001b[0m in \u001b[0;36m<module>\u001b[1;34m\u001b[0m\n\u001b[1;32m----> 1\u001b[1;33m \u001b[0mplot_x1\u001b[0m \u001b[1;33m=\u001b[0m \u001b[1;33m[\u001b[0m\u001b[1;34m\"term_\"\u001b[0m\u001b[1;33m+\u001b[0m\u001b[0mstr\u001b[0m\u001b[1;33m(\u001b[0m\u001b[0mi\u001b[0m\u001b[1;33m)\u001b[0m \u001b[1;32mfor\u001b[0m \u001b[0mi\u001b[0m \u001b[1;32min\u001b[0m \u001b[0mcount_vect\u001b[0m\u001b[1;33m.\u001b[0m\u001b[0mget_feature_names\u001b[0m\u001b[1;33m(\u001b[0m\u001b[1;33m)\u001b[0m\u001b[1;33m[\u001b[0m\u001b[1;36m0\u001b[0m\u001b[1;33m:\u001b[0m\u001b[1;36m100\u001b[0m\u001b[1;33m]\u001b[0m\u001b[1;33m]\u001b[0m\u001b[1;33m\u001b[0m\u001b[1;33m\u001b[0m\u001b[0m\n\u001b[0m\u001b[0;32m      2\u001b[0m \u001b[0mplot_y1\u001b[0m \u001b[1;33m=\u001b[0m \u001b[1;33m[\u001b[0m\u001b[1;34m\"doc_\"\u001b[0m\u001b[1;33m+\u001b[0m \u001b[0mstr\u001b[0m\u001b[1;33m(\u001b[0m\u001b[0mi\u001b[0m\u001b[1;33m)\u001b[0m \u001b[1;32mfor\u001b[0m \u001b[0mi\u001b[0m \u001b[1;32min\u001b[0m \u001b[0mlist\u001b[0m\u001b[1;33m(\u001b[0m\u001b[0mX\u001b[0m\u001b[1;33m.\u001b[0m\u001b[0mindex\u001b[0m\u001b[1;33m)\u001b[0m\u001b[1;33m[\u001b[0m\u001b[1;36m0\u001b[0m\u001b[1;33m:\u001b[0m\u001b[1;36m100\u001b[0m\u001b[1;33m]\u001b[0m\u001b[1;33m]\u001b[0m\u001b[1;33m\u001b[0m\u001b[1;33m\u001b[0m\u001b[0m\n\u001b[0;32m      3\u001b[0m \u001b[0mplot_z1\u001b[0m \u001b[1;33m=\u001b[0m \u001b[0mX_counts\u001b[0m\u001b[1;33m[\u001b[0m\u001b[1;36m0\u001b[0m\u001b[1;33m:\u001b[0m\u001b[1;36m100\u001b[0m\u001b[1;33m,\u001b[0m \u001b[1;36m0\u001b[0m\u001b[1;33m:\u001b[0m\u001b[1;36m100\u001b[0m\u001b[1;33m]\u001b[0m\u001b[1;33m.\u001b[0m\u001b[0mtoarray\u001b[0m\u001b[1;33m(\u001b[0m\u001b[1;33m)\u001b[0m\u001b[1;33m\u001b[0m\u001b[1;33m\u001b[0m\u001b[0m\n\u001b[0;32m      4\u001b[0m \u001b[1;33m\u001b[0m\u001b[0m\n\u001b[0;32m      5\u001b[0m \u001b[0mdf_todraw\u001b[0m \u001b[1;33m=\u001b[0m \u001b[0mpd\u001b[0m\u001b[1;33m.\u001b[0m\u001b[0mDataFrame\u001b[0m\u001b[1;33m(\u001b[0m\u001b[0mplot_z1\u001b[0m\u001b[1;33m,\u001b[0m \u001b[0mcolumns\u001b[0m \u001b[1;33m=\u001b[0m \u001b[0mplot_x1\u001b[0m\u001b[1;33m,\u001b[0m \u001b[0mindex\u001b[0m \u001b[1;33m=\u001b[0m \u001b[0mplot_y1\u001b[0m\u001b[1;33m)\u001b[0m\u001b[1;33m\u001b[0m\u001b[1;33m\u001b[0m\u001b[0m\n",
      "\u001b[1;31mNameError\u001b[0m: name 'count_vect' is not defined"
     ]
    }
   ],
   "source": [
    "plot_x1 = [\"term_\"+str(i) for i in count_vect.get_feature_names()[0:100]]\n",
    "plot_y1 = [\"doc_\"+ str(i) for i in list(X.index)[0:100]]\n",
    "plot_z1 = X_counts[0:100, 0:100].toarray()\n",
    "\n",
    "df_todraw = pd.DataFrame(plot_z1, columns = plot_x1, index = plot_y1)\n",
    "plt.subplots(figsize=(25, 17))\n",
    "ax = sns.heatmap(df_todraw,\n",
    "                 cmap=\"PuRd\",\n",
    "                 vmin=0, vmax=1, annot=True, mask=df_todraw<1)\n",
    "# we can add mask to let tons of zero disappear, this may much clear to see where 1 is. Also get the plot bigger will also help us to see the plot clearly."
   ]
  },
  {
   "cell_type": "markdown",
   "metadata": {},
   "source": [
    "# Exercise 7"
   ]
  },
  {
   "cell_type": "code",
   "execution_count": 1,
   "metadata": {},
   "outputs": [
    {
     "ename": "NameError",
     "evalue": "name 'PCA' is not defined",
     "output_type": "error",
     "traceback": [
      "\u001b[1;31m---------------------------------------------------------------------------\u001b[0m",
      "\u001b[1;31mNameError\u001b[0m                                 Traceback (most recent call last)",
      "\u001b[1;32m<ipython-input-1-aabe2d5c6557>\u001b[0m in \u001b[0;36m<module>\u001b[1;34m\u001b[0m\n\u001b[0;32m      4\u001b[0m \u001b[0mfig\u001b[0m \u001b[1;33m=\u001b[0m \u001b[0mplt\u001b[0m\u001b[1;33m.\u001b[0m\u001b[0mfigure\u001b[0m\u001b[1;33m(\u001b[0m\u001b[1;33m)\u001b[0m\u001b[1;33m\u001b[0m\u001b[1;33m\u001b[0m\u001b[0m\n\u001b[0;32m      5\u001b[0m \u001b[0max\u001b[0m \u001b[1;33m=\u001b[0m \u001b[0mfig\u001b[0m\u001b[1;33m.\u001b[0m\u001b[0madd_subplot\u001b[0m\u001b[1;33m(\u001b[0m\u001b[0mprojection\u001b[0m\u001b[1;33m=\u001b[0m\u001b[1;34m'3d'\u001b[0m\u001b[1;33m)\u001b[0m\u001b[1;33m\u001b[0m\u001b[1;33m\u001b[0m\u001b[0m\n\u001b[1;32m----> 6\u001b[1;33m \u001b[0mX_reduced1\u001b[0m \u001b[1;33m=\u001b[0m \u001b[0mPCA\u001b[0m\u001b[1;33m(\u001b[0m\u001b[0mn_components\u001b[0m \u001b[1;33m=\u001b[0m \u001b[1;36m3\u001b[0m\u001b[1;33m)\u001b[0m\u001b[1;33m.\u001b[0m\u001b[0mfit_transform\u001b[0m\u001b[1;33m(\u001b[0m\u001b[0mX_counts\u001b[0m\u001b[1;33m.\u001b[0m\u001b[0mtoarray\u001b[0m\u001b[1;33m(\u001b[0m\u001b[1;33m)\u001b[0m\u001b[1;33m)\u001b[0m\u001b[1;33m\u001b[0m\u001b[1;33m\u001b[0m\u001b[0m\n\u001b[0m\u001b[0;32m      7\u001b[0m \u001b[1;33m\u001b[0m\u001b[0m\n\u001b[0;32m      8\u001b[0m \u001b[1;31m# Grab some test data.\u001b[0m\u001b[1;33m\u001b[0m\u001b[1;33m\u001b[0m\u001b[1;33m\u001b[0m\u001b[0m\n",
      "\u001b[1;31mNameError\u001b[0m: name 'PCA' is not defined"
     ]
    },
    {
     "data": {
      "image/png": "[encoded data removed]",
      "text/plain": [
       "<Figure size 432x288 with 1 Axes>"
      ]
     },
     "metadata": {
      "needs_background": "light"
     },
     "output_type": "display_data"
    }
   ],
   "source": [
    "import matplotlib.pyplot as plt\n",
    "from mpl_toolkits.mplot3d import Axes3D\n",
    "\n",
    "fig = plt.figure()\n",
    "ax = fig.add_subplot(projection='3d')\n",
    "X_reduced1 = PCA(n_components = 3).fit_transform(X_counts.toarray())\n",
    "\n",
    "# Grab some test data.\n",
    "for c, category in zip(col, categories):\n",
    "    xs = X_reduced1[X['category_name'] == category].T[0]\n",
    "    ys = X_reduced1[X['category_name'] == category].T[1]\n",
    "    zs = X_reduced1[X['category_name'] == category].T[2]\n",
    "   \n",
    "    ax.scatter(xs, ys, zs, c = c, marker='o')\n",
    "    \n",
    "# Plot a basic wireframe.\n",
    "ax.grid(color='gray', linestyle=':', linewidth=2, alpha=0.2)\n",
    "ax.set_xlabel('\\nX Label')\n",
    "ax.set_ylabel('\\nY Label')\n",
    "ax.set_zlabel('\\nZ Label')\n",
    "\n",
    "for ii in range(0,360,1):\n",
    "    ax.view_init(elev=10., azim=ii)\n",
    "plt.show()\n",
    "\n",
    "# we can change elev=10 to 1 and 100 to see different angle of the plot. For 3D plot, the points may gather closer instead of 2D plot. "
   ]
  },
  {
   "cell_type": "markdown",
   "metadata": {},
   "source": [
    "# Exercise 8"
   ]
  },
  {
   "cell_type": "code",
   "execution_count": 2,
   "metadata": {},
   "outputs": [
    {
     "ename": "NameError",
     "evalue": "name 'count_vect' is not defined",
     "output_type": "error",
     "traceback": [
      "\u001b[1;31m---------------------------------------------------------------------------\u001b[0m",
      "\u001b[1;31mNameError\u001b[0m                                 Traceback (most recent call last)",
      "\u001b[1;32m<ipython-input-2-0438e1feddcb>\u001b[0m in \u001b[0;36m<module>\u001b[1;34m\u001b[0m\n\u001b[0;32m      1\u001b[0m \u001b[1;32mimport\u001b[0m \u001b[0mplotly\u001b[0m\u001b[1;33m.\u001b[0m\u001b[0mgraph_objects\u001b[0m \u001b[1;32mas\u001b[0m \u001b[0mgo\u001b[0m\u001b[1;33m\u001b[0m\u001b[1;33m\u001b[0m\u001b[0m\n\u001b[1;32m----> 2\u001b[1;33m \u001b[0mbar_plots\u001b[0m \u001b[1;33m=\u001b[0m \u001b[1;33m[\u001b[0m\u001b[0mgo\u001b[0m\u001b[1;33m.\u001b[0m\u001b[0mBar\u001b[0m\u001b[1;33m(\u001b[0m\u001b[0mx\u001b[0m\u001b[1;33m=\u001b[0m\u001b[0mcount_vect\u001b[0m\u001b[1;33m.\u001b[0m\u001b[0mget_feature_names\u001b[0m\u001b[1;33m(\u001b[0m\u001b[1;33m)\u001b[0m\u001b[1;33m[\u001b[0m\u001b[1;33m:\u001b[0m\u001b[1;36m300\u001b[0m\u001b[1;33m]\u001b[0m\u001b[1;33m,\u001b[0m \u001b[0my\u001b[0m\u001b[1;33m=\u001b[0m\u001b[0mterm_frequencies\u001b[0m\u001b[1;33m[\u001b[0m\u001b[1;33m:\u001b[0m\u001b[1;36m300\u001b[0m\u001b[1;33m]\u001b[0m\u001b[1;33m,\u001b[0m \u001b[0mmarker\u001b[0m\u001b[1;33m=\u001b[0m\u001b[0mgo\u001b[0m\u001b[1;33m.\u001b[0m\u001b[0mbar\u001b[0m\u001b[1;33m.\u001b[0m\u001b[0mMarker\u001b[0m\u001b[1;33m(\u001b[0m\u001b[0mcolor\u001b[0m\u001b[1;33m=\u001b[0m\u001b[1;34m'#0343df'\u001b[0m\u001b[1;33m)\u001b[0m\u001b[1;33m)\u001b[0m\u001b[1;33m]\u001b[0m\u001b[1;33m\u001b[0m\u001b[1;33m\u001b[0m\u001b[0m\n\u001b[0m\u001b[0;32m      3\u001b[0m \u001b[0mfig\u001b[0m \u001b[1;33m=\u001b[0m \u001b[0mgo\u001b[0m\u001b[1;33m.\u001b[0m\u001b[0mFigure\u001b[0m\u001b[1;33m(\u001b[0m\u001b[0mdata\u001b[0m\u001b[1;33m=\u001b[0m\u001b[0mbar_plots\u001b[0m\u001b[1;33m)\u001b[0m\u001b[1;33m\u001b[0m\u001b[1;33m\u001b[0m\u001b[0m\n\u001b[0;32m      4\u001b[0m \u001b[0mfig\u001b[0m\u001b[1;33m.\u001b[0m\u001b[0mshow\u001b[0m\u001b[1;33m(\u001b[0m\u001b[1;33m)\u001b[0m\u001b[1;33m\u001b[0m\u001b[1;33m\u001b[0m\u001b[0m\n",
      "\u001b[1;31mNameError\u001b[0m: name 'count_vect' is not defined"
     ]
    }
   ],
   "source": [
    "import plotly.graph_objects as go\n",
    "bar_plots = [go.Bar(x=count_vect.get_feature_names()[:300], y=term_frequencies[:300], marker=go.bar.Marker(color='#0343df'))]\n",
    "fig = go.Figure(data=bar_plots)\n",
    "fig.show()"
   ]
  },
  {
   "cell_type": "markdown",
   "metadata": {},
   "source": [
    "# Exercise 9"
   ]
  },
  {
   "cell_type": "code",
   "execution_count": 3,
   "metadata": {},
   "outputs": [
    {
     "ename": "NameError",
     "evalue": "name 'term_frequencies' is not defined",
     "output_type": "error",
     "traceback": [
      "\u001b[1;31m---------------------------------------------------------------------------\u001b[0m",
      "\u001b[1;31mNameError\u001b[0m                                 Traceback (most recent call last)",
      "\u001b[1;32m<ipython-input-3-f405030bd8be>\u001b[0m in \u001b[0;36m<module>\u001b[1;34m\u001b[0m\n\u001b[1;32m----> 1\u001b[1;33m \u001b[0mnew_term_frequencies\u001b[0m \u001b[1;33m=\u001b[0m \u001b[0mterm_frequencies\u001b[0m\u001b[1;33m[\u001b[0m\u001b[0mterm_frequencies\u001b[0m \u001b[1;33m>\u001b[0m \u001b[1;36m500\u001b[0m\u001b[1;33m]\u001b[0m\u001b[1;33m\u001b[0m\u001b[1;33m\u001b[0m\u001b[0m\n\u001b[0m\u001b[0;32m      2\u001b[0m \u001b[0mplt\u001b[0m\u001b[1;33m.\u001b[0m\u001b[0msubplots\u001b[0m\u001b[1;33m(\u001b[0m\u001b[0mfigsize\u001b[0m\u001b[1;33m=\u001b[0m\u001b[1;33m(\u001b[0m\u001b[1;36m50\u001b[0m\u001b[1;33m,\u001b[0m \u001b[1;36m10\u001b[0m\u001b[1;33m)\u001b[0m\u001b[1;33m)\u001b[0m\u001b[1;33m\u001b[0m\u001b[1;33m\u001b[0m\u001b[0m\n\u001b[0;32m      3\u001b[0m g = sns.barplot(x=count_vect.get_feature_names()[:50], \n\u001b[0;32m      4\u001b[0m             y=new_term_frequencies[:50])\n\u001b[0;32m      5\u001b[0m \u001b[0mg\u001b[0m\u001b[1;33m.\u001b[0m\u001b[0mset_xticklabels\u001b[0m\u001b[1;33m(\u001b[0m\u001b[0mcount_vect\u001b[0m\u001b[1;33m.\u001b[0m\u001b[0mget_feature_names\u001b[0m\u001b[1;33m(\u001b[0m\u001b[1;33m)\u001b[0m\u001b[1;33m[\u001b[0m\u001b[1;33m:\u001b[0m\u001b[1;36m50\u001b[0m\u001b[1;33m]\u001b[0m\u001b[1;33m,\u001b[0m \u001b[0mrotation\u001b[0m \u001b[1;33m=\u001b[0m \u001b[1;36m90\u001b[0m\u001b[1;33m)\u001b[0m\u001b[1;33m;\u001b[0m\u001b[1;33m\u001b[0m\u001b[1;33m\u001b[0m\u001b[0m\n",
      "\u001b[1;31mNameError\u001b[0m: name 'term_frequencies' is not defined"
     ]
    }
   ],
   "source": [
    "new_term_frequencies = term_frequencies[term_frequencies > 500]\n",
    "plt.subplots(figsize=(50, 10))\n",
    "g = sns.barplot(x=count_vect.get_feature_names()[:50], \n",
    "            y=new_term_frequencies[:50])\n",
    "g.set_xticklabels(count_vect.get_feature_names()[:50], rotation = 90);\n",
    "# find the frequencies which > 500 and draw the plot."
   ]
  },
  {
   "cell_type": "markdown",
   "metadata": {},
   "source": [
    "# Exercise 10"
   ]
  },
  {
   "cell_type": "code",
   "execution_count": 4,
   "metadata": {},
   "outputs": [
    {
     "ename": "NameError",
     "evalue": "name 'term_frequencies' is not defined",
     "output_type": "error",
     "traceback": [
      "\u001b[1;31m---------------------------------------------------------------------------\u001b[0m",
      "\u001b[1;31mNameError\u001b[0m                                 Traceback (most recent call last)",
      "\u001b[1;32m<ipython-input-4-5bdc361f3782>\u001b[0m in \u001b[0;36m<module>\u001b[1;34m\u001b[0m\n\u001b[1;32m----> 1\u001b[1;33m \u001b[0mnew_term_frequencies\u001b[0m \u001b[1;33m=\u001b[0m \u001b[0mterm_frequencies\u001b[0m\u001b[1;33m[\u001b[0m\u001b[0mterm_frequencies\u001b[0m \u001b[1;33m>\u001b[0m \u001b[1;36m500\u001b[0m\u001b[1;33m]\u001b[0m\u001b[1;33m\u001b[0m\u001b[1;33m\u001b[0m\u001b[0m\n\u001b[0m\u001b[0;32m      2\u001b[0m \u001b[0msort\u001b[0m \u001b[1;33m=\u001b[0m \u001b[0mnp\u001b[0m\u001b[1;33m.\u001b[0m\u001b[0margsort\u001b[0m\u001b[1;33m(\u001b[0m\u001b[1;33m-\u001b[0m\u001b[0mnew_term_frequencies\u001b[0m\u001b[1;33m)\u001b[0m\u001b[1;33m\u001b[0m\u001b[1;33m\u001b[0m\u001b[0m\n\u001b[0;32m      3\u001b[0m \u001b[0mplt\u001b[0m\u001b[1;33m.\u001b[0m\u001b[0msubplots\u001b[0m\u001b[1;33m(\u001b[0m\u001b[0mfigsize\u001b[0m\u001b[1;33m=\u001b[0m\u001b[1;33m(\u001b[0m\u001b[1;36m50\u001b[0m\u001b[1;33m,\u001b[0m \u001b[1;36m10\u001b[0m\u001b[1;33m)\u001b[0m\u001b[1;33m)\u001b[0m\u001b[1;33m\u001b[0m\u001b[1;33m\u001b[0m\u001b[0m\n\u001b[0;32m      4\u001b[0m g = sns.barplot(x=np.asarray(count_vect.get_feature_names())[sort[:50]], \n\u001b[0;32m      5\u001b[0m             y=new_term_frequencies[sort[:50]])\n",
      "\u001b[1;31mNameError\u001b[0m: name 'term_frequencies' is not defined"
     ]
    }
   ],
   "source": [
    "new_term_frequencies = term_frequencies[term_frequencies > 500]\n",
    "sort = np.argsort(-new_term_frequencies)\n",
    "plt.subplots(figsize=(50, 10))\n",
    "g = sns.barplot(x=np.asarray(count_vect.get_feature_names())[sort[:50]], \n",
    "            y=new_term_frequencies[sort[:50]])\n",
    "g.set_xticklabels(count_vect.get_feature_names()[:50], rotation = 90);"
   ]
  },
  {
   "cell_type": "markdown",
   "metadata": {},
   "source": [
    "# Exercise 11"
   ]
  },
  {
   "cell_type": "code",
   "execution_count": 7,
   "metadata": {},
   "outputs": [
    {
     "ename": "NameError",
     "evalue": "name 'mlb' is not defined",
     "output_type": "error",
     "traceback": [
      "\u001b[1;31m---------------------------------------------------------------------------\u001b[0m",
      "\u001b[1;31mNameError\u001b[0m                                 Traceback (most recent call last)",
      "\u001b[1;32m<ipython-input-7-633a07cbd40d>\u001b[0m in \u001b[0;36m<module>\u001b[1;34m\u001b[0m\n\u001b[1;32m----> 1\u001b[1;33m \u001b[0mmlb\u001b[0m\u001b[1;33m.\u001b[0m\u001b[0mfit\u001b[0m\u001b[1;33m(\u001b[0m\u001b[0mX\u001b[0m\u001b[1;33m.\u001b[0m\u001b[0mcategory_name\u001b[0m\u001b[1;33m)\u001b[0m\u001b[1;33m\u001b[0m\u001b[1;33m\u001b[0m\u001b[0m\n\u001b[0m\u001b[0;32m      2\u001b[0m \u001b[0mmlb\u001b[0m\u001b[1;33m.\u001b[0m\u001b[0mclasses_\u001b[0m\u001b[1;33m\u001b[0m\u001b[1;33m\u001b[0m\u001b[0m\n\u001b[0;32m      3\u001b[0m \u001b[0mX\u001b[0m\u001b[1;33m[\u001b[0m\u001b[1;34m'bin_category'\u001b[0m\u001b[1;33m]\u001b[0m \u001b[1;33m=\u001b[0m \u001b[0mmlb\u001b[0m\u001b[1;33m.\u001b[0m\u001b[0mtransform\u001b[0m\u001b[1;33m(\u001b[0m\u001b[0mX\u001b[0m\u001b[1;33m[\u001b[0m\u001b[1;34m'category_name'\u001b[0m\u001b[1;33m]\u001b[0m\u001b[1;33m)\u001b[0m\u001b[1;33m.\u001b[0m\u001b[0mtolist\u001b[0m\u001b[1;33m(\u001b[0m\u001b[1;33m)\u001b[0m\u001b[1;33m\u001b[0m\u001b[1;33m\u001b[0m\u001b[0m\n\u001b[0;32m      4\u001b[0m \u001b[0mX\u001b[0m\u001b[1;33m[\u001b[0m\u001b[1;36m0\u001b[0m\u001b[1;33m:\u001b[0m\u001b[1;36m9\u001b[0m\u001b[1;33m]\u001b[0m\u001b[1;33m\u001b[0m\u001b[1;33m\u001b[0m\u001b[0m\n\u001b[0;32m      5\u001b[0m \u001b[1;33m\u001b[0m\u001b[0m\n",
      "\u001b[1;31mNameError\u001b[0m: name 'mlb' is not defined"
     ]
    }
   ],
   "source": [
    "mlb.fit(X.category_name)\n",
    "mlb.classes_\n",
    "X['bin_category'] = mlb.transform(X['category_name']).tolist()\n",
    "X[0:9]\n",
    "\n",
    "# it still work if we change it to category_name."
   ]
  },
  {
   "cell_type": "markdown",
   "metadata": {},
   "source": [
    "# Part 2"
   ]
  },
  {
   "cell_type": "code",
   "execution_count": 152,
   "metadata": {},
   "outputs": [],
   "source": [
    "# transfer the data to csv first, the result is already dataframe.\n",
    "import pandas as pd\n",
    "import os \n",
    "\n",
    "os.chdir('C:\\\\Users\\\\chuck\\\\Downloads\\\\sentiment labelled sentences')\n",
    "amazon = pd.read_csv('amazon_cells_labelled.csv', header = None)"
   ]
  },
  {
   "cell_type": "code",
   "execution_count": 153,
   "metadata": {},
   "outputs": [],
   "source": [
    "# define column name\n",
    "amazon.columns = ['sentence','score']"
   ]
  },
  {
   "cell_type": "code",
   "execution_count": 154,
   "metadata": {},
   "outputs": [],
   "source": [
    "# add category and category_name\n",
    "amazon['category'] = 0\n",
    "amazon['category_name'] = 'amazon'"
   ]
  },
  {
   "cell_type": "code",
   "execution_count": 155,
   "metadata": {},
   "outputs": [
    {
     "data": {
      "text/html": [
       "<div>\n",
       "<style scoped>\n",
       "    .dataframe tbody tr th:only-of-type {\n",
       "        vertical-align: middle;\n",
       "    }\n",
       "\n",
       "    .dataframe tbody tr th {\n",
       "        vertical-align: top;\n",
       "    }\n",
       "\n",
       "    .dataframe thead th {\n",
       "        text-align: right;\n",
       "    }\n",
       "</style>\n",
       "<table border=\"1\" class=\"dataframe\">\n",
       "  <thead>\n",
       "    <tr style=\"text-align: right;\">\n",
       "      <th></th>\n",
       "      <th>sentence</th>\n",
       "      <th>score</th>\n",
       "      <th>category</th>\n",
       "      <th>category_name</th>\n",
       "    </tr>\n",
       "  </thead>\n",
       "  <tbody>\n",
       "    <tr>\n",
       "      <th>0</th>\n",
       "      <td>So there is no way for me to plug it in here i...</td>\n",
       "      <td>0</td>\n",
       "      <td>0</td>\n",
       "      <td>amazon</td>\n",
       "    </tr>\n",
       "    <tr>\n",
       "      <th>1</th>\n",
       "      <td>Good case, Excellent value.</td>\n",
       "      <td>1</td>\n",
       "      <td>0</td>\n",
       "      <td>amazon</td>\n",
       "    </tr>\n",
       "    <tr>\n",
       "      <th>2</th>\n",
       "      <td>Great for the jawbone.</td>\n",
       "      <td>1</td>\n",
       "      <td>0</td>\n",
       "      <td>amazon</td>\n",
       "    </tr>\n",
       "    <tr>\n",
       "      <th>3</th>\n",
       "      <td>Tied to charger for conversations lasting more...</td>\n",
       "      <td>0</td>\n",
       "      <td>0</td>\n",
       "      <td>amazon</td>\n",
       "    </tr>\n",
       "    <tr>\n",
       "      <th>4</th>\n",
       "      <td>The mic is great.</td>\n",
       "      <td>1</td>\n",
       "      <td>0</td>\n",
       "      <td>amazon</td>\n",
       "    </tr>\n",
       "    <tr>\n",
       "      <th>...</th>\n",
       "      <td>...</td>\n",
       "      <td>...</td>\n",
       "      <td>...</td>\n",
       "      <td>...</td>\n",
       "    </tr>\n",
       "    <tr>\n",
       "      <th>995</th>\n",
       "      <td>The screen does get smudged easily because it ...</td>\n",
       "      <td>0</td>\n",
       "      <td>0</td>\n",
       "      <td>amazon</td>\n",
       "    </tr>\n",
       "    <tr>\n",
       "      <th>996</th>\n",
       "      <td>What a piece of junk.. I lose more calls on th...</td>\n",
       "      <td>0</td>\n",
       "      <td>0</td>\n",
       "      <td>amazon</td>\n",
       "    </tr>\n",
       "    <tr>\n",
       "      <th>997</th>\n",
       "      <td>Item Does Not Match Picture.</td>\n",
       "      <td>0</td>\n",
       "      <td>0</td>\n",
       "      <td>amazon</td>\n",
       "    </tr>\n",
       "    <tr>\n",
       "      <th>998</th>\n",
       "      <td>The only thing that disappoint me is the infra...</td>\n",
       "      <td>0</td>\n",
       "      <td>0</td>\n",
       "      <td>amazon</td>\n",
       "    </tr>\n",
       "    <tr>\n",
       "      <th>999</th>\n",
       "      <td>You can not answer calls with the unit, never ...</td>\n",
       "      <td>0</td>\n",
       "      <td>0</td>\n",
       "      <td>amazon</td>\n",
       "    </tr>\n",
       "  </tbody>\n",
       "</table>\n",
       "<p>1000 rows × 4 columns</p>\n",
       "</div>"
      ],
      "text/plain": [
       "                                              sentence  score  category  \\\n",
       "0    So there is no way for me to plug it in here i...      0         0   \n",
       "1                          Good case, Excellent value.      1         0   \n",
       "2                               Great for the jawbone.      1         0   \n",
       "3    Tied to charger for conversations lasting more...      0         0   \n",
       "4                                    The mic is great.      1         0   \n",
       "..                                                 ...    ...       ...   \n",
       "995  The screen does get smudged easily because it ...      0         0   \n",
       "996  What a piece of junk.. I lose more calls on th...      0         0   \n",
       "997                       Item Does Not Match Picture.      0         0   \n",
       "998  The only thing that disappoint me is the infra...      0         0   \n",
       "999  You can not answer calls with the unit, never ...      0         0   \n",
       "\n",
       "    category_name  \n",
       "0          amazon  \n",
       "1          amazon  \n",
       "2          amazon  \n",
       "3          amazon  \n",
       "4          amazon  \n",
       "..            ...  \n",
       "995        amazon  \n",
       "996        amazon  \n",
       "997        amazon  \n",
       "998        amazon  \n",
       "999        amazon  \n",
       "\n",
       "[1000 rows x 4 columns]"
      ]
     },
     "execution_count": 155,
     "metadata": {},
     "output_type": "execute_result"
    }
   ],
   "source": [
    "amazon"
   ]
  },
  {
   "cell_type": "code",
   "execution_count": 156,
   "metadata": {},
   "outputs": [],
   "source": [
    "imdb = pd.read_csv('imdb_labelled.csv', header = None)"
   ]
  },
  {
   "cell_type": "code",
   "execution_count": 157,
   "metadata": {},
   "outputs": [],
   "source": [
    "imdb.columns = ['sentence','score']"
   ]
  },
  {
   "cell_type": "code",
   "execution_count": 158,
   "metadata": {},
   "outputs": [],
   "source": [
    "imdb['category'] = 1\n",
    "imdb['category_name'] = 'imdb'"
   ]
  },
  {
   "cell_type": "code",
   "execution_count": 159,
   "metadata": {},
   "outputs": [
    {
     "data": {
      "text/html": [
       "<div>\n",
       "<style scoped>\n",
       "    .dataframe tbody tr th:only-of-type {\n",
       "        vertical-align: middle;\n",
       "    }\n",
       "\n",
       "    .dataframe tbody tr th {\n",
       "        vertical-align: top;\n",
       "    }\n",
       "\n",
       "    .dataframe thead th {\n",
       "        text-align: right;\n",
       "    }\n",
       "</style>\n",
       "<table border=\"1\" class=\"dataframe\">\n",
       "  <thead>\n",
       "    <tr style=\"text-align: right;\">\n",
       "      <th></th>\n",
       "      <th>sentence</th>\n",
       "      <th>score</th>\n",
       "      <th>category</th>\n",
       "      <th>category_name</th>\n",
       "    </tr>\n",
       "  </thead>\n",
       "  <tbody>\n",
       "    <tr>\n",
       "      <th>0</th>\n",
       "      <td>A very, very, very slow-moving, aimless movie ...</td>\n",
       "      <td>0.0</td>\n",
       "      <td>1</td>\n",
       "      <td>imdb</td>\n",
       "    </tr>\n",
       "    <tr>\n",
       "      <th>1</th>\n",
       "      <td>Not sure who was more lost - the flat characte...</td>\n",
       "      <td>0.0</td>\n",
       "      <td>1</td>\n",
       "      <td>imdb</td>\n",
       "    </tr>\n",
       "    <tr>\n",
       "      <th>2</th>\n",
       "      <td>Attempting artiness with black &amp; white and cle...</td>\n",
       "      <td>0.0</td>\n",
       "      <td>1</td>\n",
       "      <td>imdb</td>\n",
       "    </tr>\n",
       "    <tr>\n",
       "      <th>3</th>\n",
       "      <td>Very little music or anything to speak of.</td>\n",
       "      <td>0.0</td>\n",
       "      <td>1</td>\n",
       "      <td>imdb</td>\n",
       "    </tr>\n",
       "    <tr>\n",
       "      <th>4</th>\n",
       "      <td>The best scene in the movie was when Gerardo i...</td>\n",
       "      <td>1.0</td>\n",
       "      <td>1</td>\n",
       "      <td>imdb</td>\n",
       "    </tr>\n",
       "    <tr>\n",
       "      <th>...</th>\n",
       "      <td>...</td>\n",
       "      <td>...</td>\n",
       "      <td>...</td>\n",
       "      <td>...</td>\n",
       "    </tr>\n",
       "    <tr>\n",
       "      <th>995</th>\n",
       "      <td>I just got bored watching Jessice Lange take h...</td>\n",
       "      <td>0.0</td>\n",
       "      <td>1</td>\n",
       "      <td>imdb</td>\n",
       "    </tr>\n",
       "    <tr>\n",
       "      <th>996</th>\n",
       "      <td>Unfortunately, any virtue in this film's produ...</td>\n",
       "      <td>0.0</td>\n",
       "      <td>1</td>\n",
       "      <td>imdb</td>\n",
       "    </tr>\n",
       "    <tr>\n",
       "      <th>997</th>\n",
       "      <td>In a word, it is embarrassing.</td>\n",
       "      <td>0.0</td>\n",
       "      <td>1</td>\n",
       "      <td>imdb</td>\n",
       "    </tr>\n",
       "    <tr>\n",
       "      <th>998</th>\n",
       "      <td>Exceptionally bad!</td>\n",
       "      <td>0.0</td>\n",
       "      <td>1</td>\n",
       "      <td>imdb</td>\n",
       "    </tr>\n",
       "    <tr>\n",
       "      <th>999</th>\n",
       "      <td>All in all its an insult to one's intelligence...</td>\n",
       "      <td>0.0</td>\n",
       "      <td>1</td>\n",
       "      <td>imdb</td>\n",
       "    </tr>\n",
       "  </tbody>\n",
       "</table>\n",
       "<p>1000 rows × 4 columns</p>\n",
       "</div>"
      ],
      "text/plain": [
       "                                              sentence  score  category  \\\n",
       "0    A very, very, very slow-moving, aimless movie ...    0.0         1   \n",
       "1    Not sure who was more lost - the flat characte...    0.0         1   \n",
       "2    Attempting artiness with black & white and cle...    0.0         1   \n",
       "3         Very little music or anything to speak of.      0.0         1   \n",
       "4    The best scene in the movie was when Gerardo i...    1.0         1   \n",
       "..                                                 ...    ...       ...   \n",
       "995  I just got bored watching Jessice Lange take h...    0.0         1   \n",
       "996  Unfortunately, any virtue in this film's produ...    0.0         1   \n",
       "997                   In a word, it is embarrassing.      0.0         1   \n",
       "998                               Exceptionally bad!      0.0         1   \n",
       "999  All in all its an insult to one's intelligence...    0.0         1   \n",
       "\n",
       "    category_name  \n",
       "0            imdb  \n",
       "1            imdb  \n",
       "2            imdb  \n",
       "3            imdb  \n",
       "4            imdb  \n",
       "..            ...  \n",
       "995          imdb  \n",
       "996          imdb  \n",
       "997          imdb  \n",
       "998          imdb  \n",
       "999          imdb  \n",
       "\n",
       "[1000 rows x 4 columns]"
      ]
     },
     "execution_count": 159,
     "metadata": {},
     "output_type": "execute_result"
    }
   ],
   "source": [
    "imdb"
   ]
  },
  {
   "cell_type": "code",
   "execution_count": 160,
   "metadata": {},
   "outputs": [],
   "source": [
    "yelp = pd.read_csv('yelp_labelled.csv', header = None)"
   ]
  },
  {
   "cell_type": "code",
   "execution_count": 161,
   "metadata": {},
   "outputs": [],
   "source": [
    "yelp.columns = ['sentence','score']"
   ]
  },
  {
   "cell_type": "code",
   "execution_count": 162,
   "metadata": {},
   "outputs": [],
   "source": [
    "yelp['category'] = 2\n",
    "yelp['category_name'] = 'yelp'"
   ]
  },
  {
   "cell_type": "code",
   "execution_count": 163,
   "metadata": {},
   "outputs": [
    {
     "data": {
      "text/html": [
       "<div>\n",
       "<style scoped>\n",
       "    .dataframe tbody tr th:only-of-type {\n",
       "        vertical-align: middle;\n",
       "    }\n",
       "\n",
       "    .dataframe tbody tr th {\n",
       "        vertical-align: top;\n",
       "    }\n",
       "\n",
       "    .dataframe thead th {\n",
       "        text-align: right;\n",
       "    }\n",
       "</style>\n",
       "<table border=\"1\" class=\"dataframe\">\n",
       "  <thead>\n",
       "    <tr style=\"text-align: right;\">\n",
       "      <th></th>\n",
       "      <th>sentence</th>\n",
       "      <th>score</th>\n",
       "      <th>category</th>\n",
       "      <th>category_name</th>\n",
       "    </tr>\n",
       "  </thead>\n",
       "  <tbody>\n",
       "    <tr>\n",
       "      <th>0</th>\n",
       "      <td>Wow... Loved this place.</td>\n",
       "      <td>1</td>\n",
       "      <td>2</td>\n",
       "      <td>yelp</td>\n",
       "    </tr>\n",
       "    <tr>\n",
       "      <th>1</th>\n",
       "      <td>Crust is not good.</td>\n",
       "      <td>0</td>\n",
       "      <td>2</td>\n",
       "      <td>yelp</td>\n",
       "    </tr>\n",
       "    <tr>\n",
       "      <th>2</th>\n",
       "      <td>Not tasty and the texture was just nasty.</td>\n",
       "      <td>0</td>\n",
       "      <td>2</td>\n",
       "      <td>yelp</td>\n",
       "    </tr>\n",
       "    <tr>\n",
       "      <th>3</th>\n",
       "      <td>Stopped by during the late May bank holiday of...</td>\n",
       "      <td>1</td>\n",
       "      <td>2</td>\n",
       "      <td>yelp</td>\n",
       "    </tr>\n",
       "    <tr>\n",
       "      <th>4</th>\n",
       "      <td>The selection on the menu was great and so wer...</td>\n",
       "      <td>1</td>\n",
       "      <td>2</td>\n",
       "      <td>yelp</td>\n",
       "    </tr>\n",
       "    <tr>\n",
       "      <th>...</th>\n",
       "      <td>...</td>\n",
       "      <td>...</td>\n",
       "      <td>...</td>\n",
       "      <td>...</td>\n",
       "    </tr>\n",
       "    <tr>\n",
       "      <th>995</th>\n",
       "      <td>I think food should have flavor and texture an...</td>\n",
       "      <td>0</td>\n",
       "      <td>2</td>\n",
       "      <td>yelp</td>\n",
       "    </tr>\n",
       "    <tr>\n",
       "      <th>996</th>\n",
       "      <td>Appetite instantly gone.</td>\n",
       "      <td>0</td>\n",
       "      <td>2</td>\n",
       "      <td>yelp</td>\n",
       "    </tr>\n",
       "    <tr>\n",
       "      <th>997</th>\n",
       "      <td>Overall I was not impressed and would not go b...</td>\n",
       "      <td>0</td>\n",
       "      <td>2</td>\n",
       "      <td>yelp</td>\n",
       "    </tr>\n",
       "    <tr>\n",
       "      <th>998</th>\n",
       "      <td>The whole experience was underwhelming, and I ...</td>\n",
       "      <td>0</td>\n",
       "      <td>2</td>\n",
       "      <td>yelp</td>\n",
       "    </tr>\n",
       "    <tr>\n",
       "      <th>999</th>\n",
       "      <td>Then, as if I hadn't wasted enough of my life ...</td>\n",
       "      <td>0</td>\n",
       "      <td>2</td>\n",
       "      <td>yelp</td>\n",
       "    </tr>\n",
       "  </tbody>\n",
       "</table>\n",
       "<p>1000 rows × 4 columns</p>\n",
       "</div>"
      ],
      "text/plain": [
       "                                              sentence  score  category  \\\n",
       "0                             Wow... Loved this place.      1         2   \n",
       "1                                   Crust is not good.      0         2   \n",
       "2            Not tasty and the texture was just nasty.      0         2   \n",
       "3    Stopped by during the late May bank holiday of...      1         2   \n",
       "4    The selection on the menu was great and so wer...      1         2   \n",
       "..                                                 ...    ...       ...   \n",
       "995  I think food should have flavor and texture an...      0         2   \n",
       "996                           Appetite instantly gone.      0         2   \n",
       "997  Overall I was not impressed and would not go b...      0         2   \n",
       "998  The whole experience was underwhelming, and I ...      0         2   \n",
       "999  Then, as if I hadn't wasted enough of my life ...      0         2   \n",
       "\n",
       "    category_name  \n",
       "0            yelp  \n",
       "1            yelp  \n",
       "2            yelp  \n",
       "3            yelp  \n",
       "4            yelp  \n",
       "..            ...  \n",
       "995          yelp  \n",
       "996          yelp  \n",
       "997          yelp  \n",
       "998          yelp  \n",
       "999          yelp  \n",
       "\n",
       "[1000 rows x 4 columns]"
      ]
     },
     "execution_count": 163,
     "metadata": {},
     "output_type": "execute_result"
    }
   ],
   "source": [
    "yelp"
   ]
  },
  {
   "cell_type": "code",
   "execution_count": 164,
   "metadata": {},
   "outputs": [],
   "source": [
    "# merge 3 data together\n",
    "data = pd.concat([amazon,imdb,yelp])"
   ]
  },
  {
   "cell_type": "code",
   "execution_count": 165,
   "metadata": {},
   "outputs": [
    {
     "data": {
      "text/html": [
       "<div>\n",
       "<style scoped>\n",
       "    .dataframe tbody tr th:only-of-type {\n",
       "        vertical-align: middle;\n",
       "    }\n",
       "\n",
       "    .dataframe tbody tr th {\n",
       "        vertical-align: top;\n",
       "    }\n",
       "\n",
       "    .dataframe thead th {\n",
       "        text-align: right;\n",
       "    }\n",
       "</style>\n",
       "<table border=\"1\" class=\"dataframe\">\n",
       "  <thead>\n",
       "    <tr style=\"text-align: right;\">\n",
       "      <th></th>\n",
       "      <th>sentence</th>\n",
       "      <th>score</th>\n",
       "      <th>category</th>\n",
       "      <th>category_name</th>\n",
       "    </tr>\n",
       "  </thead>\n",
       "  <tbody>\n",
       "    <tr>\n",
       "      <th>0</th>\n",
       "      <td>So there is no way for me to plug it in here i...</td>\n",
       "      <td>0.0</td>\n",
       "      <td>0</td>\n",
       "      <td>amazon</td>\n",
       "    </tr>\n",
       "    <tr>\n",
       "      <th>1</th>\n",
       "      <td>Good case, Excellent value.</td>\n",
       "      <td>1.0</td>\n",
       "      <td>0</td>\n",
       "      <td>amazon</td>\n",
       "    </tr>\n",
       "    <tr>\n",
       "      <th>2</th>\n",
       "      <td>Great for the jawbone.</td>\n",
       "      <td>1.0</td>\n",
       "      <td>0</td>\n",
       "      <td>amazon</td>\n",
       "    </tr>\n",
       "    <tr>\n",
       "      <th>3</th>\n",
       "      <td>Tied to charger for conversations lasting more...</td>\n",
       "      <td>0.0</td>\n",
       "      <td>0</td>\n",
       "      <td>amazon</td>\n",
       "    </tr>\n",
       "    <tr>\n",
       "      <th>4</th>\n",
       "      <td>The mic is great.</td>\n",
       "      <td>1.0</td>\n",
       "      <td>0</td>\n",
       "      <td>amazon</td>\n",
       "    </tr>\n",
       "    <tr>\n",
       "      <th>...</th>\n",
       "      <td>...</td>\n",
       "      <td>...</td>\n",
       "      <td>...</td>\n",
       "      <td>...</td>\n",
       "    </tr>\n",
       "    <tr>\n",
       "      <th>995</th>\n",
       "      <td>I think food should have flavor and texture an...</td>\n",
       "      <td>0.0</td>\n",
       "      <td>2</td>\n",
       "      <td>yelp</td>\n",
       "    </tr>\n",
       "    <tr>\n",
       "      <th>996</th>\n",
       "      <td>Appetite instantly gone.</td>\n",
       "      <td>0.0</td>\n",
       "      <td>2</td>\n",
       "      <td>yelp</td>\n",
       "    </tr>\n",
       "    <tr>\n",
       "      <th>997</th>\n",
       "      <td>Overall I was not impressed and would not go b...</td>\n",
       "      <td>0.0</td>\n",
       "      <td>2</td>\n",
       "      <td>yelp</td>\n",
       "    </tr>\n",
       "    <tr>\n",
       "      <th>998</th>\n",
       "      <td>The whole experience was underwhelming, and I ...</td>\n",
       "      <td>0.0</td>\n",
       "      <td>2</td>\n",
       "      <td>yelp</td>\n",
       "    </tr>\n",
       "    <tr>\n",
       "      <th>999</th>\n",
       "      <td>Then, as if I hadn't wasted enough of my life ...</td>\n",
       "      <td>0.0</td>\n",
       "      <td>2</td>\n",
       "      <td>yelp</td>\n",
       "    </tr>\n",
       "  </tbody>\n",
       "</table>\n",
       "<p>3000 rows × 4 columns</p>\n",
       "</div>"
      ],
      "text/plain": [
       "                                              sentence  score  category  \\\n",
       "0    So there is no way for me to plug it in here i...    0.0         0   \n",
       "1                          Good case, Excellent value.    1.0         0   \n",
       "2                               Great for the jawbone.    1.0         0   \n",
       "3    Tied to charger for conversations lasting more...    0.0         0   \n",
       "4                                    The mic is great.    1.0         0   \n",
       "..                                                 ...    ...       ...   \n",
       "995  I think food should have flavor and texture an...    0.0         2   \n",
       "996                           Appetite instantly gone.    0.0         2   \n",
       "997  Overall I was not impressed and would not go b...    0.0         2   \n",
       "998  The whole experience was underwhelming, and I ...    0.0         2   \n",
       "999  Then, as if I hadn't wasted enough of my life ...    0.0         2   \n",
       "\n",
       "    category_name  \n",
       "0          amazon  \n",
       "1          amazon  \n",
       "2          amazon  \n",
       "3          amazon  \n",
       "4          amazon  \n",
       "..            ...  \n",
       "995          yelp  \n",
       "996          yelp  \n",
       "997          yelp  \n",
       "998          yelp  \n",
       "999          yelp  \n",
       "\n",
       "[3000 rows x 4 columns]"
      ]
     },
     "execution_count": 165,
     "metadata": {},
     "output_type": "execute_result"
    }
   ],
   "source": [
    "data"
   ]
  },
  {
   "cell_type": "code",
   "execution_count": 166,
   "metadata": {},
   "outputs": [
    {
     "data": {
      "text/plain": [
       "3000"
      ]
     },
     "execution_count": 166,
     "metadata": {},
     "output_type": "execute_result"
    }
   ],
   "source": [
    "len(data)"
   ]
  },
  {
   "cell_type": "code",
   "execution_count": 167,
   "metadata": {},
   "outputs": [
    {
     "data": {
      "text/html": [
       "<div>\n",
       "<style scoped>\n",
       "    .dataframe tbody tr th:only-of-type {\n",
       "        vertical-align: middle;\n",
       "    }\n",
       "\n",
       "    .dataframe tbody tr th {\n",
       "        vertical-align: top;\n",
       "    }\n",
       "\n",
       "    .dataframe thead th {\n",
       "        text-align: right;\n",
       "    }\n",
       "</style>\n",
       "<table border=\"1\" class=\"dataframe\">\n",
       "  <thead>\n",
       "    <tr style=\"text-align: right;\">\n",
       "      <th></th>\n",
       "      <th>sentence</th>\n",
       "      <th>score</th>\n",
       "      <th>category</th>\n",
       "      <th>category_name</th>\n",
       "    </tr>\n",
       "  </thead>\n",
       "  <tbody>\n",
       "    <tr>\n",
       "      <th>0</th>\n",
       "      <td>So there is no way for me to plug it in here i...</td>\n",
       "      <td>0.0</td>\n",
       "      <td>0</td>\n",
       "      <td>amazon</td>\n",
       "    </tr>\n",
       "    <tr>\n",
       "      <th>1</th>\n",
       "      <td>Good case, Excellent value.</td>\n",
       "      <td>1.0</td>\n",
       "      <td>0</td>\n",
       "      <td>amazon</td>\n",
       "    </tr>\n",
       "  </tbody>\n",
       "</table>\n",
       "</div>"
      ],
      "text/plain": [
       "                                            sentence  score  category  \\\n",
       "0  So there is no way for me to plug it in here i...    0.0         0   \n",
       "1                        Good case, Excellent value.    1.0         0   \n",
       "\n",
       "  category_name  \n",
       "0        amazon  \n",
       "1        amazon  "
      ]
     },
     "execution_count": 167,
     "metadata": {},
     "output_type": "execute_result"
    }
   ],
   "source": [
    "data[0:2]"
   ]
  },
  {
   "cell_type": "code",
   "execution_count": 168,
   "metadata": {},
   "outputs": [
    {
     "name": "stdout",
     "output_type": "stream",
     "text": [
      "So there is no way for me to plug it in here in the US unless I go by a converter.\n",
      "Good case, Excellent value.\n",
      "Great for the jawbone.\n"
     ]
    }
   ],
   "source": [
    "for t in data[\"sentence\"][:3]:\n",
    "    print(t)"
   ]
  },
  {
   "cell_type": "code",
   "execution_count": 169,
   "metadata": {},
   "outputs": [
    {
     "data": {
      "text/html": [
       "<div>\n",
       "<style scoped>\n",
       "    .dataframe tbody tr th:only-of-type {\n",
       "        vertical-align: middle;\n",
       "    }\n",
       "\n",
       "    .dataframe tbody tr th {\n",
       "        vertical-align: top;\n",
       "    }\n",
       "\n",
       "    .dataframe thead th {\n",
       "        text-align: right;\n",
       "    }\n",
       "</style>\n",
       "<table border=\"1\" class=\"dataframe\">\n",
       "  <thead>\n",
       "    <tr style=\"text-align: right;\">\n",
       "      <th></th>\n",
       "      <th>sentence</th>\n",
       "      <th>category_name</th>\n",
       "    </tr>\n",
       "  </thead>\n",
       "  <tbody>\n",
       "    <tr>\n",
       "      <th>0</th>\n",
       "      <td>So there is no way for me to plug it in here i...</td>\n",
       "      <td>amazon</td>\n",
       "    </tr>\n",
       "    <tr>\n",
       "      <th>1</th>\n",
       "      <td>Good case, Excellent value.</td>\n",
       "      <td>amazon</td>\n",
       "    </tr>\n",
       "    <tr>\n",
       "      <th>2</th>\n",
       "      <td>Great for the jawbone.</td>\n",
       "      <td>amazon</td>\n",
       "    </tr>\n",
       "    <tr>\n",
       "      <th>3</th>\n",
       "      <td>Tied to charger for conversations lasting more...</td>\n",
       "      <td>amazon</td>\n",
       "    </tr>\n",
       "    <tr>\n",
       "      <th>4</th>\n",
       "      <td>The mic is great.</td>\n",
       "      <td>amazon</td>\n",
       "    </tr>\n",
       "    <tr>\n",
       "      <th>5</th>\n",
       "      <td>I have to jiggle the plug to get it to line up...</td>\n",
       "      <td>amazon</td>\n",
       "    </tr>\n",
       "    <tr>\n",
       "      <th>6</th>\n",
       "      <td>If you have several dozen or several hundred c...</td>\n",
       "      <td>amazon</td>\n",
       "    </tr>\n",
       "    <tr>\n",
       "      <th>7</th>\n",
       "      <td>If you are Razr owner...you must have this!</td>\n",
       "      <td>amazon</td>\n",
       "    </tr>\n",
       "    <tr>\n",
       "      <th>8</th>\n",
       "      <td>Needless to say, I wasted my money.</td>\n",
       "      <td>amazon</td>\n",
       "    </tr>\n",
       "    <tr>\n",
       "      <th>9</th>\n",
       "      <td>What a waste of money and time!.</td>\n",
       "      <td>amazon</td>\n",
       "    </tr>\n",
       "  </tbody>\n",
       "</table>\n",
       "</div>"
      ],
      "text/plain": [
       "                                            sentence category_name\n",
       "0  So there is no way for me to plug it in here i...        amazon\n",
       "1                        Good case, Excellent value.        amazon\n",
       "2                             Great for the jawbone.        amazon\n",
       "3  Tied to charger for conversations lasting more...        amazon\n",
       "4                                  The mic is great.        amazon\n",
       "5  I have to jiggle the plug to get it to line up...        amazon\n",
       "6  If you have several dozen or several hundred c...        amazon\n",
       "7        If you are Razr owner...you must have this!        amazon\n",
       "8                Needless to say, I wasted my money.        amazon\n",
       "9                   What a waste of money and time!.        amazon"
      ]
     },
     "execution_count": 169,
     "metadata": {},
     "output_type": "execute_result"
    }
   ],
   "source": [
    "# a simple query\n",
    "data[0:10][[\"sentence\", \"category_name\"]]"
   ]
  },
  {
   "cell_type": "code",
   "execution_count": 170,
   "metadata": {},
   "outputs": [
    {
     "data": {
      "text/html": [
       "<div>\n",
       "<style scoped>\n",
       "    .dataframe tbody tr th:only-of-type {\n",
       "        vertical-align: middle;\n",
       "    }\n",
       "\n",
       "    .dataframe tbody tr th {\n",
       "        vertical-align: top;\n",
       "    }\n",
       "\n",
       "    .dataframe thead th {\n",
       "        text-align: right;\n",
       "    }\n",
       "</style>\n",
       "<table border=\"1\" class=\"dataframe\">\n",
       "  <thead>\n",
       "    <tr style=\"text-align: right;\">\n",
       "      <th></th>\n",
       "      <th>sentence</th>\n",
       "      <th>score</th>\n",
       "      <th>category</th>\n",
       "      <th>category_name</th>\n",
       "    </tr>\n",
       "  </thead>\n",
       "  <tbody>\n",
       "    <tr>\n",
       "      <th>990</th>\n",
       "      <td>The refried beans that came with my meal were ...</td>\n",
       "      <td>0.0</td>\n",
       "      <td>2</td>\n",
       "      <td>yelp</td>\n",
       "    </tr>\n",
       "    <tr>\n",
       "      <th>991</th>\n",
       "      <td>Spend your money and time some place else.</td>\n",
       "      <td>0.0</td>\n",
       "      <td>2</td>\n",
       "      <td>yelp</td>\n",
       "    </tr>\n",
       "    <tr>\n",
       "      <th>992</th>\n",
       "      <td>A lady at the table next to us found a live gr...</td>\n",
       "      <td>0.0</td>\n",
       "      <td>2</td>\n",
       "      <td>yelp</td>\n",
       "    </tr>\n",
       "    <tr>\n",
       "      <th>993</th>\n",
       "      <td>the presentation of the food was awful.</td>\n",
       "      <td>0.0</td>\n",
       "      <td>2</td>\n",
       "      <td>yelp</td>\n",
       "    </tr>\n",
       "    <tr>\n",
       "      <th>994</th>\n",
       "      <td>I can't tell you how disappointed I was.</td>\n",
       "      <td>0.0</td>\n",
       "      <td>2</td>\n",
       "      <td>yelp</td>\n",
       "    </tr>\n",
       "    <tr>\n",
       "      <th>995</th>\n",
       "      <td>I think food should have flavor and texture an...</td>\n",
       "      <td>0.0</td>\n",
       "      <td>2</td>\n",
       "      <td>yelp</td>\n",
       "    </tr>\n",
       "    <tr>\n",
       "      <th>996</th>\n",
       "      <td>Appetite instantly gone.</td>\n",
       "      <td>0.0</td>\n",
       "      <td>2</td>\n",
       "      <td>yelp</td>\n",
       "    </tr>\n",
       "    <tr>\n",
       "      <th>997</th>\n",
       "      <td>Overall I was not impressed and would not go b...</td>\n",
       "      <td>0.0</td>\n",
       "      <td>2</td>\n",
       "      <td>yelp</td>\n",
       "    </tr>\n",
       "    <tr>\n",
       "      <th>998</th>\n",
       "      <td>The whole experience was underwhelming, and I ...</td>\n",
       "      <td>0.0</td>\n",
       "      <td>2</td>\n",
       "      <td>yelp</td>\n",
       "    </tr>\n",
       "    <tr>\n",
       "      <th>999</th>\n",
       "      <td>Then, as if I hadn't wasted enough of my life ...</td>\n",
       "      <td>0.0</td>\n",
       "      <td>2</td>\n",
       "      <td>yelp</td>\n",
       "    </tr>\n",
       "  </tbody>\n",
       "</table>\n",
       "</div>"
      ],
      "text/plain": [
       "                                              sentence  score  category  \\\n",
       "990  The refried beans that came with my meal were ...    0.0         2   \n",
       "991         Spend your money and time some place else.    0.0         2   \n",
       "992  A lady at the table next to us found a live gr...    0.0         2   \n",
       "993            the presentation of the food was awful.    0.0         2   \n",
       "994           I can't tell you how disappointed I was.    0.0         2   \n",
       "995  I think food should have flavor and texture an...    0.0         2   \n",
       "996                           Appetite instantly gone.    0.0         2   \n",
       "997  Overall I was not impressed and would not go b...    0.0         2   \n",
       "998  The whole experience was underwhelming, and I ...    0.0         2   \n",
       "999  Then, as if I hadn't wasted enough of my life ...    0.0         2   \n",
       "\n",
       "    category_name  \n",
       "990          yelp  \n",
       "991          yelp  \n",
       "992          yelp  \n",
       "993          yelp  \n",
       "994          yelp  \n",
       "995          yelp  \n",
       "996          yelp  \n",
       "997          yelp  \n",
       "998          yelp  \n",
       "999          yelp  "
      ]
     },
     "execution_count": 170,
     "metadata": {},
     "output_type": "execute_result"
    }
   ],
   "source": [
    "data[-10:]"
   ]
  },
  {
   "cell_type": "code",
   "execution_count": 171,
   "metadata": {},
   "outputs": [
    {
     "data": {
      "text/html": [
       "<div>\n",
       "<style scoped>\n",
       "    .dataframe tbody tr th:only-of-type {\n",
       "        vertical-align: middle;\n",
       "    }\n",
       "\n",
       "    .dataframe tbody tr th {\n",
       "        vertical-align: top;\n",
       "    }\n",
       "\n",
       "    .dataframe thead th {\n",
       "        text-align: right;\n",
       "    }\n",
       "</style>\n",
       "<table border=\"1\" class=\"dataframe\">\n",
       "  <thead>\n",
       "    <tr style=\"text-align: right;\">\n",
       "      <th></th>\n",
       "      <th>sentence</th>\n",
       "      <th>score</th>\n",
       "    </tr>\n",
       "  </thead>\n",
       "  <tbody>\n",
       "    <tr>\n",
       "      <th>0</th>\n",
       "      <td>So there is no way for me to plug it in here i...</td>\n",
       "      <td>0.0</td>\n",
       "    </tr>\n",
       "    <tr>\n",
       "      <th>10</th>\n",
       "      <td>And the sound quality is great.</td>\n",
       "      <td>1.0</td>\n",
       "    </tr>\n",
       "    <tr>\n",
       "      <th>20</th>\n",
       "      <td>I went on Motorola's website and followed all ...</td>\n",
       "      <td>0.0</td>\n",
       "    </tr>\n",
       "    <tr>\n",
       "      <th>30</th>\n",
       "      <td>This is a simple little phone to use, but the ...</td>\n",
       "      <td>0.0</td>\n",
       "    </tr>\n",
       "    <tr>\n",
       "      <th>40</th>\n",
       "      <td>It has a great camera thats 2MP, and the pics ...</td>\n",
       "      <td>1.0</td>\n",
       "    </tr>\n",
       "    <tr>\n",
       "      <th>50</th>\n",
       "      <td>Not loud enough and doesn't turn on like it sh...</td>\n",
       "      <td>0.0</td>\n",
       "    </tr>\n",
       "    <tr>\n",
       "      <th>60</th>\n",
       "      <td>Essentially you can forget Microsoft's tech su...</td>\n",
       "      <td>0.0</td>\n",
       "    </tr>\n",
       "    <tr>\n",
       "      <th>70</th>\n",
       "      <td>Mic Doesn't work.</td>\n",
       "      <td>0.0</td>\n",
       "    </tr>\n",
       "    <tr>\n",
       "      <th>80</th>\n",
       "      <td>I wear it everyday and it holds up very well.</td>\n",
       "      <td>1.0</td>\n",
       "    </tr>\n",
       "    <tr>\n",
       "      <th>90</th>\n",
       "      <td>For a product that costs as much as this one d...</td>\n",
       "      <td>0.0</td>\n",
       "    </tr>\n",
       "  </tbody>\n",
       "</table>\n",
       "</div>"
      ],
      "text/plain": [
       "                                             sentence  score\n",
       "0   So there is no way for me to plug it in here i...    0.0\n",
       "10                    And the sound quality is great.    1.0\n",
       "20  I went on Motorola's website and followed all ...    0.0\n",
       "30  This is a simple little phone to use, but the ...    0.0\n",
       "40  It has a great camera thats 2MP, and the pics ...    1.0\n",
       "50  Not loud enough and doesn't turn on like it sh...    0.0\n",
       "60  Essentially you can forget Microsoft's tech su...    0.0\n",
       "70                                  Mic Doesn't work.    0.0\n",
       "80      I wear it everyday and it holds up very well.    1.0\n",
       "90  For a product that costs as much as this one d...    0.0"
      ]
     },
     "execution_count": 171,
     "metadata": {},
     "output_type": "execute_result"
    }
   ],
   "source": [
    "# using iloc (by position)\n",
    "data.iloc[::10, 0:2][0:10]"
   ]
  },
  {
   "cell_type": "code",
   "execution_count": 172,
   "metadata": {},
   "outputs": [
    {
     "data": {
      "text/plain": [
       "0     So there is no way for me to plug it in here i...\n",
       "10                      And the sound quality is great.\n",
       "20    I went on Motorola's website and followed all ...\n",
       "30    This is a simple little phone to use, but the ...\n",
       "40    It has a great camera thats 2MP, and the pics ...\n",
       "50    Not loud enough and doesn't turn on like it sh...\n",
       "60    Essentially you can forget Microsoft's tech su...\n",
       "70                                    Mic Doesn't work.\n",
       "80        I wear it everyday and it holds up very well.\n",
       "90    For a product that costs as much as this one d...\n",
       "Name: sentence, dtype: object"
      ]
     },
     "execution_count": 172,
     "metadata": {},
     "output_type": "execute_result"
    }
   ],
   "source": [
    "# using loc (by label)\n",
    "data.loc[::10, 'sentence'][0:10] #can choose category"
   ]
  },
  {
   "cell_type": "code",
   "execution_count": 173,
   "metadata": {},
   "outputs": [
    {
     "data": {
      "text/html": [
       "<div>\n",
       "<style scoped>\n",
       "    .dataframe tbody tr th:only-of-type {\n",
       "        vertical-align: middle;\n",
       "    }\n",
       "\n",
       "    .dataframe tbody tr th {\n",
       "        vertical-align: top;\n",
       "    }\n",
       "\n",
       "    .dataframe thead th {\n",
       "        text-align: right;\n",
       "    }\n",
       "</style>\n",
       "<table border=\"1\" class=\"dataframe\">\n",
       "  <thead>\n",
       "    <tr style=\"text-align: right;\">\n",
       "      <th></th>\n",
       "      <th>sentence</th>\n",
       "      <th>score</th>\n",
       "      <th>category</th>\n",
       "      <th>category_name</th>\n",
       "    </tr>\n",
       "  </thead>\n",
       "  <tbody>\n",
       "    <tr>\n",
       "      <th>0</th>\n",
       "      <td>So there is no way for me to plug it in here i...</td>\n",
       "      <td>0.0</td>\n",
       "      <td>0</td>\n",
       "      <td>amazon</td>\n",
       "    </tr>\n",
       "    <tr>\n",
       "      <th>10</th>\n",
       "      <td>And the sound quality is great.</td>\n",
       "      <td>1.0</td>\n",
       "      <td>0</td>\n",
       "      <td>amazon</td>\n",
       "    </tr>\n",
       "    <tr>\n",
       "      <th>20</th>\n",
       "      <td>I went on Motorola's website and followed all ...</td>\n",
       "      <td>0.0</td>\n",
       "      <td>0</td>\n",
       "      <td>amazon</td>\n",
       "    </tr>\n",
       "    <tr>\n",
       "      <th>30</th>\n",
       "      <td>This is a simple little phone to use, but the ...</td>\n",
       "      <td>0.0</td>\n",
       "      <td>0</td>\n",
       "      <td>amazon</td>\n",
       "    </tr>\n",
       "    <tr>\n",
       "      <th>40</th>\n",
       "      <td>It has a great camera thats 2MP, and the pics ...</td>\n",
       "      <td>1.0</td>\n",
       "      <td>0</td>\n",
       "      <td>amazon</td>\n",
       "    </tr>\n",
       "    <tr>\n",
       "      <th>50</th>\n",
       "      <td>Not loud enough and doesn't turn on like it sh...</td>\n",
       "      <td>0.0</td>\n",
       "      <td>0</td>\n",
       "      <td>amazon</td>\n",
       "    </tr>\n",
       "    <tr>\n",
       "      <th>60</th>\n",
       "      <td>Essentially you can forget Microsoft's tech su...</td>\n",
       "      <td>0.0</td>\n",
       "      <td>0</td>\n",
       "      <td>amazon</td>\n",
       "    </tr>\n",
       "    <tr>\n",
       "      <th>70</th>\n",
       "      <td>Mic Doesn't work.</td>\n",
       "      <td>0.0</td>\n",
       "      <td>0</td>\n",
       "      <td>amazon</td>\n",
       "    </tr>\n",
       "    <tr>\n",
       "      <th>80</th>\n",
       "      <td>I wear it everyday and it holds up very well.</td>\n",
       "      <td>1.0</td>\n",
       "      <td>0</td>\n",
       "      <td>amazon</td>\n",
       "    </tr>\n",
       "    <tr>\n",
       "      <th>90</th>\n",
       "      <td>For a product that costs as much as this one d...</td>\n",
       "      <td>0.0</td>\n",
       "      <td>0</td>\n",
       "      <td>amazon</td>\n",
       "    </tr>\n",
       "  </tbody>\n",
       "</table>\n",
       "</div>"
      ],
      "text/plain": [
       "                                             sentence  score  category  \\\n",
       "0   So there is no way for me to plug it in here i...    0.0         0   \n",
       "10                    And the sound quality is great.    1.0         0   \n",
       "20  I went on Motorola's website and followed all ...    0.0         0   \n",
       "30  This is a simple little phone to use, but the ...    0.0         0   \n",
       "40  It has a great camera thats 2MP, and the pics ...    1.0         0   \n",
       "50  Not loud enough and doesn't turn on like it sh...    0.0         0   \n",
       "60  Essentially you can forget Microsoft's tech su...    0.0         0   \n",
       "70                                  Mic Doesn't work.    0.0         0   \n",
       "80      I wear it everyday and it holds up very well.    1.0         0   \n",
       "90  For a product that costs as much as this one d...    0.0         0   \n",
       "\n",
       "   category_name  \n",
       "0         amazon  \n",
       "10        amazon  \n",
       "20        amazon  \n",
       "30        amazon  \n",
       "40        amazon  \n",
       "50        amazon  \n",
       "60        amazon  \n",
       "70        amazon  \n",
       "80        amazon  \n",
       "90        amazon  "
      ]
     },
     "execution_count": 173,
     "metadata": {},
     "output_type": "execute_result"
    }
   ],
   "source": [
    "# standard query (Cannot simultaneously select rows and columns)\n",
    "data[::10][0:10]"
   ]
  },
  {
   "cell_type": "code",
   "execution_count": 174,
   "metadata": {},
   "outputs": [
    {
     "name": "stdout",
     "output_type": "stream",
     "text": [
      "                                              sentence  score  category  \\\n",
      "0    A very, very, very slow-moving, aimless movie ...    0.0         1   \n",
      "1    Not sure who was more lost - the flat characte...    0.0         1   \n",
      "2    Attempting artiness with black & white and cle...    0.0         1   \n",
      "3         Very little music or anything to speak of.      0.0         1   \n",
      "4    The best scene in the movie was when Gerardo i...    1.0         1   \n",
      "..                                                 ...    ...       ...   \n",
      "995  I just got bored watching Jessice Lange take h...    0.0         1   \n",
      "996  Unfortunately, any virtue in this film's produ...    0.0         1   \n",
      "997                   In a word, it is embarrassing.      0.0         1   \n",
      "998                               Exceptionally bad!      0.0         1   \n",
      "999  All in all its an insult to one's intelligence...    0.0         1   \n",
      "\n",
      "    category_name  \n",
      "0            imdb  \n",
      "1            imdb  \n",
      "2            imdb  \n",
      "3            imdb  \n",
      "4            imdb  \n",
      "..            ...  \n",
      "995          imdb  \n",
      "996          imdb  \n",
      "997          imdb  \n",
      "998          imdb  \n",
      "999          imdb  \n",
      "\n",
      "[1000 rows x 4 columns]\n"
     ]
    }
   ],
   "source": [
    "data.columns = [column.replace(\" \", \"_\") for column in data.columns]\n",
    "  \n",
    "# using query method and print result\n",
    "print(data.query('category == 1', inplace = False))"
   ]
  },
  {
   "cell_type": "code",
   "execution_count": 175,
   "metadata": {},
   "outputs": [
    {
     "data": {
      "text/html": [
       "<div>\n",
       "<style scoped>\n",
       "    .dataframe tbody tr th:only-of-type {\n",
       "        vertical-align: middle;\n",
       "    }\n",
       "\n",
       "    .dataframe tbody tr th {\n",
       "        vertical-align: top;\n",
       "    }\n",
       "\n",
       "    .dataframe thead th {\n",
       "        text-align: right;\n",
       "    }\n",
       "</style>\n",
       "<table border=\"1\" class=\"dataframe\">\n",
       "  <thead>\n",
       "    <tr style=\"text-align: right;\">\n",
       "      <th></th>\n",
       "      <th>sentence</th>\n",
       "      <th>score</th>\n",
       "      <th>category</th>\n",
       "      <th>category_name</th>\n",
       "    </tr>\n",
       "  </thead>\n",
       "  <tbody>\n",
       "    <tr>\n",
       "      <th>0</th>\n",
       "      <td>So there is no way for me to plug it in here i...</td>\n",
       "      <td>0.0</td>\n",
       "      <td>0</td>\n",
       "      <td>amazon</td>\n",
       "    </tr>\n",
       "    <tr>\n",
       "      <th>10</th>\n",
       "      <td>And the sound quality is great.</td>\n",
       "      <td>1.0</td>\n",
       "      <td>0</td>\n",
       "      <td>amazon</td>\n",
       "    </tr>\n",
       "    <tr>\n",
       "      <th>20</th>\n",
       "      <td>I went on Motorola's website and followed all ...</td>\n",
       "      <td>0.0</td>\n",
       "      <td>0</td>\n",
       "      <td>amazon</td>\n",
       "    </tr>\n",
       "    <tr>\n",
       "      <th>30</th>\n",
       "      <td>This is a simple little phone to use, but the ...</td>\n",
       "      <td>0.0</td>\n",
       "      <td>0</td>\n",
       "      <td>amazon</td>\n",
       "    </tr>\n",
       "    <tr>\n",
       "      <th>40</th>\n",
       "      <td>It has a great camera thats 2MP, and the pics ...</td>\n",
       "      <td>1.0</td>\n",
       "      <td>0</td>\n",
       "      <td>amazon</td>\n",
       "    </tr>\n",
       "  </tbody>\n",
       "</table>\n",
       "</div>"
      ],
      "text/plain": [
       "                                             sentence  score  category  \\\n",
       "0   So there is no way for me to plug it in here i...    0.0         0   \n",
       "10                    And the sound quality is great.    1.0         0   \n",
       "20  I went on Motorola's website and followed all ...    0.0         0   \n",
       "30  This is a simple little phone to use, but the ...    0.0         0   \n",
       "40  It has a great camera thats 2MP, and the pics ...    1.0         0   \n",
       "\n",
       "   category_name  \n",
       "0         amazon  \n",
       "10        amazon  \n",
       "20        amazon  \n",
       "30        amazon  \n",
       "40        amazon  "
      ]
     },
     "execution_count": 175,
     "metadata": {},
     "output_type": "execute_result"
    }
   ],
   "source": [
    "data.loc[lambda f: f.category_name == 'amazon'].iloc[::10, :][0:5]"
   ]
  },
  {
   "cell_type": "code",
   "execution_count": 176,
   "metadata": {},
   "outputs": [
    {
     "data": {
      "text/html": [
       "<div>\n",
       "<style scoped>\n",
       "    .dataframe tbody tr th:only-of-type {\n",
       "        vertical-align: middle;\n",
       "    }\n",
       "\n",
       "    .dataframe tbody tr th {\n",
       "        vertical-align: top;\n",
       "    }\n",
       "\n",
       "    .dataframe thead th {\n",
       "        text-align: right;\n",
       "    }\n",
       "</style>\n",
       "<table border=\"1\" class=\"dataframe\">\n",
       "  <thead>\n",
       "    <tr style=\"text-align: right;\">\n",
       "      <th></th>\n",
       "      <th>sentence</th>\n",
       "      <th>score</th>\n",
       "      <th>category</th>\n",
       "      <th>category_name</th>\n",
       "    </tr>\n",
       "  </thead>\n",
       "  <tbody>\n",
       "    <tr>\n",
       "      <th>0</th>\n",
       "      <td>False</td>\n",
       "      <td>False</td>\n",
       "      <td>False</td>\n",
       "      <td>False</td>\n",
       "    </tr>\n",
       "    <tr>\n",
       "      <th>1</th>\n",
       "      <td>False</td>\n",
       "      <td>False</td>\n",
       "      <td>False</td>\n",
       "      <td>False</td>\n",
       "    </tr>\n",
       "    <tr>\n",
       "      <th>2</th>\n",
       "      <td>False</td>\n",
       "      <td>False</td>\n",
       "      <td>False</td>\n",
       "      <td>False</td>\n",
       "    </tr>\n",
       "    <tr>\n",
       "      <th>3</th>\n",
       "      <td>False</td>\n",
       "      <td>False</td>\n",
       "      <td>False</td>\n",
       "      <td>False</td>\n",
       "    </tr>\n",
       "    <tr>\n",
       "      <th>4</th>\n",
       "      <td>False</td>\n",
       "      <td>False</td>\n",
       "      <td>False</td>\n",
       "      <td>False</td>\n",
       "    </tr>\n",
       "    <tr>\n",
       "      <th>...</th>\n",
       "      <td>...</td>\n",
       "      <td>...</td>\n",
       "      <td>...</td>\n",
       "      <td>...</td>\n",
       "    </tr>\n",
       "    <tr>\n",
       "      <th>995</th>\n",
       "      <td>False</td>\n",
       "      <td>False</td>\n",
       "      <td>False</td>\n",
       "      <td>False</td>\n",
       "    </tr>\n",
       "    <tr>\n",
       "      <th>996</th>\n",
       "      <td>False</td>\n",
       "      <td>False</td>\n",
       "      <td>False</td>\n",
       "      <td>False</td>\n",
       "    </tr>\n",
       "    <tr>\n",
       "      <th>997</th>\n",
       "      <td>False</td>\n",
       "      <td>False</td>\n",
       "      <td>False</td>\n",
       "      <td>False</td>\n",
       "    </tr>\n",
       "    <tr>\n",
       "      <th>998</th>\n",
       "      <td>False</td>\n",
       "      <td>False</td>\n",
       "      <td>False</td>\n",
       "      <td>False</td>\n",
       "    </tr>\n",
       "    <tr>\n",
       "      <th>999</th>\n",
       "      <td>False</td>\n",
       "      <td>False</td>\n",
       "      <td>False</td>\n",
       "      <td>False</td>\n",
       "    </tr>\n",
       "  </tbody>\n",
       "</table>\n",
       "<p>3000 rows × 4 columns</p>\n",
       "</div>"
      ],
      "text/plain": [
       "     sentence  score  category  category_name\n",
       "0       False  False     False          False\n",
       "1       False  False     False          False\n",
       "2       False  False     False          False\n",
       "3       False  False     False          False\n",
       "4       False  False     False          False\n",
       "..        ...    ...       ...            ...\n",
       "995     False  False     False          False\n",
       "996     False  False     False          False\n",
       "997     False  False     False          False\n",
       "998     False  False     False          False\n",
       "999     False  False     False          False\n",
       "\n",
       "[3000 rows x 4 columns]"
      ]
     },
     "execution_count": 176,
     "metadata": {},
     "output_type": "execute_result"
    }
   ],
   "source": [
    "#check if it is null\n",
    "data.isnull()"
   ]
  },
  {
   "cell_type": "code",
   "execution_count": 177,
   "metadata": {},
   "outputs": [
    {
     "data": {
      "text/plain": [
       "sentence         (The amoung of missing records is: , 0)\n",
       "score            (The amoung of missing records is: , 5)\n",
       "category         (The amoung of missing records is: , 0)\n",
       "category_name    (The amoung of missing records is: , 0)\n",
       "dtype: object"
      ]
     },
     "execution_count": 177,
     "metadata": {},
     "output_type": "execute_result"
    }
   ],
   "source": [
    "data.isnull().apply(lambda x: dmh.check_missing_values(x))"
   ]
  },
  {
   "cell_type": "code",
   "execution_count": 178,
   "metadata": {},
   "outputs": [],
   "source": [
    "data.dropna(inplace=True) #remove missing value"
   ]
  },
  {
   "cell_type": "code",
   "execution_count": 179,
   "metadata": {},
   "outputs": [
    {
     "data": {
      "text/plain": [
       "sentence         (The amoung of missing records is: , 0)\n",
       "score            (The amoung of missing records is: , 0)\n",
       "category         (The amoung of missing records is: , 0)\n",
       "category_name    (The amoung of missing records is: , 0)\n",
       "dtype: object"
      ]
     },
     "execution_count": 179,
     "metadata": {},
     "output_type": "execute_result"
    }
   ],
   "source": [
    "data.isnull().apply(lambda x: dmh.check_missing_values(x))"
   ]
  },
  {
   "cell_type": "code",
   "execution_count": 180,
   "metadata": {},
   "outputs": [
    {
     "data": {
      "text/plain": [
       "0      (The amoung of missing records is: , 0)\n",
       "1      (The amoung of missing records is: , 0)\n",
       "2      (The amoung of missing records is: , 0)\n",
       "3      (The amoung of missing records is: , 0)\n",
       "4      (The amoung of missing records is: , 0)\n",
       "                        ...                   \n",
       "995    (The amoung of missing records is: , 0)\n",
       "996    (The amoung of missing records is: , 0)\n",
       "997    (The amoung of missing records is: , 0)\n",
       "998    (The amoung of missing records is: , 0)\n",
       "999    (The amoung of missing records is: , 0)\n",
       "Length: 2995, dtype: object"
      ]
     },
     "execution_count": 180,
     "metadata": {},
     "output_type": "execute_result"
    }
   ],
   "source": [
    "data.isnull().apply(lambda x: dmh.check_missing_values(x), axis=1)"
   ]
  },
  {
   "cell_type": "code",
   "execution_count": 181,
   "metadata": {},
   "outputs": [],
   "source": [
    "dummy_series = pd.Series([\"dummy_record\", 1], index=[\"sentence\", \"score\"])"
   ]
  },
  {
   "cell_type": "code",
   "execution_count": 182,
   "metadata": {},
   "outputs": [
    {
     "data": {
      "text/plain": [
       "sentence    dummy_record\n",
       "score                  1\n",
       "dtype: object"
      ]
     },
     "execution_count": 182,
     "metadata": {},
     "output_type": "execute_result"
    }
   ],
   "source": [
    "dummy_series"
   ]
  },
  {
   "cell_type": "code",
   "execution_count": 183,
   "metadata": {},
   "outputs": [],
   "source": [
    "result_with_series = data.append(dummy_series, ignore_index=True)"
   ]
  },
  {
   "cell_type": "code",
   "execution_count": 184,
   "metadata": {},
   "outputs": [
    {
     "data": {
      "text/plain": [
       "2996"
      ]
     },
     "execution_count": 184,
     "metadata": {},
     "output_type": "execute_result"
    }
   ],
   "source": [
    "# check if the records was commited into result\n",
    "len(result_with_series)"
   ]
  },
  {
   "cell_type": "code",
   "execution_count": 185,
   "metadata": {},
   "outputs": [
    {
     "data": {
      "text/plain": [
       "sentence         (The amoung of missing records is: , 0)\n",
       "score            (The amoung of missing records is: , 0)\n",
       "category         (The amoung of missing records is: , 1)\n",
       "category_name    (The amoung of missing records is: , 1)\n",
       "dtype: object"
      ]
     },
     "execution_count": 185,
     "metadata": {},
     "output_type": "execute_result"
    }
   ],
   "source": [
    "result_with_series.isnull().apply(lambda x: dmh.check_missing_values(x))"
   ]
  },
  {
   "cell_type": "code",
   "execution_count": 186,
   "metadata": {},
   "outputs": [],
   "source": [
    "dummy_dict = [{'sentence': 'dummy_record',\n",
    "               'category': 1\n",
    "              }]"
   ]
  },
  {
   "cell_type": "code",
   "execution_count": 187,
   "metadata": {},
   "outputs": [],
   "source": [
    "data = data.append(dummy_dict, ignore_index=True)"
   ]
  },
  {
   "cell_type": "code",
   "execution_count": 188,
   "metadata": {},
   "outputs": [
    {
     "data": {
      "text/plain": [
       "2996"
      ]
     },
     "execution_count": 188,
     "metadata": {},
     "output_type": "execute_result"
    }
   ],
   "source": [
    "len(data)"
   ]
  },
  {
   "cell_type": "code",
   "execution_count": 189,
   "metadata": {},
   "outputs": [
    {
     "data": {
      "text/plain": [
       "sentence         (The amoung of missing records is: , 0)\n",
       "score            (The amoung of missing records is: , 1)\n",
       "category         (The amoung of missing records is: , 0)\n",
       "category_name    (The amoung of missing records is: , 1)\n",
       "dtype: object"
      ]
     },
     "execution_count": 189,
     "metadata": {},
     "output_type": "execute_result"
    }
   ],
   "source": [
    "data.isnull().apply(lambda x: dmh.check_missing_values(x))"
   ]
  },
  {
   "cell_type": "code",
   "execution_count": 190,
   "metadata": {},
   "outputs": [],
   "source": [
    "data.dropna(inplace=True) #remove missing value"
   ]
  },
  {
   "cell_type": "code",
   "execution_count": 191,
   "metadata": {},
   "outputs": [
    {
     "data": {
      "text/plain": [
       "sentence         (The amoung of missing records is: , 0)\n",
       "score            (The amoung of missing records is: , 0)\n",
       "category         (The amoung of missing records is: , 0)\n",
       "category_name    (The amoung of missing records is: , 0)\n",
       "dtype: object"
      ]
     },
     "execution_count": 191,
     "metadata": {},
     "output_type": "execute_result"
    }
   ],
   "source": [
    "data.isnull().apply(lambda x: dmh.check_missing_values(x))"
   ]
  },
  {
   "cell_type": "code",
   "execution_count": 192,
   "metadata": {},
   "outputs": [
    {
     "data": {
      "text/plain": [
       "2995"
      ]
     },
     "execution_count": 192,
     "metadata": {},
     "output_type": "execute_result"
    }
   ],
   "source": [
    "len(data)"
   ]
  },
  {
   "cell_type": "code",
   "execution_count": 193,
   "metadata": {},
   "outputs": [
    {
     "data": {
      "text/plain": [
       "0       False\n",
       "1       False\n",
       "2       False\n",
       "3       False\n",
       "4       False\n",
       "        ...  \n",
       "2990    False\n",
       "2991    False\n",
       "2992    False\n",
       "2993    False\n",
       "2994    False\n",
       "Length: 2995, dtype: bool"
      ]
     },
     "execution_count": 193,
     "metadata": {},
     "output_type": "execute_result"
    }
   ],
   "source": [
    "data.duplicated()"
   ]
  },
  {
   "cell_type": "code",
   "execution_count": 194,
   "metadata": {},
   "outputs": [
    {
     "data": {
      "text/plain": [
       "20"
      ]
     },
     "execution_count": 194,
     "metadata": {},
     "output_type": "execute_result"
    }
   ],
   "source": [
    "sum(data.duplicated('sentence'))"
   ]
  },
  {
   "cell_type": "code",
   "execution_count": 195,
   "metadata": {},
   "outputs": [
    {
     "data": {
      "text/plain": [
       "2995"
      ]
     },
     "execution_count": 195,
     "metadata": {},
     "output_type": "execute_result"
    }
   ],
   "source": [
    "len(data)"
   ]
  },
  {
   "cell_type": "code",
   "execution_count": 196,
   "metadata": {},
   "outputs": [],
   "source": [
    "data.drop_duplicates(keep=False, inplace=True) # inplace applies changes directly on our dataframe(keep=True will keep one of them)"
   ]
  },
  {
   "cell_type": "code",
   "execution_count": 197,
   "metadata": {},
   "outputs": [
    {
     "data": {
      "text/plain": [
       "2957"
      ]
     },
     "execution_count": 197,
     "metadata": {},
     "output_type": "execute_result"
    }
   ],
   "source": [
    "len(data)"
   ]
  },
  {
   "cell_type": "code",
   "execution_count": 198,
   "metadata": {},
   "outputs": [],
   "source": [
    "data_sample = data.sample(n=1000) #random state"
   ]
  },
  {
   "cell_type": "code",
   "execution_count": 200,
   "metadata": {},
   "outputs": [
    {
     "data": {
      "text/plain": [
       "1000"
      ]
     },
     "execution_count": 200,
     "metadata": {},
     "output_type": "execute_result"
    }
   ],
   "source": [
    "len(data_sample)"
   ]
  },
  {
   "cell_type": "code",
   "execution_count": 201,
   "metadata": {},
   "outputs": [
    {
     "data": {
      "text/html": [
       "<div>\n",
       "<style scoped>\n",
       "    .dataframe tbody tr th:only-of-type {\n",
       "        vertical-align: middle;\n",
       "    }\n",
       "\n",
       "    .dataframe tbody tr th {\n",
       "        vertical-align: top;\n",
       "    }\n",
       "\n",
       "    .dataframe thead th {\n",
       "        text-align: right;\n",
       "    }\n",
       "</style>\n",
       "<table border=\"1\" class=\"dataframe\">\n",
       "  <thead>\n",
       "    <tr style=\"text-align: right;\">\n",
       "      <th></th>\n",
       "      <th>sentence</th>\n",
       "      <th>score</th>\n",
       "      <th>category</th>\n",
       "      <th>category_name</th>\n",
       "    </tr>\n",
       "  </thead>\n",
       "  <tbody>\n",
       "    <tr>\n",
       "      <th>2299</th>\n",
       "      <td>Good Service-check!</td>\n",
       "      <td>1.0</td>\n",
       "      <td>2</td>\n",
       "      <td>yelp</td>\n",
       "    </tr>\n",
       "    <tr>\n",
       "      <th>602</th>\n",
       "      <td>Those phones are working just fine now.</td>\n",
       "      <td>1.0</td>\n",
       "      <td>0</td>\n",
       "      <td>amazon</td>\n",
       "    </tr>\n",
       "    <tr>\n",
       "      <th>26</th>\n",
       "      <td>I've owned this phone for 7 months now and can...</td>\n",
       "      <td>1.0</td>\n",
       "      <td>0</td>\n",
       "      <td>amazon</td>\n",
       "    </tr>\n",
       "    <tr>\n",
       "      <th>2878</th>\n",
       "      <td>I ordered Albondigas soup - which was just war...</td>\n",
       "      <td>0.0</td>\n",
       "      <td>2</td>\n",
       "      <td>yelp</td>\n",
       "    </tr>\n",
       "  </tbody>\n",
       "</table>\n",
       "</div>"
      ],
      "text/plain": [
       "                                               sentence  score  category  \\\n",
       "2299                                Good Service-check!    1.0         2   \n",
       "602             Those phones are working just fine now.    1.0         0   \n",
       "26    I've owned this phone for 7 months now and can...    1.0         0   \n",
       "2878  I ordered Albondigas soup - which was just war...    0.0         2   \n",
       "\n",
       "     category_name  \n",
       "2299          yelp  \n",
       "602         amazon  \n",
       "26          amazon  \n",
       "2878          yelp  "
      ]
     },
     "execution_count": 201,
     "metadata": {},
     "output_type": "execute_result"
    }
   ],
   "source": [
    "data_sample[0:4]"
   ]
  },
  {
   "cell_type": "code",
   "execution_count": 202,
   "metadata": {},
   "outputs": [],
   "source": [
    "import matplotlib.pyplot as plt\n",
    "%matplotlib inline"
   ]
  },
  {
   "cell_type": "code",
   "execution_count": 206,
   "metadata": {},
   "outputs": [
    {
     "name": "stdout",
     "output_type": "stream",
     "text": [
      "imdb      989\n",
      "yelp      988\n",
      "amazon    980\n",
      "Name: category_name, dtype: int64\n"
     ]
    },
    {
     "data": {
      "text/plain": [
       "<matplotlib.axes._subplots.AxesSubplot at 0x208e96aae48>"
      ]
     },
     "execution_count": 206,
     "metadata": {},
     "output_type": "execute_result"
    },
    {
     "data": {
      "image/png": "[encoded data removed]",
      "text/plain": [
       "<Figure size 576x216 with 1 Axes>"
      ]
     },
     "metadata": {
      "needs_background": "light"
     },
     "output_type": "display_data"
    }
   ],
   "source": [
    "print(data.category_name.value_counts())\n",
    "\n",
    "# plot barchart for data\n",
    "data.category_name.value_counts().plot(kind = 'bar',\n",
    "                                    title = 'Category distribution',\n",
    "                                    ylim = [0, 1500],        \n",
    "                                    rot = 0, fontsize = 11, figsize = (8,3))"
   ]
  },
  {
   "cell_type": "code",
   "execution_count": 207,
   "metadata": {},
   "outputs": [
    {
     "name": "stdout",
     "output_type": "stream",
     "text": [
      "imdb      335\n",
      "yelp      333\n",
      "amazon    332\n",
      "Name: category_name, dtype: int64\n"
     ]
    },
    {
     "data": {
      "text/plain": [
       "<matplotlib.axes._subplots.AxesSubplot at 0x208ee953348>"
      ]
     },
     "execution_count": 207,
     "metadata": {},
     "output_type": "execute_result"
    },
    {
     "data": {
      "image/png": "[encoded data removed]",
      "text/plain": [
       "<Figure size 576x216 with 1 Axes>"
      ]
     },
     "metadata": {
      "needs_background": "light"
     },
     "output_type": "display_data"
    }
   ],
   "source": [
    "print(data_sample.category_name.value_counts())\n",
    "\n",
    "# plot barchart for data_sample\n",
    "data_sample.category_name.value_counts().plot(kind = 'bar',\n",
    "                                           title = 'Category distribution',\n",
    "                                           ylim = [0, 600], \n",
    "                                           rot = 0, fontsize = 12, figsize = (8,3))"
   ]
  },
  {
   "cell_type": "code",
   "execution_count": 210,
   "metadata": {},
   "outputs": [
    {
     "name": "stdout",
     "output_type": "stream",
     "text": [
      "imdb      335\n",
      "yelp      333\n",
      "amazon    332\n",
      "Name: category_name, dtype: int64\n"
     ]
    },
    {
     "data": {
      "text/plain": [
       "<matplotlib.axes._subplots.AxesSubplot at 0x208eea81988>"
      ]
     },
     "execution_count": 210,
     "metadata": {},
     "output_type": "execute_result"
    },
    {
     "data": {
      "image/png": "[encoded data removed]",
      "text/plain": [
       "<Figure size 576x216 with 1 Axes>"
      ]
     },
     "metadata": {
      "needs_background": "light"
     },
     "output_type": "display_data"
    }
   ],
   "source": [
    "upper_bound = max(data_sample.category_name.value_counts()) + 50\n",
    "\n",
    "print(data_sample.category_name.value_counts())\n",
    "\n",
    "data_sample.category_name.value_counts().plot(kind = 'bar',\n",
    "                                           title = 'Category distribution',\n",
    "                                           ylim = [0, upper_bound], \n",
    "                                           rot = 0, fontsize = 12, figsize = (8,3))"
   ]
  },
  {
   "cell_type": "code",
   "execution_count": 214,
   "metadata": {},
   "outputs": [
    {
     "data": {
      "text/plain": [
       "<matplotlib.legend.Legend at 0x208eebaa588>"
      ]
     },
     "execution_count": 214,
     "metadata": {},
     "output_type": "execute_result"
    },
    {
     "data": {
      "image/png": "[encoded data removed]",
      "text/plain": [
       "<Figure size 432x288 with 1 Axes>"
      ]
     },
     "metadata": {
      "needs_background": "light"
     },
     "output_type": "display_data"
    }
   ],
   "source": [
    "import numpy as np\n",
    "\n",
    "width = 0.2\n",
    "plt.bar(np.arange(len(data.category_name.value_counts())), data.category_name.value_counts(), width = width)\n",
    "plt.bar(np.arange(len(data_sample.category_name.value_counts())) + width, data_sample.category_name.value_counts(), width = width, color = 'orange')\n",
    "plt.title('Category distribution')\n",
    "plt.xticks(np.arange(3), ('imdb', 'yelp', 'amazon'))\n",
    "plt.legend(('category_name', 'category_name'))"
   ]
  },
  {
   "cell_type": "code",
   "execution_count": 215,
   "metadata": {},
   "outputs": [
    {
     "name": "stderr",
     "output_type": "stream",
     "text": [
      "[nltk_data] Downloading package punkt to\n",
      "[nltk_data]     C:\\Users\\chuck\\AppData\\Roaming\\nltk_data...\n",
      "[nltk_data]   Package punkt is already up-to-date!\n"
     ]
    },
    {
     "data": {
      "text/plain": [
       "True"
      ]
     },
     "execution_count": 215,
     "metadata": {},
     "output_type": "execute_result"
    }
   ],
   "source": [
    "import nltk\n",
    "nltk.download('punkt')"
   ]
  },
  {
   "cell_type": "code",
   "execution_count": 216,
   "metadata": {},
   "outputs": [],
   "source": [
    "# takes a like a minute or two to process\n",
    "data['unigrams'] = data['sentence'].apply(lambda x: dmh.tokenize_text(x))"
   ]
  },
  {
   "cell_type": "code",
   "execution_count": 217,
   "metadata": {},
   "outputs": [
    {
     "data": {
      "text/plain": [
       "0    [So, there, is, no, way, for, me, to, plug, it...\n",
       "1                 [Good, case, ,, Excellent, value, .]\n",
       "2                        [Great, for, the, jawbone, .]\n",
       "3    [Tied, to, charger, for, conversations, lastin...\n",
       "Name: unigrams, dtype: object"
      ]
     },
     "execution_count": 217,
     "metadata": {},
     "output_type": "execute_result"
    }
   ],
   "source": [
    "data[0:4][\"unigrams\"]"
   ]
  },
  {
   "cell_type": "code",
   "execution_count": 218,
   "metadata": {},
   "outputs": [
    {
     "data": {
      "text/html": [
       "<div>\n",
       "<style scoped>\n",
       "    .dataframe tbody tr th:only-of-type {\n",
       "        vertical-align: middle;\n",
       "    }\n",
       "\n",
       "    .dataframe tbody tr th {\n",
       "        vertical-align: top;\n",
       "    }\n",
       "\n",
       "    .dataframe thead th {\n",
       "        text-align: right;\n",
       "    }\n",
       "</style>\n",
       "<table border=\"1\" class=\"dataframe\">\n",
       "  <thead>\n",
       "    <tr style=\"text-align: right;\">\n",
       "      <th></th>\n",
       "      <th>sentence</th>\n",
       "      <th>score</th>\n",
       "      <th>category</th>\n",
       "      <th>category_name</th>\n",
       "      <th>unigrams</th>\n",
       "    </tr>\n",
       "  </thead>\n",
       "  <tbody>\n",
       "    <tr>\n",
       "      <th>0</th>\n",
       "      <td>So there is no way for me to plug it in here i...</td>\n",
       "      <td>0.0</td>\n",
       "      <td>0</td>\n",
       "      <td>amazon</td>\n",
       "      <td>[So, there, is, no, way, for, me, to, plug, it...</td>\n",
       "    </tr>\n",
       "    <tr>\n",
       "      <th>1</th>\n",
       "      <td>Good case, Excellent value.</td>\n",
       "      <td>1.0</td>\n",
       "      <td>0</td>\n",
       "      <td>amazon</td>\n",
       "      <td>[Good, case, ,, Excellent, value, .]</td>\n",
       "    </tr>\n",
       "    <tr>\n",
       "      <th>2</th>\n",
       "      <td>Great for the jawbone.</td>\n",
       "      <td>1.0</td>\n",
       "      <td>0</td>\n",
       "      <td>amazon</td>\n",
       "      <td>[Great, for, the, jawbone, .]</td>\n",
       "    </tr>\n",
       "    <tr>\n",
       "      <th>3</th>\n",
       "      <td>Tied to charger for conversations lasting more...</td>\n",
       "      <td>0.0</td>\n",
       "      <td>0</td>\n",
       "      <td>amazon</td>\n",
       "      <td>[Tied, to, charger, for, conversations, lastin...</td>\n",
       "    </tr>\n",
       "  </tbody>\n",
       "</table>\n",
       "</div>"
      ],
      "text/plain": [
       "                                            sentence  score  category  \\\n",
       "0  So there is no way for me to plug it in here i...    0.0         0   \n",
       "1                        Good case, Excellent value.    1.0         0   \n",
       "2                             Great for the jawbone.    1.0         0   \n",
       "3  Tied to charger for conversations lasting more...    0.0         0   \n",
       "\n",
       "  category_name                                           unigrams  \n",
       "0        amazon  [So, there, is, no, way, for, me, to, plug, it...  \n",
       "1        amazon               [Good, case, ,, Excellent, value, .]  \n",
       "2        amazon                      [Great, for, the, jawbone, .]  \n",
       "3        amazon  [Tied, to, charger, for, conversations, lastin...  "
      ]
     },
     "execution_count": 218,
     "metadata": {},
     "output_type": "execute_result"
    }
   ],
   "source": [
    "data[0:4]"
   ]
  },
  {
   "cell_type": "code",
   "execution_count": 219,
   "metadata": {},
   "outputs": [
    {
     "data": {
      "text/plain": [
       "[['So',\n",
       "  'there',\n",
       "  'is',\n",
       "  'no',\n",
       "  'way',\n",
       "  'for',\n",
       "  'me',\n",
       "  'to',\n",
       "  'plug',\n",
       "  'it',\n",
       "  'in',\n",
       "  'here',\n",
       "  'in',\n",
       "  'the',\n",
       "  'US',\n",
       "  'unless',\n",
       "  'I',\n",
       "  'go',\n",
       "  'by',\n",
       "  'a',\n",
       "  'converter',\n",
       "  '.']]"
      ]
     },
     "execution_count": 219,
     "metadata": {},
     "output_type": "execute_result"
    }
   ],
   "source": [
    "list(data[0:1]['unigrams'])"
   ]
  },
  {
   "cell_type": "code",
   "execution_count": 224,
   "metadata": {},
   "outputs": [],
   "source": [
    "from sklearn.feature_extraction.text import CountVectorizer\n",
    "\n",
    "count_vect = CountVectorizer()\n",
    "data_counts = count_vect.fit_transform(data.sentence)"
   ]
  },
  {
   "cell_type": "code",
   "execution_count": 225,
   "metadata": {},
   "outputs": [
    {
     "data": {
      "text/plain": [
       "['so',\n",
       " 'there',\n",
       " 'is',\n",
       " 'no',\n",
       " 'way',\n",
       " 'for',\n",
       " 'me',\n",
       " 'to',\n",
       " 'plug',\n",
       " 'it',\n",
       " 'in',\n",
       " 'here',\n",
       " 'in',\n",
       " 'the',\n",
       " 'us',\n",
       " 'unless',\n",
       " 'go',\n",
       " 'by',\n",
       " 'converter']"
      ]
     },
     "execution_count": 225,
     "metadata": {},
     "output_type": "execute_result"
    }
   ],
   "source": [
    "analyze(\" \".join(list(data[:1].sentence))) #more clean"
   ]
  },
  {
   "cell_type": "code",
   "execution_count": 226,
   "metadata": {},
   "outputs": [
    {
     "data": {
      "text/plain": [
       "(2957, 5148)"
      ]
     },
     "execution_count": 226,
     "metadata": {},
     "output_type": "execute_result"
    }
   ],
   "source": [
    "data_counts.shape"
   ]
  },
  {
   "cell_type": "code",
   "execution_count": 227,
   "metadata": {},
   "outputs": [
    {
     "data": {
      "text/plain": [
       "['00', '10', '100', '11', '12', '13', '15', '15g', '15pm', '17']"
      ]
     },
     "execution_count": 227,
     "metadata": {},
     "output_type": "execute_result"
    }
   ],
   "source": [
    "count_vect.get_feature_names()[0:10]"
   ]
  },
  {
   "cell_type": "code",
   "execution_count": 228,
   "metadata": {},
   "outputs": [
    {
     "data": {
      "text/html": [
       "<div>\n",
       "<style scoped>\n",
       "    .dataframe tbody tr th:only-of-type {\n",
       "        vertical-align: middle;\n",
       "    }\n",
       "\n",
       "    .dataframe tbody tr th {\n",
       "        vertical-align: top;\n",
       "    }\n",
       "\n",
       "    .dataframe thead th {\n",
       "        text-align: right;\n",
       "    }\n",
       "</style>\n",
       "<table border=\"1\" class=\"dataframe\">\n",
       "  <thead>\n",
       "    <tr style=\"text-align: right;\">\n",
       "      <th></th>\n",
       "      <th>sentence</th>\n",
       "      <th>score</th>\n",
       "      <th>category</th>\n",
       "      <th>category_name</th>\n",
       "      <th>unigrams</th>\n",
       "    </tr>\n",
       "  </thead>\n",
       "  <tbody>\n",
       "    <tr>\n",
       "      <th>0</th>\n",
       "      <td>So there is no way for me to plug it in here i...</td>\n",
       "      <td>0.0</td>\n",
       "      <td>0</td>\n",
       "      <td>amazon</td>\n",
       "      <td>[So, there, is, no, way, for, me, to, plug, it...</td>\n",
       "    </tr>\n",
       "    <tr>\n",
       "      <th>1</th>\n",
       "      <td>Good case, Excellent value.</td>\n",
       "      <td>1.0</td>\n",
       "      <td>0</td>\n",
       "      <td>amazon</td>\n",
       "      <td>[Good, case, ,, Excellent, value, .]</td>\n",
       "    </tr>\n",
       "    <tr>\n",
       "      <th>2</th>\n",
       "      <td>Great for the jawbone.</td>\n",
       "      <td>1.0</td>\n",
       "      <td>0</td>\n",
       "      <td>amazon</td>\n",
       "      <td>[Great, for, the, jawbone, .]</td>\n",
       "    </tr>\n",
       "    <tr>\n",
       "      <th>3</th>\n",
       "      <td>Tied to charger for conversations lasting more...</td>\n",
       "      <td>0.0</td>\n",
       "      <td>0</td>\n",
       "      <td>amazon</td>\n",
       "      <td>[Tied, to, charger, for, conversations, lastin...</td>\n",
       "    </tr>\n",
       "    <tr>\n",
       "      <th>4</th>\n",
       "      <td>The mic is great.</td>\n",
       "      <td>1.0</td>\n",
       "      <td>0</td>\n",
       "      <td>amazon</td>\n",
       "      <td>[The, mic, is, great, .]</td>\n",
       "    </tr>\n",
       "  </tbody>\n",
       "</table>\n",
       "</div>"
      ],
      "text/plain": [
       "                                            sentence  score  category  \\\n",
       "0  So there is no way for me to plug it in here i...    0.0         0   \n",
       "1                        Good case, Excellent value.    1.0         0   \n",
       "2                             Great for the jawbone.    1.0         0   \n",
       "3  Tied to charger for conversations lasting more...    0.0         0   \n",
       "4                                  The mic is great.    1.0         0   \n",
       "\n",
       "  category_name                                           unigrams  \n",
       "0        amazon  [So, there, is, no, way, for, me, to, plug, it...  \n",
       "1        amazon               [Good, case, ,, Excellent, value, .]  \n",
       "2        amazon                      [Great, for, the, jawbone, .]  \n",
       "3        amazon  [Tied, to, charger, for, conversations, lastin...  \n",
       "4        amazon                           [The, mic, is, great, .]  "
      ]
     },
     "execution_count": 228,
     "metadata": {},
     "output_type": "execute_result"
    }
   ],
   "source": [
    "data[0:5]"
   ]
  },
  {
   "cell_type": "code",
   "execution_count": 229,
   "metadata": {},
   "outputs": [
    {
     "data": {
      "text/plain": [
       "array([[0, 0, 0, 0, 0, 0, 0, 0, 0, 0, 0, 0, 0, 0, 0, 0, 0, 0, 0, 0, 0, 0,\n",
       "        0, 0, 0, 0, 0, 0, 0, 0, 0, 0, 0, 0, 0, 0, 0, 0, 0, 0, 0, 0, 0, 0,\n",
       "        0, 0, 0, 0, 0, 0, 0, 0, 0, 0, 0, 0, 0, 0, 0, 0, 0, 0, 0, 0, 0, 0,\n",
       "        0, 0, 0, 0, 0, 0, 0, 0, 0, 0, 0, 0, 0, 0, 0, 0, 0, 0, 0, 0, 0, 0,\n",
       "        0, 0, 0, 0, 0, 0, 0, 0, 0, 0, 0, 0],\n",
       "       [0, 0, 0, 0, 0, 0, 0, 0, 0, 0, 0, 0, 0, 0, 0, 0, 0, 0, 0, 0, 0, 0,\n",
       "        0, 0, 0, 0, 0, 0, 0, 0, 0, 0, 0, 0, 0, 0, 0, 0, 0, 0, 0, 0, 0, 0,\n",
       "        0, 0, 0, 0, 0, 0, 0, 0, 0, 0, 0, 0, 0, 0, 0, 0, 0, 0, 0, 0, 0, 0,\n",
       "        0, 0, 0, 0, 0, 0, 0, 0, 0, 0, 0, 0, 0, 0, 0, 0, 0, 0, 0, 0, 0, 0,\n",
       "        0, 0, 0, 0, 0, 0, 0, 0, 0, 0, 0, 0],\n",
       "       [0, 0, 0, 0, 0, 0, 0, 0, 0, 0, 0, 0, 0, 0, 0, 0, 0, 0, 0, 0, 0, 0,\n",
       "        0, 0, 0, 0, 0, 0, 0, 0, 0, 0, 0, 0, 0, 0, 0, 0, 0, 0, 0, 0, 0, 0,\n",
       "        0, 0, 0, 0, 0, 0, 0, 0, 0, 0, 0, 0, 0, 0, 0, 0, 0, 0, 0, 0, 0, 0,\n",
       "        0, 0, 0, 0, 0, 0, 0, 0, 0, 0, 0, 0, 0, 0, 0, 0, 0, 0, 0, 0, 0, 0,\n",
       "        0, 0, 0, 0, 0, 0, 0, 0, 0, 0, 0, 0],\n",
       "       [0, 0, 0, 0, 0, 0, 0, 0, 0, 0, 0, 0, 0, 0, 0, 0, 0, 0, 0, 0, 0, 0,\n",
       "        0, 0, 0, 0, 0, 0, 0, 0, 0, 0, 0, 0, 0, 0, 0, 0, 0, 0, 0, 0, 0, 0,\n",
       "        0, 1, 0, 0, 0, 0, 0, 0, 0, 0, 0, 0, 0, 0, 0, 0, 0, 0, 0, 0, 0, 0,\n",
       "        0, 0, 0, 0, 0, 0, 0, 0, 0, 0, 0, 0, 0, 0, 0, 0, 0, 0, 0, 0, 0, 0,\n",
       "        0, 0, 0, 0, 0, 0, 0, 0, 0, 0, 0, 0],\n",
       "       [0, 0, 0, 0, 0, 0, 0, 0, 0, 0, 0, 0, 0, 0, 0, 0, 0, 0, 0, 0, 0, 0,\n",
       "        0, 0, 0, 0, 0, 0, 0, 0, 0, 0, 0, 0, 0, 0, 0, 0, 0, 0, 0, 0, 0, 0,\n",
       "        0, 0, 0, 0, 0, 0, 0, 0, 0, 0, 0, 0, 0, 0, 0, 0, 0, 0, 0, 0, 0, 0,\n",
       "        0, 0, 0, 0, 0, 0, 0, 0, 0, 0, 0, 0, 0, 0, 0, 0, 0, 0, 0, 0, 0, 0,\n",
       "        0, 0, 0, 0, 0, 0, 0, 0, 0, 0, 0, 0]], dtype=int64)"
      ]
     },
     "execution_count": 229,
     "metadata": {},
     "output_type": "execute_result"
    }
   ],
   "source": [
    "# we convert from sparse array to normal array\n",
    "data_counts[0:5, 0:100].toarray()"
   ]
  },
  {
   "cell_type": "code",
   "execution_count": 230,
   "metadata": {},
   "outputs": [
    {
     "data": {
      "text/plain": [
       "array([[0, 0, 0, ..., 0, 0, 0]], dtype=int64)"
      ]
     },
     "execution_count": 230,
     "metadata": {},
     "output_type": "execute_result"
    }
   ],
   "source": [
    "count_vect.transform(['Something completely new.']).toarray()"
   ]
  },
  {
   "cell_type": "code",
   "execution_count": 231,
   "metadata": {},
   "outputs": [
    {
     "data": {
      "text/plain": [
       "array([[1, 0, 0, ..., 0, 0, 0]], dtype=int64)"
      ]
     },
     "execution_count": 231,
     "metadata": {},
     "output_type": "execute_result"
    }
   ],
   "source": [
    "count_vect.transform(['00 Something completely new.']).toarray()"
   ]
  },
  {
   "cell_type": "code",
   "execution_count": 234,
   "metadata": {},
   "outputs": [],
   "source": [
    "plot_x = [\"term_\"+str(i) for i in count_vect.get_feature_names()[0:20]]"
   ]
  },
  {
   "cell_type": "code",
   "execution_count": 235,
   "metadata": {},
   "outputs": [
    {
     "data": {
      "text/plain": [
       "['term_00',\n",
       " 'term_10',\n",
       " 'term_100',\n",
       " 'term_11',\n",
       " 'term_12',\n",
       " 'term_13',\n",
       " 'term_15',\n",
       " 'term_15g',\n",
       " 'term_15pm',\n",
       " 'term_17',\n",
       " 'term_18',\n",
       " 'term_18th',\n",
       " 'term_1928',\n",
       " 'term_1947',\n",
       " 'term_1948',\n",
       " 'term_1949',\n",
       " 'term_1971',\n",
       " 'term_1973',\n",
       " 'term_1979',\n",
       " 'term_1980']"
      ]
     },
     "execution_count": 235,
     "metadata": {},
     "output_type": "execute_result"
    }
   ],
   "source": [
    "plot_x"
   ]
  },
  {
   "cell_type": "code",
   "execution_count": 237,
   "metadata": {},
   "outputs": [],
   "source": [
    "plot_y = [\"doc_\"+ str(i) for i in list(data.index)[0:20]]"
   ]
  },
  {
   "cell_type": "code",
   "execution_count": 238,
   "metadata": {},
   "outputs": [],
   "source": [
    "plot_z = data_counts[0:20, 0:20].toarray()"
   ]
  },
  {
   "cell_type": "code",
   "execution_count": 239,
   "metadata": {},
   "outputs": [
    {
     "data": {
      "image/png": "[encoded data removed]",
      "text/plain": [
       "<Figure size 648x504 with 2 Axes>"
      ]
     },
     "metadata": {
      "needs_background": "light"
     },
     "output_type": "display_data"
    }
   ],
   "source": [
    "import seaborn as sns\n",
    "df_todraw = pd.DataFrame(plot_z, columns = plot_x, index = plot_y)\n",
    "plt.subplots(figsize=(9, 7))\n",
    "ax = sns.heatmap(df_todraw,\n",
    "                 cmap=\"PuRd\",\n",
    "                 vmin=0, vmax=1, annot=True)"
   ]
  },
  {
   "cell_type": "code",
   "execution_count": 242,
   "metadata": {},
   "outputs": [
    {
     "data": {
      "image/png": "[encoded data removed]",
      "text/plain": [
       "<Figure size 1800x1224 with 2 Axes>"
      ]
     },
     "metadata": {
      "needs_background": "light"
     },
     "output_type": "display_data"
    }
   ],
   "source": [
    "plot_x1 = [\"term_\"+str(i) for i in count_vect.get_feature_names()[0:100]]\n",
    "plot_y1 = [\"doc_\"+ str(i) for i in list(data.index)[0:100]]\n",
    "plot_z1 = data_counts[0:100, 0:100].toarray()\n",
    "\n",
    "df_todraw = pd.DataFrame(plot_z1, columns = plot_x1, index = plot_y1)\n",
    "plt.subplots(figsize=(25, 17))\n",
    "ax = sns.heatmap(df_todraw,\n",
    "                 cmap=\"PuRd\",\n",
    "                 vmin=0, vmax=1, annot=True, mask=df_todraw<1)"
   ]
  },
  {
   "cell_type": "code",
   "execution_count": 243,
   "metadata": {},
   "outputs": [],
   "source": [
    "from sklearn.decomposition import PCA"
   ]
  },
  {
   "cell_type": "code",
   "execution_count": 244,
   "metadata": {},
   "outputs": [],
   "source": [
    "data_reduced = PCA(n_components = 2).fit_transform(data_counts.toarray())"
   ]
  },
  {
   "cell_type": "code",
   "execution_count": 246,
   "metadata": {},
   "outputs": [
    {
     "data": {
      "text/plain": [
       "(2957, 2)"
      ]
     },
     "execution_count": 246,
     "metadata": {},
     "output_type": "execute_result"
    }
   ],
   "source": [
    "data_reduced.shape"
   ]
  },
  {
   "cell_type": "code",
   "execution_count": 332,
   "metadata": {},
   "outputs": [
    {
     "data": {
      "image/png": "[encoded data removed]",
      "text/plain": [
       "<Figure size 1800x720 with 1 Axes>"
      ]
     },
     "metadata": {
      "needs_background": "light"
     },
     "output_type": "display_data"
    }
   ],
   "source": [
    "col = ['coral', 'blue', 'black']\n",
    "\n",
    "# plot\n",
    "fig = plt.figure(figsize = (25,10))\n",
    "ax = fig.subplots()\n",
    "\n",
    "for c, category in zip(col, categories):\n",
    "    xs = data_reduced[data['category_name'] == category].T[0]\n",
    "    ys = data_reduced[data['category_name'] == category].T[1]\n",
    "   \n",
    "    ax.scatter(xs, ys, c = c, marker='o')\n",
    "\n",
    "ax.grid(color='gray', linestyle=':', linewidth=2, alpha=0.2)\n",
    "ax.set_xlabel('\\nX Label')\n",
    "ax.set_ylabel('\\nY Label')\n",
    "\n",
    "plt.show()"
   ]
  },
  {
   "cell_type": "code",
   "execution_count": 248,
   "metadata": {},
   "outputs": [],
   "source": [
    "term_frequencies = []\n",
    "for j in range(0,data_counts.shape[1]):\n",
    "    term_frequencies.append(sum(data_counts[:,j].toarray()))"
   ]
  },
  {
   "cell_type": "code",
   "execution_count": 249,
   "metadata": {},
   "outputs": [],
   "source": [
    "term_frequencies = np.asarray(data_counts.sum(axis=0))[0]"
   ]
  },
  {
   "cell_type": "code",
   "execution_count": 250,
   "metadata": {},
   "outputs": [
    {
     "data": {
      "text/plain": [
       "1"
      ]
     },
     "execution_count": 250,
     "metadata": {},
     "output_type": "execute_result"
    }
   ],
   "source": [
    "term_frequencies[0]"
   ]
  },
  {
   "cell_type": "code",
   "execution_count": 251,
   "metadata": {},
   "outputs": [
    {
     "data": {
      "image/png": "[encoded data removed]",
      "text/plain": [
       "<Figure size 7200x720 with 1 Axes>"
      ]
     },
     "metadata": {
      "needs_background": "light"
     },
     "output_type": "display_data"
    }
   ],
   "source": [
    "plt.subplots(figsize=(100, 10))\n",
    "g = sns.barplot(x=count_vect.get_feature_names()[:300], \n",
    "            y=term_frequencies[:300])\n",
    "g.set_xticklabels(count_vect.get_feature_names()[:300], rotation = 90);"
   ]
  },
  {
   "cell_type": "code",
   "execution_count": 256,
   "metadata": {},
   "outputs": [
    {
     "data": {
      "image/png": "[encoded data removed]",
      "text/plain": [
       "<Figure size 3600x720 with 1 Axes>"
      ]
     },
     "metadata": {
      "needs_background": "light"
     },
     "output_type": "display_data"
    }
   ],
   "source": [
    "new_term_frequencies = term_frequencies[term_frequencies > 50]\n",
    "plt.subplots(figsize=(50, 10))\n",
    "g = sns.barplot(x=count_vect.get_feature_names()[:50], \n",
    "            y=new_term_frequencies[:50])\n",
    "g.set_xticklabels(count_vect.get_feature_names()[:50], rotation = 90);"
   ]
  },
  {
   "cell_type": "code",
   "execution_count": 258,
   "metadata": {},
   "outputs": [
    {
     "data": {
      "image/png": "[encoded data removed]",
      "text/plain": [
       "<Figure size 3600x720 with 1 Axes>"
      ]
     },
     "metadata": {
      "needs_background": "light"
     },
     "output_type": "display_data"
    }
   ],
   "source": [
    "new_term_frequencies = term_frequencies[term_frequencies > 50]\n",
    "sort = np.argsort(-new_term_frequencies)\n",
    "plt.subplots(figsize=(50, 10))\n",
    "g = sns.barplot(x=np.asarray(count_vect.get_feature_names())[sort[:50]], \n",
    "            y=new_term_frequencies[sort[:50]])\n",
    "g.set_xticklabels(count_vect.get_feature_names()[:50], rotation = 90);"
   ]
  },
  {
   "cell_type": "code",
   "execution_count": 259,
   "metadata": {},
   "outputs": [],
   "source": [
    "import math\n",
    "term_frequencies_log = [math.log(i) for i in term_frequencies]"
   ]
  },
  {
   "cell_type": "code",
   "execution_count": 260,
   "metadata": {},
   "outputs": [
    {
     "data": {
      "image/png": "[encoded data removed]",
      "text/plain": [
       "<Figure size 7200x720 with 1 Axes>"
      ]
     },
     "metadata": {
      "needs_background": "light"
     },
     "output_type": "display_data"
    }
   ],
   "source": [
    "plt.subplots(figsize=(100, 10))\n",
    "g = sns.barplot(x=count_vect.get_feature_names()[:300],\n",
    "                y=term_frequencies_log[:300])\n",
    "g.set_xticklabels(count_vect.get_feature_names()[:300], rotation = 90);"
   ]
  },
  {
   "cell_type": "code",
   "execution_count": 261,
   "metadata": {},
   "outputs": [],
   "source": [
    "from sklearn import preprocessing, metrics, decomposition, pipeline, dummy"
   ]
  },
  {
   "cell_type": "code",
   "execution_count": 262,
   "metadata": {},
   "outputs": [],
   "source": [
    "mlb = preprocessing.LabelBinarizer()"
   ]
  },
  {
   "cell_type": "code",
   "execution_count": 263,
   "metadata": {},
   "outputs": [
    {
     "data": {
      "text/plain": [
       "LabelBinarizer(neg_label=0, pos_label=1, sparse_output=False)"
      ]
     },
     "execution_count": 263,
     "metadata": {},
     "output_type": "execute_result"
    }
   ],
   "source": [
    "mlb.fit(data.category)"
   ]
  },
  {
   "cell_type": "code",
   "execution_count": 264,
   "metadata": {},
   "outputs": [
    {
     "data": {
      "text/plain": [
       "array([0, 1, 2], dtype=int64)"
      ]
     },
     "execution_count": 264,
     "metadata": {},
     "output_type": "execute_result"
    }
   ],
   "source": [
    "mlb.classes_"
   ]
  },
  {
   "cell_type": "code",
   "execution_count": 265,
   "metadata": {},
   "outputs": [],
   "source": [
    "data['bin_category'] = mlb.transform(data['category']).tolist()"
   ]
  },
  {
   "cell_type": "code",
   "execution_count": 267,
   "metadata": {},
   "outputs": [
    {
     "data": {
      "text/html": [
       "<div>\n",
       "<style scoped>\n",
       "    .dataframe tbody tr th:only-of-type {\n",
       "        vertical-align: middle;\n",
       "    }\n",
       "\n",
       "    .dataframe tbody tr th {\n",
       "        vertical-align: top;\n",
       "    }\n",
       "\n",
       "    .dataframe thead th {\n",
       "        text-align: right;\n",
       "    }\n",
       "</style>\n",
       "<table border=\"1\" class=\"dataframe\">\n",
       "  <thead>\n",
       "    <tr style=\"text-align: right;\">\n",
       "      <th></th>\n",
       "      <th>sentence</th>\n",
       "      <th>score</th>\n",
       "      <th>category</th>\n",
       "      <th>category_name</th>\n",
       "      <th>unigrams</th>\n",
       "      <th>bin_category</th>\n",
       "    </tr>\n",
       "  </thead>\n",
       "  <tbody>\n",
       "    <tr>\n",
       "      <th>0</th>\n",
       "      <td>So there is no way for me to plug it in here i...</td>\n",
       "      <td>0.0</td>\n",
       "      <td>0</td>\n",
       "      <td>amazon</td>\n",
       "      <td>[So, there, is, no, way, for, me, to, plug, it...</td>\n",
       "      <td>[1, 0, 0]</td>\n",
       "    </tr>\n",
       "    <tr>\n",
       "      <th>1</th>\n",
       "      <td>Good case, Excellent value.</td>\n",
       "      <td>1.0</td>\n",
       "      <td>0</td>\n",
       "      <td>amazon</td>\n",
       "      <td>[Good, case, ,, Excellent, value, .]</td>\n",
       "      <td>[1, 0, 0]</td>\n",
       "    </tr>\n",
       "    <tr>\n",
       "      <th>2</th>\n",
       "      <td>Great for the jawbone.</td>\n",
       "      <td>1.0</td>\n",
       "      <td>0</td>\n",
       "      <td>amazon</td>\n",
       "      <td>[Great, for, the, jawbone, .]</td>\n",
       "      <td>[1, 0, 0]</td>\n",
       "    </tr>\n",
       "    <tr>\n",
       "      <th>3</th>\n",
       "      <td>Tied to charger for conversations lasting more...</td>\n",
       "      <td>0.0</td>\n",
       "      <td>0</td>\n",
       "      <td>amazon</td>\n",
       "      <td>[Tied, to, charger, for, conversations, lastin...</td>\n",
       "      <td>[1, 0, 0]</td>\n",
       "    </tr>\n",
       "    <tr>\n",
       "      <th>4</th>\n",
       "      <td>The mic is great.</td>\n",
       "      <td>1.0</td>\n",
       "      <td>0</td>\n",
       "      <td>amazon</td>\n",
       "      <td>[The, mic, is, great, .]</td>\n",
       "      <td>[1, 0, 0]</td>\n",
       "    </tr>\n",
       "    <tr>\n",
       "      <th>5</th>\n",
       "      <td>I have to jiggle the plug to get it to line up...</td>\n",
       "      <td>0.0</td>\n",
       "      <td>0</td>\n",
       "      <td>amazon</td>\n",
       "      <td>[I, have, to, jiggle, the, plug, to, get, it, ...</td>\n",
       "      <td>[1, 0, 0]</td>\n",
       "    </tr>\n",
       "    <tr>\n",
       "      <th>6</th>\n",
       "      <td>If you have several dozen or several hundred c...</td>\n",
       "      <td>0.0</td>\n",
       "      <td>0</td>\n",
       "      <td>amazon</td>\n",
       "      <td>[If, you, have, several, dozen, or, several, h...</td>\n",
       "      <td>[1, 0, 0]</td>\n",
       "    </tr>\n",
       "    <tr>\n",
       "      <th>7</th>\n",
       "      <td>If you are Razr owner...you must have this!</td>\n",
       "      <td>1.0</td>\n",
       "      <td>0</td>\n",
       "      <td>amazon</td>\n",
       "      <td>[If, you, are, Razr, owner, ..., you, must, ha...</td>\n",
       "      <td>[1, 0, 0]</td>\n",
       "    </tr>\n",
       "    <tr>\n",
       "      <th>8</th>\n",
       "      <td>Needless to say, I wasted my money.</td>\n",
       "      <td>0.0</td>\n",
       "      <td>0</td>\n",
       "      <td>amazon</td>\n",
       "      <td>[Needless, to, say, ,, I, wasted, my, money, .]</td>\n",
       "      <td>[1, 0, 0]</td>\n",
       "    </tr>\n",
       "  </tbody>\n",
       "</table>\n",
       "</div>"
      ],
      "text/plain": [
       "                                            sentence  score  category  \\\n",
       "0  So there is no way for me to plug it in here i...    0.0         0   \n",
       "1                        Good case, Excellent value.    1.0         0   \n",
       "2                             Great for the jawbone.    1.0         0   \n",
       "3  Tied to charger for conversations lasting more...    0.0         0   \n",
       "4                                  The mic is great.    1.0         0   \n",
       "5  I have to jiggle the plug to get it to line up...    0.0         0   \n",
       "6  If you have several dozen or several hundred c...    0.0         0   \n",
       "7        If you are Razr owner...you must have this!    1.0         0   \n",
       "8                Needless to say, I wasted my money.    0.0         0   \n",
       "\n",
       "  category_name                                           unigrams  \\\n",
       "0        amazon  [So, there, is, no, way, for, me, to, plug, it...   \n",
       "1        amazon               [Good, case, ,, Excellent, value, .]   \n",
       "2        amazon                      [Great, for, the, jawbone, .]   \n",
       "3        amazon  [Tied, to, charger, for, conversations, lastin...   \n",
       "4        amazon                           [The, mic, is, great, .]   \n",
       "5        amazon  [I, have, to, jiggle, the, plug, to, get, it, ...   \n",
       "6        amazon  [If, you, have, several, dozen, or, several, h...   \n",
       "7        amazon  [If, you, are, Razr, owner, ..., you, must, ha...   \n",
       "8        amazon    [Needless, to, say, ,, I, wasted, my, money, .]   \n",
       "\n",
       "  bin_category  \n",
       "0    [1, 0, 0]  \n",
       "1    [1, 0, 0]  \n",
       "2    [1, 0, 0]  \n",
       "3    [1, 0, 0]  \n",
       "4    [1, 0, 0]  \n",
       "5    [1, 0, 0]  \n",
       "6    [1, 0, 0]  \n",
       "7    [1, 0, 0]  \n",
       "8    [1, 0, 0]  "
      ]
     },
     "execution_count": 267,
     "metadata": {},
     "output_type": "execute_result"
    }
   ],
   "source": [
    "data[0:9]"
   ]
  },
  {
   "cell_type": "code",
   "execution_count": 268,
   "metadata": {},
   "outputs": [
    {
     "data": {
      "text/html": [
       "<div>\n",
       "<style scoped>\n",
       "    .dataframe tbody tr th:only-of-type {\n",
       "        vertical-align: middle;\n",
       "    }\n",
       "\n",
       "    .dataframe tbody tr th {\n",
       "        vertical-align: top;\n",
       "    }\n",
       "\n",
       "    .dataframe thead th {\n",
       "        text-align: right;\n",
       "    }\n",
       "</style>\n",
       "<table border=\"1\" class=\"dataframe\">\n",
       "  <thead>\n",
       "    <tr style=\"text-align: right;\">\n",
       "      <th></th>\n",
       "      <th>sentence</th>\n",
       "      <th>score</th>\n",
       "      <th>category</th>\n",
       "      <th>category_name</th>\n",
       "      <th>unigrams</th>\n",
       "      <th>bin_category</th>\n",
       "    </tr>\n",
       "  </thead>\n",
       "  <tbody>\n",
       "    <tr>\n",
       "      <th>0</th>\n",
       "      <td>So there is no way for me to plug it in here i...</td>\n",
       "      <td>0.0</td>\n",
       "      <td>0</td>\n",
       "      <td>amazon</td>\n",
       "      <td>[So, there, is, no, way, for, me, to, plug, it...</td>\n",
       "      <td>[1, 0, 0]</td>\n",
       "    </tr>\n",
       "    <tr>\n",
       "      <th>1</th>\n",
       "      <td>Good case, Excellent value.</td>\n",
       "      <td>1.0</td>\n",
       "      <td>0</td>\n",
       "      <td>amazon</td>\n",
       "      <td>[Good, case, ,, Excellent, value, .]</td>\n",
       "      <td>[1, 0, 0]</td>\n",
       "    </tr>\n",
       "    <tr>\n",
       "      <th>2</th>\n",
       "      <td>Great for the jawbone.</td>\n",
       "      <td>1.0</td>\n",
       "      <td>0</td>\n",
       "      <td>amazon</td>\n",
       "      <td>[Great, for, the, jawbone, .]</td>\n",
       "      <td>[1, 0, 0]</td>\n",
       "    </tr>\n",
       "    <tr>\n",
       "      <th>3</th>\n",
       "      <td>Tied to charger for conversations lasting more...</td>\n",
       "      <td>0.0</td>\n",
       "      <td>0</td>\n",
       "      <td>amazon</td>\n",
       "      <td>[Tied, to, charger, for, conversations, lastin...</td>\n",
       "      <td>[1, 0, 0]</td>\n",
       "    </tr>\n",
       "    <tr>\n",
       "      <th>4</th>\n",
       "      <td>The mic is great.</td>\n",
       "      <td>1.0</td>\n",
       "      <td>0</td>\n",
       "      <td>amazon</td>\n",
       "      <td>[The, mic, is, great, .]</td>\n",
       "      <td>[1, 0, 0]</td>\n",
       "    </tr>\n",
       "    <tr>\n",
       "      <th>5</th>\n",
       "      <td>I have to jiggle the plug to get it to line up...</td>\n",
       "      <td>0.0</td>\n",
       "      <td>0</td>\n",
       "      <td>amazon</td>\n",
       "      <td>[I, have, to, jiggle, the, plug, to, get, it, ...</td>\n",
       "      <td>[1, 0, 0]</td>\n",
       "    </tr>\n",
       "    <tr>\n",
       "      <th>6</th>\n",
       "      <td>If you have several dozen or several hundred c...</td>\n",
       "      <td>0.0</td>\n",
       "      <td>0</td>\n",
       "      <td>amazon</td>\n",
       "      <td>[If, you, have, several, dozen, or, several, h...</td>\n",
       "      <td>[1, 0, 0]</td>\n",
       "    </tr>\n",
       "    <tr>\n",
       "      <th>7</th>\n",
       "      <td>If you are Razr owner...you must have this!</td>\n",
       "      <td>1.0</td>\n",
       "      <td>0</td>\n",
       "      <td>amazon</td>\n",
       "      <td>[If, you, are, Razr, owner, ..., you, must, ha...</td>\n",
       "      <td>[1, 0, 0]</td>\n",
       "    </tr>\n",
       "    <tr>\n",
       "      <th>8</th>\n",
       "      <td>Needless to say, I wasted my money.</td>\n",
       "      <td>0.0</td>\n",
       "      <td>0</td>\n",
       "      <td>amazon</td>\n",
       "      <td>[Needless, to, say, ,, I, wasted, my, money, .]</td>\n",
       "      <td>[1, 0, 0]</td>\n",
       "    </tr>\n",
       "  </tbody>\n",
       "</table>\n",
       "</div>"
      ],
      "text/plain": [
       "                                            sentence  score  category  \\\n",
       "0  So there is no way for me to plug it in here i...    0.0         0   \n",
       "1                        Good case, Excellent value.    1.0         0   \n",
       "2                             Great for the jawbone.    1.0         0   \n",
       "3  Tied to charger for conversations lasting more...    0.0         0   \n",
       "4                                  The mic is great.    1.0         0   \n",
       "5  I have to jiggle the plug to get it to line up...    0.0         0   \n",
       "6  If you have several dozen or several hundred c...    0.0         0   \n",
       "7        If you are Razr owner...you must have this!    1.0         0   \n",
       "8                Needless to say, I wasted my money.    0.0         0   \n",
       "\n",
       "  category_name                                           unigrams  \\\n",
       "0        amazon  [So, there, is, no, way, for, me, to, plug, it...   \n",
       "1        amazon               [Good, case, ,, Excellent, value, .]   \n",
       "2        amazon                      [Great, for, the, jawbone, .]   \n",
       "3        amazon  [Tied, to, charger, for, conversations, lastin...   \n",
       "4        amazon                           [The, mic, is, great, .]   \n",
       "5        amazon  [I, have, to, jiggle, the, plug, to, get, it, ...   \n",
       "6        amazon  [If, you, have, several, dozen, or, several, h...   \n",
       "7        amazon  [If, you, are, Razr, owner, ..., you, must, ha...   \n",
       "8        amazon    [Needless, to, say, ,, I, wasted, my, money, .]   \n",
       "\n",
       "  bin_category  \n",
       "0    [1, 0, 0]  \n",
       "1    [1, 0, 0]  \n",
       "2    [1, 0, 0]  \n",
       "3    [1, 0, 0]  \n",
       "4    [1, 0, 0]  \n",
       "5    [1, 0, 0]  \n",
       "6    [1, 0, 0]  \n",
       "7    [1, 0, 0]  \n",
       "8    [1, 0, 0]  "
      ]
     },
     "execution_count": 268,
     "metadata": {},
     "output_type": "execute_result"
    }
   ],
   "source": [
    "mlb.fit(data.category_name)\n",
    "mlb.classes_\n",
    "data['bin_category'] = mlb.transform(data['category_name']).tolist()\n",
    "data[0:9]"
   ]
  },
  {
   "cell_type": "code",
   "execution_count": 270,
   "metadata": {},
   "outputs": [],
   "source": [
    "document_to_transform_1 = []\n",
    "random_record_1 = data.iloc[50]\n",
    "random_record_1 = random_record_1['sentence']\n",
    "document_to_transform_1.append(random_record_1)\n",
    "\n",
    "document_to_transform_2 = []\n",
    "random_record_2 = data.iloc[100]\n",
    "random_record_2 = random_record_2['sentence']\n",
    "document_to_transform_2.append(random_record_2)\n",
    "\n",
    "document_to_transform_3 = []\n",
    "random_record_3 = data.iloc[150]\n",
    "random_record_3 = random_record_3['sentence']\n",
    "document_to_transform_3.append(random_record_3)"
   ]
  },
  {
   "cell_type": "code",
   "execution_count": 271,
   "metadata": {},
   "outputs": [
    {
     "name": "stdout",
     "output_type": "stream",
     "text": [
      "['good protection and does not make phone too bulky.']\n",
      "['Buyer Beware, you could flush money right down the toilet.']\n",
      "['Audio Quality is poor, very poor.']\n"
     ]
    }
   ],
   "source": [
    "print(document_to_transform_1)\n",
    "print(document_to_transform_2)\n",
    "print(document_to_transform_3)"
   ]
  },
  {
   "cell_type": "code",
   "execution_count": 272,
   "metadata": {},
   "outputs": [
    {
     "name": "stdout",
     "output_type": "stream",
     "text": [
      "Let's take a look at the count vectors:\n",
      "[[0 0 0 ... 0 0 0]]\n",
      "[[0 0 0 ... 0 0 0]]\n",
      "[[0 0 0 ... 0 0 0]]\n"
     ]
    }
   ],
   "source": [
    "from sklearn.preprocessing import binarize\n",
    "\n",
    "# Transform sentence with Vectorizers\n",
    "document_vector_count_1 = count_vect.transform(document_to_transform_1)\n",
    "document_vector_count_2 = count_vect.transform(document_to_transform_2)\n",
    "document_vector_count_3 = count_vect.transform(document_to_transform_3)\n",
    "\n",
    "# Binarize vecors to simplify: 0 for abscence, 1 for prescence\n",
    "document_vector_count_1_bin = binarize(document_vector_count_1)\n",
    "document_vector_count_2_bin = binarize(document_vector_count_2)\n",
    "document_vector_count_3_bin = binarize(document_vector_count_3)\n",
    "\n",
    "# print\n",
    "print(\"Let's take a look at the count vectors:\")\n",
    "print(document_vector_count_1.todense())\n",
    "print(document_vector_count_2.todense())\n",
    "print(document_vector_count_3.todense())"
   ]
  },
  {
   "cell_type": "code",
   "execution_count": 273,
   "metadata": {},
   "outputs": [
    {
     "name": "stdout",
     "output_type": "stream",
     "text": [
      "Cosine Similarity using count bw 1 and 2: 0.000000\n",
      "Cosine Similarity using count bw 1 and 3: 0.000000\n",
      "Cosine Similarity using count bw 1 and 1: 1.000000\n",
      "Cosine Similarity using count bw 2 and 2: 1.000000\n"
     ]
    }
   ],
   "source": [
    "from sklearn.metrics.pairwise import cosine_similarity\n",
    "\n",
    "# Calculate Cosine Similarity\n",
    "cos_sim_count_1_2 = cosine_similarity(document_vector_count_1, document_vector_count_2, dense_output=True)\n",
    "cos_sim_count_1_3 = cosine_similarity(document_vector_count_1, document_vector_count_3, dense_output=True)\n",
    "cos_sim_count_1_1 = cosine_similarity(document_vector_count_1, document_vector_count_1, dense_output=True)\n",
    "cos_sim_count_2_2 = cosine_similarity(document_vector_count_2, document_vector_count_2, dense_output=True)\n",
    "\n",
    "# Print \n",
    "print(\"Cosine Similarity using count bw 1 and 2: %(x)f\" %{\"x\":cos_sim_count_1_2})\n",
    "print(\"Cosine Similarity using count bw 1 and 3: %(x)f\" %{\"x\":cos_sim_count_1_3})\n",
    "print(\"Cosine Similarity using count bw 1 and 1: %(x)f\" %{\"x\":cos_sim_count_1_1})\n",
    "print(\"Cosine Similarity using count bw 2 and 2: %(x)f\" %{\"x\":cos_sim_count_2_2})"
   ]
  },
  {
   "cell_type": "markdown",
   "metadata": {},
   "source": [
    "# Part 3"
   ]
  },
  {
   "cell_type": "code",
   "execution_count": 339,
   "metadata": {},
   "outputs": [],
   "source": [
    "t1 = pd.crosstab(index = data['category_name'], columns = 'r_count')"
   ]
  },
  {
   "cell_type": "code",
   "execution_count": 340,
   "metadata": {},
   "outputs": [
    {
     "name": "stdout",
     "output_type": "stream",
     "text": [
      "col_0          r_count\n",
      "category_name         \n",
      "amazon             980\n",
      "imdb               989\n",
      "yelp               988\n"
     ]
    }
   ],
   "source": [
    "print(t1)"
   ]
  },
  {
   "cell_type": "code",
   "execution_count": 341,
   "metadata": {},
   "outputs": [
    {
     "data": {
      "text/plain": [
       "<BarContainer object of 3 artists>"
      ]
     },
     "execution_count": 341,
     "metadata": {},
     "output_type": "execute_result"
    },
    {
     "data": {
      "image/png": "[encoded data removed]",
      "text/plain": [
       "<Figure size 432x288 with 1 Axes>"
      ]
     },
     "metadata": {
      "needs_background": "light"
     },
     "output_type": "display_data"
    }
   ],
   "source": [
    "plt.bar(t1.index, t1['r_count'], color='g') #plt.bar"
   ]
  },
  {
   "cell_type": "code",
   "execution_count": 344,
   "metadata": {},
   "outputs": [
    {
     "data": {
      "text/plain": [
       "Text(0, 0.5, 'numbers')"
      ]
     },
     "execution_count": 344,
     "metadata": {},
     "output_type": "execute_result"
    },
    {
     "data": {
      "image/png": "[encoded data removed]",
      "text/plain": [
       "<Figure size 432x288 with 1 Axes>"
      ]
     },
     "metadata": {
      "needs_background": "light"
     },
     "output_type": "display_data"
    }
   ],
   "source": [
    "plt.bar(t1.index, t1['r_count'], color=['r','g','b'])\n",
    "plt.ylabel('numbers')"
   ]
  },
  {
   "cell_type": "code",
   "execution_count": 346,
   "metadata": {},
   "outputs": [
    {
     "data": {
      "text/plain": [
       "Text(0.5, 1.0, 'PieChart')"
      ]
     },
     "execution_count": 346,
     "metadata": {},
     "output_type": "execute_result"
    },
    {
     "data": {
      "image/png": "[encoded data removed]",
      "text/plain": [
       "<Figure size 432x288 with 1 Axes>"
      ]
     },
     "metadata": {},
     "output_type": "display_data"
    }
   ],
   "source": [
    "# easy to see the percentage of each category\n",
    "plt.pie(t1['r_count'], labels=t1.index, colors=['r','g','b'])\n",
    "plt.title('PieChart')"
   ]
  },
  {
   "cell_type": "code",
   "execution_count": 326,
   "metadata": {},
   "outputs": [
    {
     "name": "stdout",
     "output_type": "stream",
     "text": [
      "['00', '10', '100', '11', '12', '13', '15', '15g', '15pm', '17', '18', '18th', '1928', '1947', '1948', '1949', '1971', '1973', '1979', '1980', '1986', '1995', '1998', '20', '2000', '2005', '2006', '2007', '20th', '2160', '23', '24', '25', '2mp', '30', '30s', '325', '35', '350', '375', '3o', '40', '40min', '42', '44', '45', '4s', '4ths', '50', '5020', '510', '5320', '54', '5lb', '680', '70', '70000', '700w', '70s', '80', '80s', '8125', '85', '8525', '8530', '8pm', '90', '95', '99', 'aailiyah', 'abandoned', 'abhor', 'ability', 'able', 'abound', 'about', 'above', 'abroad', 'absolute', 'absolutel', 'absolutely', 'absolutley', 'abstruse', 'abysmal', 'ac', 'academy', 'accents', 'accept', 'acceptable', 'access', 'accessable', 'accessible', 'accessing', 'accessory', 'accessoryone', 'accident', 'accidentally', 'acclaimed', 'accolades', 'accommodations', 'accomodate', 'accompanied', 'according', 'accountant', 'accurate', 'accurately', 'accused', 'ache', 'achievement', 'achille', 'ackerman', 'acknowledged', 'across', 'act', 'acted', 'acting', 'action', 'actions', 'activate', 'activated', 'activesync', 'actor', 'actors', 'actress', 'actresses', 'actual', 'actually', 'ad', 'adams', 'adaptation', 'adapter', 'adapters', 'add', 'added', 'addition', 'additional', 'address', 'adhesive', 'admins', 'admiration', 'admitted', 'adorable', 'adrift', 'adventure', 'advertised', 'advise', 'aerial', 'aesthetically', 'affected', 'affleck', 'affordable', 'afraid', 'africa', 'after', 'afternoon', 'again', 'against', 'age', 'aged', 'ages', 'aggravating', 'ago', 'agree', 'agreed', 'ahead', 'aimless', 'air', 'aired', 'airline', 'airport', 'akasha', 'akin', 'ala', 'alarm', 'albondigas', 'alert', 'alexander', 'alike', 'all', 'allergy', 'allison', 'allot', 'allow', 'allowing', 'allows', 'almonds', 'almost', 'alone', 'along', 'alongside', 'alot', 'already', 'also', 'although', 'aluminum', 'always', 'am', 'amateurish', 'amaze', 'amazed', 'amazing', 'amazingly', 'amazon', 'ambiance', 'ambience', 'america', 'american', 'americans', 'among', 'amount', 'amp', 'ample', 'amusing', 'an', 'anatomist', 'and', 'andddd', 'angel', 'angela', 'angeles', 'angelina', 'angle', 'angles', 'angry', 'anguish', 'angus', 'animals', 'animated', 'animation', 'anita', 'ann', 'anne', 'anniversary', 'annoying', 'another', 'answer', 'ant', 'antena', 'anthony', 'anti', 'anticipated', 'antithesis', 'any', 'anymore', 'anyone', 'anything', 'anytime', 'anyway', 'anyways', 'anywhere', 'apart', 'apartment', 'apologize', 'apology', 'app', 'appalling', 'apparently', 'appealing', 'appearance', 'appears', 'appetite', 'appetizer', 'appetizers', 'applauded', 'applause', 'apple', 'applifies', 'appointments', 'appreciate', 'appropriate', 'approval', 'apt', 'are', 'area', 'aren', 'arepas', 'argued', 'arguing', 'aria', 'armageddon', 'armand', 'armband', 'around', 'array', 'arrival', 'arrived', 'arrives', 'arriving', 'art', 'article', 'articulated', 'artiness', 'artist', 'artistic', 'artless', 'arts', 'as', 'asia', 'aside', 'ask', 'asked', 'asking', 'asleep', 'aspect', 'aspects', 'ass', 'assante', 'assaulted', 'assistant', 'assumed', 'assure', 'astonishingly', 'astronaut', 'at', 'ate', 'atleast', 'atmosphere', 'atrocious', 'atrocity', 'att', 'attached', 'attack', 'attacked', 'attempt', 'attempted', 'attempting', 'attempts', 'attention', 'attentive', 'attitudes', 'attractive', 'audience', 'audio', 'auju', 'aurvåg', 'austen', 'austere', 'authentic', 'author', 'auto', 'available', 'average', 'aversion', 'avocado', 'avoid', 'avoided', 'avoiding', 'award', 'awarded', 'awards', 'away', 'awesome', 'awful', 'awkward', 'awkwardly', 'awsome', 'ayce', 'aye', 'az', 'baaaaaad', 'baba', 'babbling', 'babie', 'baby', 'babysitting', 'bachi', 'back', 'backdrop', 'backed', 'background', 'backlight', 'bacon', 'bad', 'badly', 'bag', 'bagels', 'bailey', 'bakery', 'baklava', 'balance', 'balanced', 'ball', 'ballet', 'balls', 'bamboo', 'banana', 'band', 'bank', 'bar', 'barcelona', 'bare', 'barely', 'bargain', 'barking', 'barney', 'barren', 'bars', 'bartender', 'bartenders', 'baseball', 'based', 'basement', 'basic', 'basically', 'bat', 'batch', 'bates', 'bathroom', 'bathrooms', 'batter', 'batteries', 'battery', 'baxendale', 'bay', 'bbq', 'be', 'bean', 'beans', 'bear', 'beat', 'beateous', 'beats', 'beautiful', 'beautifully', 'beauty', 'became', 'because', 'bechard', 'become', 'becomes', 'bed', 'beef', 'been', 'beep', 'beeping', 'beer', 'beers', 'before', 'began', 'begin', 'beginning', 'behind', 'behing', 'behold', 'being', 'bela', 'believable', 'believe', 'believed', 'bell', 'bellagio', 'bellies', 'bells', 'bellucci', 'belly', 'belmondo', 'below', 'belt', 'ben', 'bend', 'bendingly', 'bennett', 'bergen', 'bertolucci', 'besides', 'best', 'better', 'betty', 'between', 'beware', 'beyond', 'bible', 'big', 'bigger', 'biggest', 'bill', 'bills', 'billy', 'binge', 'biographical', 'bipolarity', 'bird', 'biscuit', 'biscuits', 'bisque', 'bit', 'bitches', 'bitchy', 'bite', 'bites', 'bitpim', 'bits', 'black', 'blackberry', 'blacktop', 'blah', 'blake', 'blame', 'bland', 'blandest', 'blandly', 'blanket', 'blare', 'blatant', 'blew', 'block', 'bloddy', 'blood', 'bloodiest', 'bloody', 'blow', 'blown', 'blows', 'blue', 'blueant', 'bluetoooth', 'bluetooth', 'bluetooths', 'blush', 'bmw', 'boasts', 'bob', 'boba', 'bodes', 'body', 'bohemian', 'boiled', 'boiling', 'bold', 'bombardments', 'bond', 'bonding', 'bone', 'bonus', 'bonuses', 'boobs', 'boogeyman', 'book', 'booking', 'boost', 'boot', 'bop', 'bordered', 'borderlines', 'borders', 'bore', 'bored', 'boring', 'borrowed', 'bose', 'boss', 'both', 'bother', 'bothersome', 'bottom', 'bottowm', 'bouchon', 'bought', 'bougth', 'bowl', 'box', 'boxes', 'boy', 'boyfriend', 'boyle', 'boys', 'brain', 'brainsucking', 'brand', 'brat', 'bread', 'break', 'breakage', 'breakfast', 'breaking', 'breaks', 'breeders', 'breeze', 'brevity', 'brian', 'brick', 'brief', 'brigand', 'bright', 'brilliance', 'brilliant', 'brilliantly', 'bring', 'brings', 'brisket', 'broad', 'broke', 'broken', 'brooding', 'brother', 'brought', 'brownish', 'browser', 'browsing', 'brunch', 'bruschetta', 'brushfire', 'brutal', 'bt', 'bt250v', 'bt50', 'bubbling', 'bucks', 'buddy', 'budget', 'buds', 'buffalo', 'buffet', 'buffets', 'bug', 'build', 'builders', 'building', 'buildings', 'built', 'buldogis', 'bulky', 'bullock', 'bully', 'bumpers', 'bunch', 'burger', 'burgers', 'burned', 'burrittos', 'burton', 'bus', 'business', 'businesses', 'bussell', 'busy', 'but', 'butter', 'button', 'buttons', 'buy', 'buyer', 'buyers', 'buying', 'buyit', 'by', 'bye', 'ca', 'caballero', 'cable', 'cables', 'caesar', 'cafe', 'café', 'cailles', 'cake', 'cakes', 'calamari', 'calendar', 'california', 'call', 'called', 'calligraphy', 'callings', 'calls', 'came', 'camelback', 'cameo', 'camera', 'camerawork', 'camp', 'campy', 'can', 'canada', 'canal', 'cancan', 'cancellation', 'cancelling', 'candace', 'candle', 'cannoli', 'cannot', 'cant', 'capability', 'capacity', 'cape', 'capers', 'captain', 'captured', 'captures', 'car', 'carbs', 'card', 'cardboard', 'cardellini', 'care', 'careful', 'caring', 'carly', 'carol', 'carpaccio', 'carrell', 'carried', 'carriers', 'carries', 'carry', 'cars', 'cart', 'cartel', 'cartoon', 'cartoons', 'case', 'cases', 'cash', 'cashew', 'cashier', 'casing', 'casino', 'cassette', 'cast', 'casted', 'casting', 'cat', 'catching', 'catchy', 'caterpillar', 'caught', 'cause', 'caused', 'causing', 'cavier', 'cbr', 'cds', 'ceases', 'celebration', 'celebrity', 'cell', 'cellphone', 'cellphones', 'cellular', 'celluloid', 'cent', 'center', 'centers', 'central', 'century', 'certain', 'certainly', 'cg', 'cgi', 'chai', 'chains', 'chalkboard', 'challenges', 'chance', 'change', 'changes', 'changing', 'channel', 'char', 'character', 'characterisation', 'characters', 'charcoal', 'charge', 'charged', 'charger', 'chargers', 'charges', 'charging', 'charisma', 'charismatic', 'charles', 'charlie', 'charm', 'charming', 'chase', 'chasing', 'cheap', 'cheaper', 'cheaply', 'cheapy', 'cheated', 'check', 'checked', 'checking', 'cheek', 'cheekbones', 'cheerfull', 'cheerless', 'cheese', 'cheeseburger', 'cheesecurds', 'cheesiness', 'cheesy', 'chef', 'chefs', 'chemistry', 'chewy', 'chick', 'chicken', 'chickens', 'child', 'childhood', 'children', 'childrens', 'chills', 'chilly', 'chimp', 'china', 'chinese', 'chip', 'chipolte', 'chipotle', 'chips', 'chocolate', 'chodorov', 'choice', 'choices', 'choked', 'choose', 'chosen', 'choux', 'chow', 'christmas', 'christopher', 'church', 'cibo', 'cinema', 'cinematic', 'cinematographers', 'cinematography', 'cingulair', 'cingular', 'circumstances', 'claimed', 'clarity', 'class', 'classic', 'classical', 'classics', 'classy', 'clean', 'clear', 'clearer', 'clearly', 'clever', 'cliche', 'clichés', 'clicks', 'clients', 'cliff', 'climax', 'climbing', 'clip', 'clipping', 'clips', 'clock', 'close', 'closed', 'clothes', 'club', 'clue', 'co', 'coach', 'coal', 'coastal', 'coaster', 'cocktail', 'cocktails', 'coconut', 'cod', 'coffee', 'coherent', 'cold', 'colder', 'cole', 'colleague', 'collect', 'collective', 'college', 'color', 'colored', 'colorful', 'colors', 'colours', 'columbo', 'combination', 'combo', 'combos', 'come', 'comedic', 'comedy', 'comes', 'comfort', 'comfortable', 'comfortably', 'comfortible', 'comforting', 'comical', 'coming', 'commands', 'comment', 'commentary', 'commented', 'comments', 'commercial', 'commercials', 'common', 'communicate', 'communication', 'communications', 'community', 'commuter', 'companions', 'company', 'comparably', 'compared', 'compelling', 'compete', 'competent', 'competitors', 'complain', 'complained', 'complaint', 'complaints', 'complete', 'completed', 'completely', 'complex', 'complexity', 'compliments', 'composed', 'composition', 'comprehensible', 'compromise', 'computer', 'con', 'concentrate', 'concept', 'conception', 'conceptually', 'concern', 'concerning', 'concerns', 'concert', 'conclusion', 'concrete', 'condescends', 'condiment', 'conditions', 'confidence', 'configuration', 'confirm', 'conflict', 'confortable', 'confuses', 'confusing', 'connect', 'connected', 'connecting', 'connection', 'connections', 'connery', 'connisseur', 'connoisseur', 'connor', 'conrad', 'consequences', 'consider', 'considerable', 'considered', 'considering', 'considers', 'consistent', 'consolations', 'constant', 'constantine', 'constantly', 'constructed', 'construction', 'consumer', 'contact', 'contacted', 'contacting', 'contacts', 'contain', 'contained', 'containers', 'containing', 'contains', 'content', 'continually', 'continuation', 'continue', 'continues', 'continuity', 'continuously', 'contract', 'contrast', 'contributing', 'contributory', 'contrived', 'control', 'controls', 'controversy', 'contstruct', 'convenient', 'convention', 'conversation', 'conversations', 'converter', 'convey', 'convince', 'convincing', 'convoluted', 'cook', 'cooked', 'cooking', 'cool', 'copier', 'coppola', 'copy', 'corded', 'cords', 'core', 'corn', 'corny', 'corporation', 'correct', 'correction', 'correctly', 'cost', 'costco', 'costs', 'costumes', 'cotta', 'cotton', 'could', 'couldn', 'couldnt', 'count', 'counter', 'counterfeit', 'couple', 'couples', 'coupon', 'coupons', 'course', 'court', 'courteous', 'courtroom', 'cover', 'coverage', 'covered', 'covers', 'cow', 'cowardice', 'cox', 'coziness', 'crab', 'crack', 'cracked', 'crackles', 'cradle', 'cradles', 'crafted', 'cramming', 'cranberry', 'crap', 'crappy', 'crash', 'crashed', 'craving', 'crawfish', 'crawl', 'crayon', 'crayons', 'crazy', 'creaks', 'cream', 'creamy', 'create', 'created', 'creates', 'creative', 'creativity', 'creature', 'credible', 'credit', 'credits', 'crema', 'crepe', 'crew', 'crime', 'crisp', 'crispy', 'critic', 'critical', 'crocdodile', 'crocs', 'cross', 'crostini', 'croutons', 'crowd', 'crowds', 'crowe', 'cruel', 'cruise', 'crumby', 'crust', 'crusty', 'cry', 'crystals', 'crêpe', 'cuisine', 'cult', 'culture', 'cumbersome', 'current', 'currently', 'curry', 'curtain', 'curve', 'custer', 'customer', 'customers', 'customize', 'cut', 'cute', 'cutest', 'cutie', 'cutouts', 'cuts', 'cutting', 'd807', 'dads', 'daily', 'damage', 'damian', 'damn', 'dance', 'dancing', 'dangerous', 'dark', 'darn', 'darren', 'data', 'date', 'dates', 'daughter', 'daughters', 'day', 'days', 'de', 'dead', 'deadly', 'deadpan', 'deaf', 'deal', 'dealing', 'dealt', 'death', 'debated', 'debbie', 'debits', 'debut', 'decade', 'decay', 'decent', 'decide', 'decided', 'decidely', 'decipher', 'decision', 'decisions', 'decor', 'decorated', 'dedicated', 'dedication', 'dee', 'deep', 'deeply', 'def', 'defeats', 'defect', 'defective', 'defensemen', 'deffinitely', 'definately', 'defined', 'definitely', 'definitly', 'degree', 'del', 'delay', 'delete', 'delicate', 'delicioso', 'delicious', 'deliciously', 'delight', 'delightful', 'delights', 'delish', 'deliver', 'delivered', 'delivering', 'delivers', 'delivery', 'denny', 'dependant', 'depending', 'depends', 'depicted', 'depicts', 'depressing', 'depth', 'derivative', 'describe', 'described', 'describes', 'describing', 'description', 'descriptions', 'desert', 'deserved', 'deserves', 'deserving', 'design', 'designed', 'designer', 'designs', 'desired', 'desperately', 'desperation', 'despicable', 'despised', 'despite', 'dessert', 'desserts', 'destination', 'destroy', 'destroying', 'detachable', 'detailed', 'detailing', 'details', 'deuchebaggery', 'develop', 'development', 'developments', 'device', 'devices', 'devine', 'di', 'diabetic', 'dialing', 'dialog', 'dialogs', 'dialogue', 'diaper', 'dickens', 'did', 'didn', 'die', 'died', 'dieing', 'difference', 'different', 'difficult', 'dignity', 'dime', 'dimensional', 'dine', 'dining', 'dinner', 'dinners', 'dipping', 'direct', 'directed', 'directing', 'direction', 'directions', 'directly', 'director', 'directorial', 'directors', 'dirt', 'dirty', 'disagree', 'disapoinment', 'disapointing', 'disappoint', 'disappointed', 'disappointing', 'disappointment', 'disapppointment', 'disaster', 'disbelief', 'discarded', 'discomfort', 'disconnected', 'discount', 'discovering', 'discovery', 'disgrace', 'disgraceful', 'disgust', 'disgusted', 'disgusting', 'dish', 'dishes', 'dislike', 'disliked', 'disney', 'disparate', 'dispenser', 'display', 'displeased', 'disposable', 'disrespected', 'dissapointed', 'dissapointing', 'distant', 'distinction', 'distorted', 'distract', 'distracting', 'distressed', 'disturbing', 'dit', 'diverse', 'diving', 'division', 'dna', 'do', 'docking', 'doctor', 'documentaries', 'documentary', 'dodge', 'does', 'doesn', 'dog', 'dogs', 'doing', 'dollar', 'dollars', 'dominated', 'don', 'done', 'donlevy', 'dont', 'donut', 'doomed', 'door', 'dos', 'dosen', 'double', 'doubt', 'douchey', 'dough', 'doughy', 'down', 'download', 'downloading', 'downright', 'downs', 'downside', 'downtown', 'dozen', 'dozens', 'dr', 'dracula', 'draft', 'drag', 'drago', 'drain', 'drained', 'drains', 'drama', 'dramatic', 'drastically', 'drawback', 'drawing', 'drawings', 'drawn', 'dream', 'dreamed', 'dreams', 'dreary', 'drenched', 'dressed', 'dressing', 'dribble', 'dried', 'driest', 'drift', 'drifting', 'drink', 'drinking', 'drinks', 'dripping', 'drive', 'driving', 'drivng', 'droid', 'drooling', 'drop', 'dropped', 'dropping', 'drops', 'drunk', 'dry', 'dual', 'duck', 'dude', 'due', 'duet', 'dull', 'dumb', 'dumbest', 'duo', 'duper', 'durable', 'during', 'duris', 'dusted', 'dustin', 'dustpan', 'dvd', 'dwight', 'dying', 'dylan', 'dysfunction', 'e2', 'e715', 'each', 'ear', 'earbud', 'earbuds', 'earbugs', 'eargels', 'earlier', 'early', 'earpad', 'earphone', 'earphones', 'earpiece', 'earpieces', 'ears', 'earset', 'earth', 'ease', 'easier', 'easily', 'easy', 'eat', 'eaten', 'eating', 'ebay', 'ebola', 'eccleston', 'echo', 'eclectic', 'ed', 'edge', 'edible', 'edinburgh', 'editing', 'edition', 'educational', 'edward', 'eel', 'eew', 'effect', 'effective', 'effects', 'efficient', 'effort', 'efforts', 'egg', 'eggplant', 'eggs', 'egotism', 'eighth', 'eiko', 'either', 'elaborately', 'elderly', 'electronics', 'elegant', 'elegantly', 'element', 'elias', 'elk', 'eloquently', 'else', 'elsewhere', 'email', 'embarassing', 'embarrassed', 'embarrassing', 'embassy', 'embedded', 'emerge', 'emilio', 'emily', 'emoting', 'emotion', 'emotionally', 'emotions', 'emperor', 'employee', 'employees', 'empowerment', 'emptiness', 'empty', 'en', 'enchanting', 'encourage', 'end', 'endearing', 'ended', 'ending', 'endlessly', 'ends', 'energetic', 'energy', 'engaging', 'engineered', 'english', 'enhanced', 'enjoy', 'enjoyable', 'enjoyed', 'enjoyment', 'enough', 'ensued', 'enter', 'enterprise', 'entertained', 'entertaining', 'entertainment', 'enthusiastic', 'entire', 'entirely', 'entrance', 'entrees', 'env', 'episode', 'episodes', 'equally', 'equipment', 'equivalent', 'era', 'ergonomic', 'ericson', 'ericsson', 'errol', 'errors', 'escalating', 'escapism', 'especially', 'essence', 'essentially', 'establish', 'established', 'establishment', 'estate', 'estevez', 'etc', 'ethic', 'europe', 'european', 'evaluate', 'eve', 'even', 'evening', 'event', 'events', 'eventually', 'ever', 'every', 'everybody', 'everyday', 'everyone', 'everything', 'everywhere', 'evidently', 'evil', 'evinced', 'evokes', 'exactly', 'exaggerating', 'example', 'excalibur', 'exceeding', 'exceeds', 'excelent', 'excellent', 'excellently', 'excels', 'except', 'exceptional', 'exceptionally', 'excerpts', 'excessive', 'excessively', 'exchange', 'exchanged', 'excited', 'exciting', 'exclaim', 'excruciatingly', 'excrutiatingly', 'excuse', 'excuses', 'executed', 'exemplars', 'exercise', 'existent', 'existential', 'existing', 'expanded', 'expansive', 'expect', 'expectations', 'expected', 'expecting', 'expensive', 'experience', 'experienced', 'experiences', 'experiencing', 'expert', 'explain', 'explains', 'explanation', 'exploit', 'explorations', 'explosion', 'expression', 'exquisite', 'extant', 'extended', 'extensive', 'exterior', 'exteriors', 'external', 'extra', 'extraneous', 'extraordinary', 'extremely', 'eye', 'eyed', 'eyes', 'fabulous', 'face', 'faceplates', 'faces', 'facial', 'facing', 'fact', 'factor', 'factory', 'fail', 'failed', 'fails', 'fair', 'fairly', 'faithful', 'falafels', 'fall', 'falling', 'falls', 'falsely', 'falwell', 'fame', 'famed', 'familiar', 'family', 'famous', 'fan', 'fanciful', 'fancy', 'fans', 'fantastic', 'fantasy', 'far', 'farce', 'fare', 'fascinated', 'fascinating', 'fascination', 'fashioned', 'fast', 'faster', 'fat', 'father', 'faultless', 'fausa', 'faux', 'fav', 'favor', 'favorite', 'favourite', 'fear', 'feature', 'features', 'fee', 'feel', 'feeling', 'feelings', 'feels', 'feet', 'feisty', 'fell', 'fella', 'fellow', 'fellowes', 'felt', 'female', 'females', 'ferry', 'fest', 'few', 'fi', 'fiancé', 'fields', 'fifteen', 'fifties', 'figure', 'figured', 'file', 'filet', 'fill', 'fillet', 'filling', 'film', 'filmed', 'filmiing', 'filmmaker', 'filmography', 'films', 'final', 'finale', 'finally', 'financial', 'find', 'finds', 'fine', 'finest', 'finger', 'fingernails', 'fingers', 'finish', 'finished', 'fire', 'fireball', 'firehouse', 'first', 'fish', 'fishnet', 'fisted', 'fit', 'fits', 'five', 'fixes', 'flag', 'flair', 'flakes', 'flaming', 'flash', 'flashbacks', 'flat', 'flavor', 'flavored', 'flavorful', 'flavorless', 'flavors', 'flavourful', 'flaw', 'flawed', 'flawless', 'flawlessly', 'flaws', 'fleshed', 'flick', 'flicks', 'flimsy', 'flip', 'flipphones', 'fliptop', 'flirting', 'floor', 'flop', 'floppy', 'flops', 'florida', 'flowed', 'flower', 'fluffy', 'flush', 'fly', 'flying', 'flynn', 'fm', 'fo', 'focus', 'focused', 'fodder', 'folks', 'follow', 'followed', 'following', 'follows', 'fond', 'fondue', 'food', 'foods', 'fooled', 'foolish', 'foot', 'footage', 'football', 'for', 'force', 'forced', 'forces', 'ford', 'foreign', 'foreigner', 'forever', 'forgeries', 'forget', 'forgettable', 'forgetting', 'forgot', 'forgotten', 'form', 'format', 'former', 'fort', 'forth', 'forty', 'forward', 'forwarded', 'found', 'four', 'fourth', 'fox', 'foxx', 'fraction', 'frances', 'francis', 'francisco', 'frankly', 'freaking', 'free', 'freedom', 'freeman', 'freeway', 'freezes', 'freezing', 'french', 'frenchman', 'frequently4', 'frequentyly', 'fresh', 'freshness', 'fridays', 'fried', 'friend', 'friendly', 'friends', 'friendship', 'fries', 'frightening', 'frog', 'from', 'front', 'frontier', 'frost', 'frozen', 'fruit', 'frustrated', 'frustration', 'fry', 'fs', 'ft', 'fucking', 'fulci', 'fulfilling', 'fulfills', 'full', 'fully', 'fumbling', 'fun', 'function', 'functional', 'functionality', 'functions', 'fundamental', 'funniest', 'funny', 'further', 'furthermore', 'future', 'fuzzy', 'fx', 'gabriel', 'gadget', 'gadgets', 'gain', 'gake', 'galley', 'gallon', 'game', 'games', 'ganoush', 'garage', 'garbage', 'garbled', 'garbo', 'garden', 'garfield', 'garlic', 'gas', 'gaudi', 'gave', 'gay', 'gc', 'geek', 'geeky', 'gels', 'gem', 'general', 'generally', 'generates', 'generic', 'generous', 'genius', 'genre', 'gentle', 'gently', 'genuine', 'genuinely', 'george', 'gerardo', 'gere', 'get', 'gets', 'getting', 'ghibili', 'giallo', 'giant', 'gibberish', 'gifted', 'gimmick', 'giovanni', 'girl', 'girlfriend', 'girls', 'girolamo', 'give', 'given', 'gives', 'giving', 'glad', 'glance', 'glare', 'glass', 'glasses', 'gloriously', 'glove', 'gloves', 'glued', 'gluten', 'go', 'goalies', 'goat', 'god', 'godfathers', 'goes', 'going', 'gold', 'golden', 'gone', 'gonna', 'good', 'good7', 'google', 'gooodd', 'gordon', 'gore', 'goremeister', 'gorman', 'gosh', 'got', 'goth', 'gotta', 'gotten', 'gourmet', 'government', 'grab', 'grace', 'grade', 'gradually', 'grain', 'grainy', 'grandmother', 'granted', 'graphics', 'grasp', 'grates', 'gratitude', 'gratuity', 'grease', 'greasy', 'great', 'greater', 'greatest', 'greatness', 'greedy', 'greek', 'green', 'greens', 'greenstreet', 'greeted', 'grew', 'grey', 'grill', 'grilled', 'grim', 'grimes', 'gringos', 'grip', 'gripping', 'gristle', 'grocery', 'groove', 'gross', 'grossed', 'ground', 'group', 'groups', 'grow', 'grtting', 'guacamole', 'guards', 'guess', 'guest', 'guests', 'guilt', 'gung', 'guy', 'guys', 'gx2', 'gyro', 'gyros', 'h500', 'ha', 'hackneyed', 'had', 'hadn', 'haggis', 'hair', 'hairsplitting', 'half', 'halfway', 'halibut', 'ham', 'hamburger', 'han', 'hand', 'handed', 'handheld', 'handle', 'handled', 'handles', 'handling', 'handmade', 'hands', 'handset', 'handsfree', 'handy', 'hang', 'hankering', 'hankies', 'hanks', 'happen', 'happened', 'happening', 'happens', 'happier', 'happiness', 'happy', 'hard', 'hardest', 'hardly', 'harris', 'has', 'hasn', 'hat', 'hate', 'hated', 'hatred', 'haul', 'haunt', 'have', 'haven', 'havilland', 'having', 'hawaiian', 'hay', 'hayao', 'hayworth', 'hbo', 'he', 'head', 'headbands', 'headphones', 'heads', 'headset', 'headsets', 'healthy', 'hear', 'heard', 'hearing', 'heart', 'hearts', 'heartwarming', 'heat', 'heaven', 'heavy', 'heche', 'heels', 'heimer', 'heist', 'held', 'helen', 'hell', 'hella', 'hellish', 'hello', 'helms', 'help', 'helped', 'helpful', 'helping', 'helps', 'hence', 'hendrikson', 'her', 'here', 'hereas', 'hernandez', 'hero', 'heroes', 'heroine', 'heroism', 'hes', 'hey', 'hi', 'hide', 'high', 'higher', 'highest', 'highlight', 'highlighted', 'highlights', 'highly', 'highy', 'hilarious', 'hill', 'hilt', 'him', 'hinge', 'hip', 'hiro', 'his', 'history', 'hit', 'hitch', 'hitchcock', 'hits', 'ho', 'hockey', 'hoffman', 'hold', 'holder', 'holding', 'holds', 'hole', 'holes', 'holiday', 'hollander', 'hollow', 'hollywood', 'holster', 'home', 'homemade', 'homework', 'honeslty', 'honest', 'honestly', 'honor', 'hook', 'hooked', 'hoot', 'hope', 'hoped', 'hopefully', 'hopeless', 'hopes', 'hoping', 'horrendous', 'horrendously', 'horrible', 'horrid', 'horrified', 'horror', 'horse', 'hospitality', 'host', 'hostess', 'hosting', 'hot', 'hottest', 'hour', 'hours', 'hoursthe', 'house', 'houses', 'how', 'howdy', 'howe', 'howell', 'however', 'hs850', 'huevos', 'huge', 'hugo', 'human', 'humanity', 'humans', 'humiliated', 'hummh', 'humming', 'hummus', 'humor', 'humorous', 'humour', 'hunan', 'hundred', 'hungry', 'hurry', 'hurt', 'husband', 'huston', 'hut', 'hybrid', 'hype', 'hypocrisy', 'iam', 'ians', 'ice', 'iced', 'idea', 'ideal', 'idealogical', 'identified', 'identifies', 'identify', 'idiot', 'idiotic', 'idyllic', 'if', 'iffy', 'ignore', 'ignored', 'igo', 'ill', 'im', 'imac', 'images', 'imaginable', 'imagination', 'imaginative', 'imagine', 'imagined', 'imdb', 'imitation', 'immediately', 'impact', 'impeccable', 'imperial', 'implausible', 'important', 'impossible', 'impressed', 'impression', 'impressive', 'improper', 'improve', 'improved', 'improvement', 'improvisation', 'impulse', 'in', 'inappropriate', 'incendiary', 'inch', 'inches', 'included', 'includes', 'including', 'incoming', 'incomprehensible', 'inconsiderate', 'inconsistencies', 'inconspicuous', 'incorrectness', 'increase', 'incrediable', 'incredible', 'incredibly', 'indeed', 'indescribably', 'indian', 'indicate', 'indication', 'indictment', 'indie', 'individual', 'indoor', 'indoors', 'indulgent', 'industrial', 'industry', 'ineptly', 'inexcusable', 'inexpensive', 'inexperience', 'inexplicable', 'infatuated', 'inflate', 'inform', 'informative', 'infra', 'infuriating', 'ingredients', 'initially', 'innocence', 'insane', 'insanely', 'insert', 'inside', 'insincere', 'insipid', 'insomniacs', 'inspiration', 'inspired', 'inspiring', 'install', 'installed', 'instance', 'instant', 'instantly', 'instead', 'instruction', 'instructions', 'instruments', 'insulin', 'insult', 'insulted', 'insults', 'intangibles', 'integral', 'integrated', 'integration', 'intelligence', 'intelligent', 'intended', 'intense', 'intensity', 'intentions', 'interacting', 'interest', 'interested', 'interesting', 'interface', 'interim', 'interior', 'intermittently', 'internet', 'interplay', 'interpretations', 'interview', 'into', 'intoning', 'intrigued', 'invented', 'inventive', 'investment', 'inviting', 'involved', 'involves', 'involving', 'iphone', 'ipod', 'ipods', 'iq', 'ir', 'irda', 'ireland', 'iriver', 'ironically', 'ironman', 'irons', 'ironside', 'irritating', 'is', 'ishioka', 'isn', 'issue', 'issues', 'it', 'italian', 'item', 'items', 'its', 'itself', 'ive', 'jabra', 'jabra350', 'jack', 'jaclyn', 'jalapeno', 'jamaican', 'james', 'jamie', 'japanese', 'jason', 'jawbone', 'jay', 'jealousy', 'jean', 'jeff', 'jenni', 'jennifer', 'jerk', 'jerks', 'jerky', 'jerry', 'jessica', 'jessice', 'jet', 'jewel', 'jiggle', 'jim', 'jimmy', 'job', 'jobs', 'joe', 'joey', 'john', 'join', 'joins', 'joint', 'joke', 'jokes', 'jonah', 'jones', 'journey', 'joy', 'joyce', 'juano', 'judge', 'judging', 'judith', 'judo', 'juice', 'julian', 'june', 'junk', 'junkyard', 'juries', 'just', 'justice', 'jutland', 'jx', 'kabuki', 'kanaly', 'kathy', 'keen', 'keep', 'keeping', 'keeps', 'keira', 'keith', 'kept', 'kevin', 'key', 'keyboard', 'keypad', 'keypads', 'keys', 'khao', 'kid', 'kiddos', 'kidnapped', 'kids', 'kieslowski', 'kill', 'killer', 'killing', 'killings', 'kind', 'kinda', 'kindle', 'kirk', 'kitchen', 'kitchy', 'kits', 'knew', 'knightley', 'knock', 'knocked', 'know', 'known', 'knows', 'koteas', 'kris', 'kristoffersen', 'krussel', 'kudos', 'l7c', 'la', 'labute', 'lack', 'lacked', 'lacking', 'lacks', 'ladies', 'lady', 'lame', 'lance', 'land', 'landscapes', 'lane', 'lange', 'lap', 'laptop', 'large', 'largely', 'larger', 'las', 'laselva', 'lassie', 'last', 'lasted', 'lasting', 'lastly', 'lasts', 'latch', 'latched', 'late', 'lately', 'later', 'latest', 'latifa', 'latin', 'latte', 'latter', 'laugh', 'laughable', 'laughed', 'laughing', 'laughs', 'law', 'lawyers', 'layers', 'lazy', 'lead', 'leading', 'leaf', 'leaks', 'leap', 'learn', 'learned', 'least', 'leather', 'leave', 'leaves', 'leaving', 'lee', 'left', 'leftover', 'legal', 'legendary', 'legit', 'legs', 'lemon', 'length', 'leni', 'lense', 'leopard', 'less', 'lesser', 'lesson', 'lestat', 'let', 'letdown', 'lets', 'letting', 'lettuce', 'level', 'levels', 'lewis', 'lg', 'lid', 'lie', 'lies', 'lieutenant', 'life', 'lifetime', 'light', 'lighter', 'lighting', 'lightly', 'lights', 'lightweight', 'like', 'liked', 'likes', 'liking', 'lil', 'lilli', 'lilt', 'limitations', 'limited', 'linda', 'line', 'linear', 'lined', 'lines', 'linked', 'linking', 'linksys', 'lino', 'lion', 'list', 'listed', 'listener', 'listening', 'lit', 'literally', 'littered', 'little', 'live', 'lived', 'lives', 'living', 'll', 'loads', 'lobster', 'local', 'located', 'location', 'locations', 'lock', 'locked', 'locks', 'loewenhielm', 'logic', 'logitech', 'london', 'loneliness', 'long', 'longer', 'look', 'looked', 'looking', 'looks', 'loop', 'loops', 'loose', 'loosely', 'looses', 'lord', 'lordy', 'los', 'lose', 'losing', 'lost', 'lot', 'lots', 'loud', 'louder', 'loudest', 'loudly', 'loudspeaker', 'lousy', 'lovable', 'love', 'loved', 'lovely', 'lover', 'lovers', 'loves', 'loving', 'low', 'lower', 'lox', 'loyal', 'loyalty', 'lucio', 'luck', 'lucy', 'lugosi', 'luke', 'lukewarm', 'lunch', 'lust', 'luv', 'lyrics', 'mac', 'macarons', 'macbeth', 'machine', 'mad', 'made', 'madhouse', 'madison', 'magazine', 'magic', 'magical', 'magnetic', 'magnificent', 'mail', 'main', 'maine', 'mainly', 'mains', 'maintain', 'maintaining', 'maintains', 'major', 'majority', 'make', 'maker', 'makers', 'makes', 'making', 'male', 'males', 'mall', 'malta', 'man', 'managed', 'management', 'manager', 'manages', 'mandalay', 'mango', 'manna', 'mansonites', 'manual', 'manufacturer', 'many', 'marbles', 'march', 'margaritas', 'maria', 'marine', 'marion', 'mark', 'market', 'marred', 'marriage', 'marrow', 'martin', 'martini', 'mary', 'masculine', 'masculinity', 'massive', 'master', 'masterful', 'masterpiece', 'masterpieces', 'match', 'material', 'matrix', 'matter', 'matthews', 'mature', 'max', 'may', 'maybe', 'mayo', 'mchattie', 'mclaglen', 'me', 'meagre', 'meal', 'meals', 'mean', 'meanders', 'meaning', 'meanings', 'means', 'meant', 'meat', 'meatballs', 'meatloaf', 'meats', 'mechanism', 'media', 'medical', 'mediocre', 'mediterranean', 'medium', 'meet', 'mega', 'megapixels', 'meh', 'mein', 'meld', 'mellow', 'melodrama', 'melt', 'melted', 'melville', 'member', 'members', 'memorable', 'memories', 'memorized', 'memory', 'menace', 'menacing', 'mention', 'mentioned', 'menu', 'menus', 'mercy', 'mere', 'meredith', 'merit', 'mesmerising', 'mesquite', 'mess', 'message', 'messages', 'messaging', 'messes', 'metal', 'meteorite', 'metro', 'mexican', 'mgm', 'mic', 'michael', 'mickey', 'microphone', 'microsoft', 'mid', 'middle', 'might', 'mighty', 'mile', 'military', 'milk', 'milkshake', 'min', 'mind', 'mindblowing', 'mine', 'miner', 'mini', 'minor', 'mins', 'minute', 'minutes', 'mirage', 'mirrormask', 'miserable', 'miserably', 'mishima', 'misleading', 'misplace', 'miss', 'missed', 'missing', 'mistake', 'mistakes', 'mixed', 'miyazaki', 'mmmm', 'mobile', 'mode', 'model', 'modern', 'modest', 'moist', 'mojitos', 'mollusk', 'mom', 'moment', 'moments', 'momentum', 'money', 'monica', 'monkeys', 'monolog', 'monotonous', 'monster', 'monstrous', 'month', 'months', 'monumental', 'mood', 'moods', 'moral', 'more', 'morgan', 'morning', 'morons', 'mortified', 'most', 'mostly', 'mother', 'motion', 'motivations', 'moto', 'motor', 'motorola', 'motorolas', 'mountain', 'mouse', 'mouth', 'mouthful', 'mouths', 'move', 'moved', 'movements', 'moves', 'movie', 'movies', 'moving', 'moz', 'mozzarella', 'mp3', 'mp3s', 'ms', 'mst3k', 'much', 'muddled', 'muddy', 'muffin', 'muffled', 'multi', 'multiple', 'muppets', 'murder', 'murdered', 'murdering', 'murky', 'mushroom', 'mushrooms', 'music', 'musician', 'mussels', 'must', 'mute', 'my', 'myself', 'mystifying', 'naan', 'nachos', 'naked', 'name', 'nan', 'nano', 'nargile', 'narration', 'narrative', 'nasty', 'national', 'nationalities', 'native', 'natural', 'nature', 'naughty', 'navigate', 'nay', 'nc', 'near', 'nearly', 'neat', 'necklace', 'need', 'needed', 'needless', 'needlessly', 'needs', 'negative', 'negatively', 'negligent', 'negulesco', 'neighborhood', 'neighbour', 'neil', 'neither', 'nerves', 'nervous', 'net', 'netflix', 'network', 'never', 'nevertheless', 'nevsky', 'new', 'next', 'ngage', 'nice', 'nicely', 'nicer', 'nicest', 'nicola', 'night', 'nightmare', 'nigiri', 'nimoy', 'nine', 'ninja', 'no', 'noble', 'nobody', 'nobu', 'noca', 'noir', 'noise', 'noises', 'nokia', 'non', 'none', 'nonetheless', 'nonsense', 'noodles', 'nor', 'normal', 'normally', 'north', 'northern', 'nostalgia', 'not', 'notable', 'notch', 'note', 'noted', 'noteworthy', 'nothing', 'notice', 'noticed', 'novella', 'now', 'nude', 'number', 'numbers', 'numerous', 'nun', 'nuns', 'nurse', 'nut', 'nuts', 'nutshell', 'nyc', 'obliged', 'obsessed', 'obvious', 'obviously', 'occasional', 'occasionally', 'occasions', 'occupied', 'occur', 'occurs', 'odd', 'oem', 'of', 'off', 'offend', 'offensive', 'offer', 'offered', 'offering', 'offers', 'official', 'officially', 'often', 'oh', 'ohhh', 'oil', 'ok', 'okay', 'old', 'olde', 'older', 'ole', 'olives', 'olivia', 'omelets', 'omg', 'omit', 'on', 'once', 'one', 'ones', 'onion', 'online', 'only', 'oozes', 'open', 'opened', 'opening', 'opens', 'operas', 'operate', 'operates', 'operation', 'opinion', 'opportunity', 'opposed', 'optimal', 'option', 'options', 'or', 'ordeal', 'order', 'ordered', 'ordering', 'orders', 'organizational', 'oriented', 'original', 'originality', 'originally', 'origins', 'ortolani', 'os', 'oscar', 'other', 'others', 'otherwise', 'otto', 'ought', 'our', 'ourselves', 'out', 'outdoor', 'outgoing', 'outlandish', 'outlet', 'outlets', 'outperform', 'outrageously', 'outshining', 'outside', 'outstanding', 'outta', 'outward', 'oven', 'over', 'overacting', 'overall', 'overcome', 'overcooked', 'overdue', 'overhaul', 'overly', 'overnight', 'overnite', 'overpriced', 'overs', 'overt', 'overwhelmed', 'overwrought', 'owed', 'owls', 'own', 'owned', 'owner', 'owners', 'owning', 'owns', 'oy', 'oysters', 'pace', 'paced', 'pacing', 'pack', 'package', 'packaged', 'packed', 'pad', 'pads', 'paid', 'pain', 'painful', 'painfully', 'paint', 'painted', 'pair', 'paired', 'pairing', 'palance', 'palate', 'pale', 'palm', 'palms', 'palmtop', 'pan', 'pancake', 'pancakes', 'pandering', 'panna', 'pans', 'pants', 'paolo', 'pap', 'paper', 'papers', 'par', 'paradise', 'parents', 'park', 'parker', 'part', 'partaking', 'particular', 'particularly', 'parties', 'parts', 'party', 'passed', 'passion', 'past', 'pasta', 'pastas', 'pastry', 'patent', 'pathetic', 'patient', 'patio', 'patriotism', 'patron', 'pats', 'patty', 'paul', 'pause', 'pay', 'paying', 'pc', 'pcs', 'pda', 'peach', 'peachy', 'peaking', 'peanut', 'peanuts', 'pearls', 'pears', 'peas', 'pecan', 'peculiarity', 'pedestal', 'peeling', 'pencil', 'penne', 'penny', 'pens', 'people', 'pepper', 'perabo', 'perfect', 'perfected', 'perfection', 'perfectly', 'performance', 'performances', 'performed', 'performing', 'perhaps', 'period', 'periodically', 'periods', 'perpared', 'perplexing', 'person', 'personable', 'personalities', 'personally', 'peter', 'petrified', 'petroleum', 'petty', 'pg', 'phantasm', 'phenomenal', 'philadelphia', 'philippa', 'pho', 'phoenix', 'phone', 'phones', 'phony', 'photo', 'photograph', 'photography', 'phrase', 'physical', 'pi', 'piano', 'picked', 'pics', 'picture', 'pictures', 'piece', 'pieces', 'pile', 'pillow', 'pine', 'pineapple', 'pink', 'pissd', 'pita', 'pitch', 'pitiful', 'pixar', 'pixel', 'pizza', 'pizzas', 'place', 'placed', 'places', 'plain', 'plan', 'plane', 'planned', 'planning', 'plans', 'plantains', 'plantronics', 'plantronincs', 'plants', 'plastic', 'plate', 'plater', 'platter', 'play', 'played', 'player', 'players', 'playing', 'plays', 'pleasant', 'pleasantly', 'please', 'pleased', 'pleaser', 'pleasing', 'pleasure', 'pleather', 'pledge', 'plenty', 'plethora', 'plmer', 'plot', 'plug', 'plugged', 'plugs', 'plus', 'pm', 'pneumatic', 'pocket', 'pockets', 'poet', 'poetry', 'poignant', 'point', 'pointillistic', 'pointless', 'poised', 'poisoning', 'poler', 'polite', 'political', 'politically', 'politics', 'ponyo', 'poop', 'poor', 'poorly', 'pop', 'popcorn', 'popular', 'pork', 'port', 'portable', 'portion', 'portions', 'portraits', 'portrayal', 'portrayals', 'portrayed', 'portraying', 'positive', 'possesed', 'possibility', 'possible', 'possibly', 'post', 'posted', 'postinos', 'potato', 'potatoes', 'potentially', 'potted', 'poured', 'powdered', 'power', 'powerful', 'powerhouse', 'practical', 'practically', 'practice', 'pray', 'precisely', 'predict', 'predictable', 'predictably', 'prefer', 'preferably', 'prejudice', 'prelude', 'premise', 'premium', 'prepare', 'prepared', 'preparing', 'presence', 'presentation', 'presents', 'preservation', 'president', 'pretentious', 'pretext', 'prettier', 'pretty', 'prevents', 'previous', 'price', 'priced', 'prices', 'pricey', 'pricing', 'primal', 'primary', 'prime', 'print', 'privileged', 'probably', 'problem', 'problems', 'procedure', 'procedures', 'proceedings', 'process', 'proclaimed', 'produce', 'produced', 'producer', 'producers', 'product', 'production', 'products', 'professional', 'professionals', 'professor', 'profiterole', 'profound', 'program', 'progresses', 'promise', 'promised', 'promote', 'prompt', 'prompted', 'promptly', 'prone', 'propaganda', 'properly', 'pros', 'protected', 'protection', 'protective', 'protector', 'protects', 'proud', 'proudly', 'proven', 'provide', 'provided', 'provides', 'providing', 'provokes', 'provoking', 'ps', 'ps3', 'pseudo', 'psyched', 'psychological', 'psychotic', 'pub', 'public', 'publicly', 'pucks', 'puff', 'pull', 'pulled', 'pulling', 'pulls', 'pumpkin', 'punched', 'punches', 'punish', 'punishment', 'puppet', 'puppets', 'purcashed', 'purchase', 'purchased', 'purchases', 'purchasing', 'pure', 'puree', 'purity', 'purpose', 'puréed', 'push', 'pushed', 'put', 'putting', 'puzzle', 'pyromaniac', 'quaid', 'quaint', 'qualified', 'qualities', 'quality', 'quantity', 'question', 'questioning', 'quick', 'quicker', 'quickly', 'quiet', 'quinn', 'quit', 'quite', 'québec', 'qwerty', 'r450', 'race', 'racial', 'racism', 'radiant', 'raging', 'ramsey', 'ranch', 'rancheros', 'random', 'randomly', 'range', 'ranks', 'rapidly', 'rare', 'rarely', 'raspberry', 'rate', 'rated', 'rather', 'rating', 'ratings', 'ratio', 'rave', 'raver', 'raving', 'ravoli', 'raw', 'ray', 'razor', 'razr', 're', 'reach', 'reaching', 'reactions', 'read', 'readers', 'reading', 'ready', 'real', 'realised', 'realistic', 'reality', 'realize', 'realized', 'really', 'reason', 'reasonable', 'reasonably', 'reasons', 'reboots', 'recall', 'reccomendation', 'reccommend', 'receipt', 'receive', 'received', 'receives', 'receiving', 'recent', 'recently', 'reception', 'recessed', 'recharge', 'recieve', 'recognition', 'recognizes', 'recommend', 'recommendation', 'recommended', 'recommending', 'reconciliation', 'recover', 'recurring', 'red', 'redeemed', 'redeeming', 'reduction', 'reenactments', 'references', 'refill', 'reflected', 'refrained', 'refreshing', 'refried', 'refund', 'refurb', 'refuse', 'refused', 'regarding', 'regardless', 'register', 'regret', 'regrettable', 'regrettably', 'regretted', 'regular', 'regularly', 'reheated', 'rejection', 'relate', 'related', 'relation', 'relations', 'relationship', 'relationships', 'relative', 'relatively', 'relax', 'relaxed', 'relaxing', 'release', 'released', 'reliability', 'relief', 'relleno', 'relocated', 'relying', 'remaining', 'remake', 'remarkable', 'remember', 'reminded', 'reminds', 'remorse', 'remotely', 'removing', 'rendering', 'renders', 'rendition', 'renowned', 'rent', 'reoccure', 'repair', 'repeated', 'repeating', 'repeats', 'repertory', 'replace', 'replaced', 'replacement', 'replacementr', 'replenished', 'reporter', 'represents', 'requested', 'require', 'requirements', 'rescue', 'research', 'researched', 'reservation', 'resistant', 'resolution', 'resounding', 'respect', 'respecting', 'rest', 'restaraunt', 'restart', 'restaurant', 'restaurants', 'restocking', 'restored', 'restrained', 'rests', 'result', 'results', 'resume', 'retarded', 'retreat', 'return', 'returned', 'returning', 'revealing', 'revenge', 'revere', 'reverse', 'reversible', 'review', 'reviewer', 'reviewers', 'reviewing', 'reviews', 'revisiting', 'rge', 'ri', 'rib', 'ribeye', 'rice', 'rick', 'rickman', 'ride', 'ridiculous', 'ridiculousness', 'right', 'riingtones', 'ring', 'ringer', 'ringing', 'rings', 'ringtones', 'rinse', 'riot', 'rip', 'ripped', 'rips', 'rise', 'risk', 'risotto', 'rita', 'rivalry', 'riveted', 'riz', 'road', 'roam', 'roast', 'roasted', 'robert', 'robotic', 'rochon', 'rock', 'rocked', 'rocketed', 'rocks', 'roeg', 'role', 'roles', 'roll', 'rolled', 'roller', 'rolls', 'romantic', 'room', 'roosevelt', 'rotating', 'roth', 'rough', 'round', 'routine', 'row', 'rowdy', 'rpg', 'rpger', 'rubber', 'rubbish', 'rubin', 'rude', 'rudely', 'rumbles', 'run', 'running', 'runs', 'rushed', 'ruthless', 'ryan', 'ryans', 's11', 's710a', 'sabotages', 'sack', 'sacrifice', 'sad', 'sadly', 'saffron', 'saganaki', 'saggy', 'said', 'sake', 'salad', 'salads', 'salesman', 'salmon', 'sals', 'salsa', 'salt', 'salty', 'sam', 'same', 'sample', 'samsung', 'san', 'sand', 'sandra', 'sandwich', 'sandwiches', 'sangria', 'sanyo', 'sappiest', 'sarcophage', 'sashimi', 'sat', 'satanic', 'satifying', 'satisfied', 'satisfying', 'satisifed', 'sauce', 'sauces', 'sause', 'savalas', 'savant', 'save', 'saved', 'saving', 'savor', 'saw', 'say', 'saying', 'says', 'scale', 'scallop', 'scamp', 'scare', 'scared', 'scares', 'scary', 'scene', 'scenery', 'scenes', 'sch', 'schilling', 'schizophrenic', 'school', 'schoolers', 'schrader', 'schultz', 'sci', 'science', 'scientist', 'score', 'scot', 'scottsdale', 'scratch', 'scratched', 'scream', 'screams', 'screamy', 'screen', 'screened', 'screenplay', 'screens', 'screenwriter', 'screwed', 'scrimm', 'script', 'scripted', 'scripting', 'scripts', 'sculpture', 'sea', 'seafood', 'seal', 'seamless', 'seamlessly', 'sean', 'searched', 'season', 'seasonal', 'seasoned', 'seasoning', 'seat', 'seated', 'seating', 'second', 'secondary', 'secondly', 'seconds', 'section', 'secure', 'securely', 'securly', 'see', 'seeen', 'seeing', 'seem', 'seemed', 'seems', 'seen', 'selection', 'selections', 'self', 'seller', 'sells', 'semi', 'send', 'sending', 'senior', 'sense', 'senses', 'sensibility', 'sensitive', 'sensitivities', 'sensor', 'sent', 'sentiment', 'seperate', 'seperated', 'sequel', 'sequels', 'sequence', 'sequences', 'sergeant', 'series', 'serious', 'seriously', 'serivce', 'serve', 'served', 'server', 'servers', 'serves', 'service', 'services', 'serving', 'set', 'sets', 'setting', 'settings', 'setup', 'seuss', 'sever', 'several', 'severe', 'sewer', 'sex', 'sexy', 'shakespear', 'shakespears', 'shall', 'shallow', 'shame', 'shameful', 'shape', 'share', 'sharing', 'sharp', 'sharply', 'shatner', 'shattered', 'shawarrrrrrma', 'she', 'shed', 'sheer', 'shelf', 'shell', 'shelves', 'shenanigans', 'shepard', 'shield', 'shifting', 'shine', 'shined', 'shiny', 'shipment', 'shipped', 'shipping', 'shirley', 'shirt', 'shocked', 'shocking', 'shoe', 'shooters', 'shooting', 'shoots', 'shop', 'shopping', 'shops', 'short', 'shortlist', 'shot', 'shots', 'should', 'shouldn', 'shouldve', 'shouting', 'show', 'showcasing', 'showed', 'shower', 'shows', 'shrimp', 'shut', 'sibling', 'sick', 'side', 'sidelined', 'sides', 'sight', 'sign', 'signal', 'signals', 'significant', 'significantly', 'signs', 'silent', 'silently', 'silly', 'sim', 'similar', 'similarly', 'simmering', 'simple', 'simpler', 'simplifying', 'simply', 'since', 'sincere', 'sing', 'singing', 'single', 'sinister', 'sink', 'sinking', 'sins', 'sister', 'sisters', 'sit', 'sitcoms', 'site', 'sites', 'sits', 'sitting', 'situation', 'situations', 'six', 'size', 'sizes', 'sketchy', 'skilled', 'skimp', 'skip', 'skype', 'slackers', 'slavic', 'slaw', 'sleek', 'sleep', 'sliced', 'slices', 'slid', 'slide', 'slider', 'slideshow', 'sliding', 'slightest', 'slightly', 'slim', 'slimy', 'slipping', 'sloppy', 'slow', 'slowly', 'slurs', 'smack', 'small', 'smaller', 'smallest', 'smart', 'smartphone', 'smashburger', 'smeared', 'smell', 'smelled', 'smells', 'smile', 'smiling', 'smith', 'smoke', 'smoking', 'smooth', 'smoother', 'smoothies', 'smoothly', 'smudged', 'snap', 'snider', 'snow', 'snug', 'so', 'soap', 'sobering', 'social', 'soft', 'software', 'soggy', 'soi', 'sold', 'soldiers', 'sole', 'solid', 'solidify', 'solidifying', 'solving', 'some', 'somehow', 'someone', 'somethat', 'something', 'sometimes', 'somewhat', 'somewhere', 'son', 'song', 'songs', 'sony', 'soon', 'sooner', 'soooo', 'sooooo', 'soooooo', 'sophisticated', 'sore', 'sorely', 'sorrentino', 'sorry', 'sort', 'sos', 'soul', 'sound', 'sounded', 'sounds', 'soundtrack', 'soup', 'soups', 'sour', 'source', 'sources', 'south', 'southern', 'southwest', 'soyo', 'space', 'spacek', 'spacey', 'spaghetti', 'span', 'speak', 'speaker', 'speakerphone', 'speaking', 'special', 'specially', 'specials', 'specs', 'speed', 'speedy', 'spend', 'spends', 'spent', 'spew', 'sphere', 'spice', 'spices', 'spicier', 'spicy', 'spiffy', 'spinach', 'spinn', 'splendid', 'spock', 'spoil', 'spoiled', 'spoiler', 'spoilers', 'sporting', 'spot', 'spots', 'spotty', 'spring', 'sprint', 'sprouts', 'spy', 'squibs', 'stable', 'staff', 'stage', 'stagey', 'stagy', 'stale', 'stand', 'standard', 'standout', 'stanwyck', 'star', 'starlet', 'starring', 'stars', 'start', 'startac', 'started', 'starter', 'starts', 'starving', 'state', 'stated', 'static', 'station', 'stay', 'stayed', 'staying', 'stays', 'steak', 'steakhouse', 'steaks', 'stealing', 'steamboat', 'steele', 'steep', 'steer', 'steiners', 'step', 'stephen', 'stepped', 'stereo', 'stereotypes', 'stereotypically', 'steve', 'stewart', 'stick', 'sticks', 'still', 'stinker', 'stinks', 'stir', 'stocking', 'stockings', 'stoic', 'stomach', 'stood', 'stop', 'stopped', 'stops', 'storage', 'store', 'stories', 'storm', 'story', 'storyline', 'storytelling', 'stowe', 'strange', 'stranger', 'strangers', 'strap', 'stratus', 'straw', 'strawberry', 'stream', 'street', 'strength', 'stress', 'stretch', 'strident', 'strike', 'string', 'strings', 'strip', 'strives', 'strokes', 'strong', 'struck', 'struggle', 'stuart', 'stuck', 'student', 'students', 'studio', 'study', 'stuff', 'stuffed', 'stunning', 'stupid', 'stupidity', 'sturdiness', 'sturdy', 'style', 'styles', 'styling', 'stylish', 'stylized', 'styrofoam', 'sub', 'subject', 'subjects', 'sublime', 'sublimely', 'submerged', 'subpar', 'subplots', 'subtitles', 'subtle', 'subversive', 'subverting', 'subway', 'succeeded', 'succeeds', 'success', 'succulent', 'such', 'suck', 'sucked', 'sucker', 'sucks', 'sudden', 'suddenly', 'suffered', 'suffering', 'suffers', 'sugar', 'sugary', 'suggest', 'suggestions', 'suggests', 'suited', 'sum', 'summarize', 'summary', 'summer', 'sun', 'sunday', 'sundays', 'sunglasses', 'super', 'superb', 'superbad', 'superbly', 'superfast', 'superficial', 'superlative', 'supernatural', 'supertooth', 'support', 'supporting', 'supposed', 'supposedly', 'suprised', 'sure', 'surefire', 'surely', 'surf', 'surface', 'surprise', 'surprised', 'surprises', 'surprising', 'surprisingly', 'surrounding', 'surroundings', 'survived', 'survivors', 'sushi', 'suspense', 'suspension', 'sven', 'swamp', 'sweep', 'sweet', 'sweetest', 'switch', 'switched', 'swivel', 'swords', 'swung', 'sydney', 'sympathetic', 'sync', 'synchronization', 'syrupy', 'system', 'table', 'tables', 'tacky', 'taco', 'tacos', 'taelons', 'tailored', 'take', 'taken', 'takeout', 'takes', 'taking', 'tale', 'talent', 'talented', 'talents', 'talk', 'talking', 'tanks', 'tap', 'tapas', 'tape', 'taped', 'tardis', 'tartar', 'tartare', 'task', 'taste', 'tasted', 'tasteless', 'tastings', 'tasty', 'tater', 'taxidermists', 'taylor', 'tea', 'teacher', 'teaches', 'team', 'teamwork', 'tear', 'tears', 'tech', 'technically', 'technology', 'teddy', 'tedium', 'teen', 'teenagers', 'teeth', 'telephone', 'television', 'tell', 'telly', 'temp', 'temperaments', 'ten', 'tender', 'tenders', 'tension', 'tensions', 'tepid', 'terminology', 'terms', 'terrible', 'terribly', 'terrific', 'terror', 'texas', 'text', 'texture', 'th', 'thai', 'than', 'thank', 'thanks', 'that', 'thats', 'the', 'theater', 'theatre', 'theatres', 'theatrical', 'theft', 'their', 'them', 'theme', 'themes', 'themselves', 'then', 'theory', 'therapy', 'there', 'thereplacement', 'these', 'they', 'thick', 'thin', 'thing', 'things', 'think', 'thinking', 'thinly', 'third', 'thirty', 'this', 'thomerson', 'thorn', 'thoroughly', 'thorsen', 'those', 'though', 'thought', 'thoughts', 'thousand', 'thread', 'three', 'threshold', 'threw', 'thrilled', 'thriller', 'thrillers', 'through', 'throughout', 'throwback', 'thrown', 'thru', 'thug', 'thumbs', 'thumper', 'thunderbirds', 'thus', 'tick', 'ticker', 'tickets', 'ticking', 'tied', 'tigerlilly', 'tight', 'time', 'timeframe', 'timeless', 'timely', 'timers', 'times', 'timing', 'tinny', 'tiny', 'tip', 'tips', 'tiramisu', 'tired', 'title', 'titta', 'tmobile', 'to', 'toactivate', 'toast', 'toasted', 'today', 'together', 'toilet', 'told', 'tolerable', 'tolerance', 'tolerate', 'tom', 'tomato', 'tomorrow', 'tone', 'tones', 'tongue', 'tonight', 'tons', 'tony', 'too', 'took', 'tool', 'tools', 'toons', 'tooth', 'top', 'topic', 'tops', 'toro', 'torture', 'tortured', 'total', 'totally', 'tots', 'touch', 'touched', 'touches', 'touching', 'tough', 'towards', 'towers', 'town', 'townsend', 'tracfone', 'tracfonewebsite', 'track', 'tracked', 'tracking', 'tract', 'traditional', 'traffic', 'tragedy', 'trailer', 'train', 'tranquillity', 'transceiver', 'transcend', 'transcendant', 'transfer', 'transfers', 'transformed', 'translate', 'translating', 'transmission', 'transmit', 'transmitters', 'trap', 'trash', 'trashy', 'travled', 'treachery', 'treasure', 'treat', 'treated', 'treatments', 'trek', 'tremendous', 'tremendously', 'treo', 'tribute', 'tricky', 'tried', 'tries', 'trilogy', 'trimmed', 'trinity', 'trip', 'trippy', 'trips', 'triumphed', 'trond', 'trooper', 'trouble', 'truck', 'true', 'truffle', 'truly', 'trumbull', 'trumpeter', 'trunk', 'trust', 'truth', 'try', 'trying', 'trysts', 'tsunami', 'tucson', 'tummy', 'tuna', 'tuneful', 'tungsten', 'turkey', 'turn', 'turned', 'turns', 'tv', 'twice', 'twirling', 'twist', 'twists', 'two', 'tying', 'type', 'typical', 'ue', 'ugliest', 'ugly', 'uhura', 'ultra', 'um', 'unacceptable', 'unacceptible', 'unaccompanied', 'unbearable', 'unbearably', 'unbelievable', 'unbelievably', 'uncalled', 'uncomfortable', 'unconditional', 'unconvincing', 'under', 'underacting', 'underappreciated', 'underbite', 'undercooked', 'underlines', 'underlying', 'underneath', 'underrated', 'understand', 'understanding', 'understated', 'understatement', 'understood', 'undertone', 'underwater', 'underwhelming', 'undoubtedly', 'uneasy', 'unemployed', 'unethical', 'unexperienced', 'unfaithful', 'unfolds', 'unforgettable', 'unfortunate', 'unfortunately', 'unfunny', 'unhappy', 'unhealthy', 'uninspired', 'unintelligible', 'unintentionally', 'uninteresting', 'union', 'unique', 'uniqueness', 'unit', 'units', 'universal', 'universe', 'unknown', 'unless', 'unlike', 'unlockable', 'unmatched', 'unmitigated', 'unmoving', 'unnecessary', 'unneeded', 'unoriginal', 'unpleasant', 'unpredictability', 'unpredictable', 'unprofessional', 'unreal', 'unrealistic', 'unrecognizable', 'unrecommended', 'unreliable', 'unremarkable', 'unrestrained', 'unsatisfactory', 'unsatisfying', 'until', 'untoasted', 'unusable', 'unwatchable', 'unwelcome', 'unwrapped', 'up', 'upa', 'upbeat', 'update', 'upgrade', 'upgrading', 'uplifting', 'upload', 'uploaded', 'upper', 'ups', 'upstairs', 'uptight', 'ursula', 'us', 'usable', 'usage', 'usb', 'use', 'used', 'useful', 'usefulness', 'useless', 'user', 'uses', 'using', 'ussr', 'usual', 'usually', 'utter', 'utterly', 'v1', 'v265', 'v325i', 'v3c', 'v3i', 'vacant', 'vain', 'valentine', 'valley', 'value', 'values', 'vampire', 'vandiver', 'vanilla', 'variation', 've', 'veal', 'vegan', 'vegas', 'vegetables', 'vegetarian', 'veggie', 'veggitarian', 'vehicle', 'vehicles', 'velvet', 'ventilation', 'ventura', 'venture', 'venturing', 'venue', 'verbal', 'verbatim', 'verge', 'verizon', 'versatile', 'version', 'versus', 'very', 'vessel', 'veteran', 'vey', 'via', 'vibe', 'victor', 'video', 'videos', 'view', 'viewer', 'viewing', 'views', 'villain', 'villains', 'vinaigrette', 'vinegrette', 'violence', 'violin', 'violinists', 'virgin', 'virtue', 'virus', 'vision', 'visit', 'visited', 'visor', 'visual', 'visually', 'vitally', 'vivian', 'vivid', 'vocal', 'vodka', 'voice', 'volatile', 'volcano', 'voltage', 'volume', 'vomit', 'vomited', 'voodoo', 'voted', 'voyage', 'vulcan', 'vx', 'vx9900', 'w810i', 'waaaaaayyyyyyyyyy', 'waaay', 'wagyu', 'wait', 'waited', 'waiter', 'waiting', 'waitress', 'waitresses', 'wake', 'walk', 'walked', 'walkman', 'wall', 'wallet', 'walls', 'want', 'wanted', 'wanting', 'wants', 'war', 'warm', 'warmer', 'warmth', 'warn', 'warning', 'warnings', 'warranty', 'wartime', 'warts', 'was', 'wash', 'washed', 'washing', 'wasn', 'waste', 'wasted', 'waster', 'wasting', 'watch', 'watchable', 'watched', 'watching', 'water', 'watered', 'waterproof', 'watkins', 'watson', 'wave', 'way', 'waylaid', 'wayne', 'ways', 'wayyy', 'wb', 'we', 'weak', 'weaker', 'wear', 'weariness', 'wearing', 'weaving', 'web', 'website', 'websites', 'wedding', 'wedges', 'week', 'weekend', 'weekly', 'weeks', 'weight', 'weird', 'welcome', 'well', 'welsh', 'went', 'were', 'weren', 'what', 'whatever', 'whatsoever', 'whelm', 'when', 'whenever', 'where', 'whether', 'which', 'while', 'whine', 'whiny', 'whistles', 'white', 'whites', 'who', 'whoa', 'whoever', 'whole', 'wholesome', 'whom', 'whose', 'why', 'wi', 'wide', 'widmark', 'wienerschnitzel', 'wife', 'wih', 'wild', 'wildly', 'wilkinson', 'will', 'william', 'willie', 'wily', 'win', 'wind', 'window', 'windows', 'wine', 'wines', 'wings', 'winner', 'wiping', 'wire', 'wired', 'wirefly', 'wireless', 'wise', 'wish', 'wit', 'with', 'within', 'without', 'witnessed', 'witticisms', 'witty', 'woa', 'wobbly', 'women', 'won', 'wonder', 'wondered', 'wonderful', 'wonderfully', 'wong', 'wont', 'wontons', 'woo', 'wood', 'wooden', 'word', 'words', 'work', 'worked', 'worker', 'workers', 'working', 'works', 'world', 'worn', 'worries', 'worry', 'worse', 'worst', 'worth', 'worthless', 'worthwhile', 'worthy', 'would', 'wouldn', 'wouldnt', 'wound', 'woven', 'wow', 'wrap', 'wrapped', 'write', 'writer', 'writers', 'writing', 'written', 'wrong', 'wrongly', 'wrote', 'ya', 'yama', 'yardley', 'yawn', 'yay', 'yeah', 'year', 'years', 'yell', 'yellow', 'yellowtail', 'yelpers', 'yelps', 'yes', 'yet', 'you', 'young', 'younger', 'your', 'yourself', 'youthful', 'youtube', 'yucky', 'yukon', 'yum', 'yummy', 'yun', 'z500a', 'zero', 'zillion', 'zombie', 'zombiez']\n",
      "(2957, 5148)\n"
     ]
    }
   ],
   "source": [
    "from sklearn.feature_extraction.text import TfidfVectorizer\n",
    "corpus = data[\"sentence\"]\n",
    "vectorizer = TfidfVectorizer()\n",
    "X = vectorizer.fit_transform(corpus)\n",
    "print(vectorizer.get_feature_names())\n",
    "print(X.shape)"
   ]
  },
  {
   "cell_type": "code",
   "execution_count": 327,
   "metadata": {},
   "outputs": [],
   "source": [
    "from sklearn.datasets import make_classification\n",
    "from sklearn.naive_bayes import BernoulliNB\n",
    "from sklearn.model_selection import train_test_split\n",
    "\n",
    "nb_samples = 300\n",
    "X, Y = make_classification(n_samples=nb_samples, n_features=2, n_informative=2, n_redundant=0)"
   ]
  },
  {
   "cell_type": "code",
   "execution_count": 328,
   "metadata": {},
   "outputs": [
    {
     "data": {
      "text/plain": [
       "0.96"
      ]
     },
     "execution_count": 328,
     "metadata": {},
     "output_type": "execute_result"
    }
   ],
   "source": [
    "X_train, X_test, Y_train, Y_test = train_test_split(X, Y, test_size=0.25)\n",
    "\n",
    "bnb = BernoulliNB(binarize=0.0)\n",
    "bnb.fit(X_train, Y_train)\n",
    "bnb.score(X_test, Y_test)"
   ]
  },
  {
   "cell_type": "code",
   "execution_count": 329,
   "metadata": {},
   "outputs": [],
   "source": [
    "data1 = np.array(data[\"category\"])"
   ]
  },
  {
   "cell_type": "code",
   "execution_count": 330,
   "metadata": {},
   "outputs": [],
   "source": [
    "from sklearn.naive_bayes import GaussianNB\n",
    "from sklearn.naive_bayes import MultinomialNB\n",
    "from sklearn.linear_model import LogisticRegression \n",
    "from sklearn.metrics import roc_curve, auc\n",
    "from sklearn.model_selection import train_test_split\n",
    "\n",
    "X_train, X_test, Y_train, Y_test = train_test_split(X, Y, test_size=0.25)\n",
    "gnb = GaussianNB()\n",
    "gnb.fit(X_train, Y_train)\n",
    "Y_gnb_score = gnb.predict_proba(X_test)\n",
    "lr = LogisticRegression() \n",
    "lr.fit(X_train, Y_train)\n",
    "Y_lr_score = lr.decision_function(X_test)\n",
    "fpr_gnb, tpr_gnb, thresholds_gnb = roc_curve(Y_test, Y_gnb_score[:, 1])\n",
    "fpr_lr, tpr_lr, thresholds_lr = roc_curve(Y_test, Y_lr_score)"
   ]
  },
  {
   "cell_type": "code",
   "execution_count": 331,
   "metadata": {},
   "outputs": [
    {
     "name": "stdout",
     "output_type": "stream",
     "text": [
      "0.8113904407200497\n",
      "0.8797858472998138\n"
     ]
    }
   ],
   "source": [
    "from sklearn.datasets import load_digits\n",
    "from sklearn.model_selection import cross_val_score\n",
    "\n",
    "digits = load_digits()\n",
    "\n",
    "gnb = GaussianNB()\n",
    "mnb = MultinomialNB()\n",
    "\n",
    "print(cross_val_score(gnb, digits.data, digits.target, scoring='accuracy', cv=10).mean())\n",
    "\n",
    "print(cross_val_score(mnb, digits.data, digits.target, scoring='accuracy', cv=10).mean())"
   ]
  },
  {
   "cell_type": "markdown",
   "metadata": {},
   "source": [
    "# Part 4"
   ]
  },
  {
   "cell_type": "markdown",
   "metadata": {},
   "source": [
    "The course go through very quickly. So I think at the very beginning, we did not talk about why we choose those 4 categories. And I think if we have time for next course, we can try to use more different tools to do the same thing, like use different tools to make same plot."
   ]
  }
 ],
 "metadata": {
  "kernelspec": {
   "display_name": "Python 3",
   "language": "python",
   "name": "python3"
  },
  "language_info": {
   "codemirror_mode": {
    "name": "ipython",
    "version": 3
   },
   "file_extension": ".py",
   "mimetype": "text/x-python",
   "name": "python",
   "nbconvert_exporter": "python",
   "pygments_lexer": "ipython3",
   "version": "3.7.6"
  }
 },
 "nbformat": 4,
 "nbformat_minor": 2
}
